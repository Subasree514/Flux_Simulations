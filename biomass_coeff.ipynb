{
 "cells": [
  {
   "cell_type": "code",
   "execution_count": 23,
   "metadata": {},
   "outputs": [],
   "source": [
    "from __future__ import division, print_function, absolute_import\n",
    "import csv\n",
    "import pandas\n",
    "from cobra.flux_analysis import (\n",
    "    single_gene_deletion, single_reaction_deletion, double_gene_deletion,\n",
    "    double_reaction_deletion)\n",
    "import os\n",
    "import xml.etree.ElementTree as etree\n",
    "import cobra\n",
    "import numpy as np\n",
    "from itertools import chain\n",
    "from cobra.util import solver as sutil\n",
    "from cobra.core.solution import get_solution\n",
    "from optlang.symbolics import add, Zero\n",
    "import pandas as pd\n",
    "import os\n",
    "from os.path import join\n",
    "import matplotlib.pyplot as plt\n",
    "from cobra.medium import minimal_medium\n",
    "# Press ⌃R to execute it or replace it with your code.\n",
    "# Press Double ⇧ to search everywhere for classes, files, tool windows, actions, and settings.\n",
    "from cobra.flux_analysis import production_envelope\n",
    "from cobra import Model, Reaction, Metabolite\n",
    "from cobra.flux_analysis import flux_variability_analysis\n",
    "import matplotlib.pyplot as plt\n",
    "from cobra.io import load_json_model, save_json_model, load_matlab_model, save_matlab_model, read_sbml_model, write_sbml_model\n",
    "import math"
   ]
  },
  {
   "cell_type": "code",
   "execution_count": 24,
   "metadata": {},
   "outputs": [],
   "source": [
    "model_rs = read_sbml_model('beta_day_RS_DM_r.xml')\n",
    "core_model=model_rs"
   ]
  },
  {
   "cell_type": "code",
   "execution_count": 25,
   "metadata": {},
   "outputs": [],
   "source": [
    "a=[]\n",
    "a=core_model.reactions.get_by_id('AraCore_Biomass_tx').reactants\n"
   ]
  },
  {
   "cell_type": "code",
   "execution_count": 26,
   "metadata": {},
   "outputs": [
    {
     "data": {
      "text/html": [
       "<h3>AraCore_Biomass_tx</h3><p>0.0963597332263 4_AMINO_BUTYRATE_c + 0.88 CAII_v + 5.24035317082 CELLULOSE_c + 0.263720758392 CIT_c + 0.00569181000938 FUM_c + 0.348854342472 GLN_c + 0.31716192467 GLT_c + 0.35252680768 GLYCEROL_3P_c + 1.8 KI_v + 0.455157519671 L_ALPHA_ALANINE_c + 0.0936480692493 L_ASPARTATE_c + 0.429658909266 MAL_c + 0.58 MGII_v + 0.7711523918 PALMITATE_c + 0.737378316406 STARCH_p + 0.140570808172 SUCROSE_c + 0.0664569505509 SUC_c + 1.13494168432 XYLAN_c + 0.456109633051 pALA_c + 0.248708916305 pARG_c + 0.244231166515 pASN_c + 0.244231166515 pASP_c + 0.294390076845 pGLN_c + 0.294390076845 pGLU_c + 0.206565786551 pGLY_c + 0.0787758328997 pHIS_c + 0.164930826186 pILE_c + 0.359404209428 pLEU_c + 0.25644187977 pLYS_c + 0.108683911354 pMET_c + 0.237379330463 pPHE_c + 0.364526466737 pSER_c + 0.206565786551 pTHR_c + 0.165404065972 pTYR_c + 0.312041920884 pVAL_c --> </p><p>Bounds: 0.0, 1000.0</p><p>Flux: 0.3309</p>"
      ],
      "text/plain": [
       "<cobra.summary.reaction_summary.ReactionSummary at 0x180adcd70>"
      ]
     },
     "execution_count": 26,
     "metadata": {},
     "output_type": "execute_result"
    }
   ],
   "source": [
    "core_model.reactions.get_by_id('AraCore_Biomass_tx').summary()\n"
   ]
  },
  {
   "cell_type": "code",
   "execution_count": 27,
   "metadata": {},
   "outputs": [],
   "source": [
    "b=[]\n",
    "a=core_model.reactions.get_by_id('AraCore_Biomass_tx').metabolites\n",
    "for key in a:\n",
    "    b.append(a[key])"
   ]
  },
  {
   "cell_type": "code",
   "execution_count": 28,
   "metadata": {},
   "outputs": [],
   "source": [
    "c=[]\n",
    "for i in a:\n",
    "    #print(i)\n",
    "    c.append(core_model.metabolites.get_by_id(i.id).formula_weight)"
   ]
  },
  {
   "cell_type": "code",
   "execution_count": 29,
   "metadata": {},
   "outputs": [],
   "source": [
    "df=pd.DataFrame(b,dtype='float',index=list(a))\n",
    "df.columns=['s']\n",
    "df['for_weight']=c\n",
    "df['weight']=-1*df['for_weight']*df['s']"
   ]
  },
  {
   "cell_type": "code",
   "execution_count": 30,
   "metadata": {},
   "outputs": [],
   "source": [
    "biomass_factor=df['weight'].sum()"
   ]
  },
  {
   "cell_type": "code",
   "execution_count": 31,
   "metadata": {},
   "outputs": [],
   "source": [
    "df['new_coeff']=df['s']/biomass_factor\n",
    "met_list=df.index\n",
    "coef=df['new_coeff']"
   ]
  },
  {
   "cell_type": "code",
   "execution_count": 32,
   "metadata": {},
   "outputs": [],
   "source": [
    "core_model.reactions.remove('AraCore_Biomass_tx')\n",
    "##\n",
    "reaction = Reaction('AraCore_Biomass_tx')\n",
    "reaction.name = 'Arabidopsis biomass'\n",
    "reaction.lower_bound = 0.  \n",
    "reaction.upper_bound = 1000.  \n",
    "#Add reaction to the model\n",
    "core_model.add_reactions([reaction])"
   ]
  },
  {
   "cell_type": "code",
   "execution_count": 33,
   "metadata": {},
   "outputs": [
    {
     "name": "stderr",
     "output_type": "stream",
     "text": [
      "/var/folders/yl/47vnp0617dn9zfv19_vrxwjh0000gn/T/ipykernel_65493/2126473507.py:2: FutureWarning: Series.__getitem__ treating keys as positions is deprecated. In a future version, integer keys will always be treated as labels (consistent with DataFrame behavior). To access a value by position, use `ser.iloc[pos]`\n",
      "  core_model.reactions.get_by_id('AraCore_Biomass_tx').add_metabolites({met_list[i]:coef[i]})\n"
     ]
    }
   ],
   "source": [
    "for i in range(len(coef)):\n",
    "    core_model.reactions.get_by_id('AraCore_Biomass_tx').add_metabolites({met_list[i]:coef[i]})"
   ]
  },
  {
   "cell_type": "code",
   "execution_count": 34,
   "metadata": {},
   "outputs": [],
   "source": [
    "##Constraints\n",
    "rubisco = core_model.problem.Constraint(3 * core_model.reactions.get_by_id(\"RXN_961_p\").flux_expression - core_model.reactions.get_by_id(\"RIBULOSE_BISPHOSPHATE_CARBOXYLASE_RXN_p\").flux_expression,lb=0, ub=0,)\n",
    "core_model.add_cons_vars([rubisco])\n",
    "\n",
    "atp = core_model.problem.Constraint((0.0049*core_model.reactions.get_by_id(\"Photon_tx\").flux_expression+2.7851)-core_model.reactions.get_by_id(\"ATPase_tx\").flux_expression, lb=0, ub=0)\n",
    "core_model.add_cons_vars(atp)\n",
    "\n",
    "atp_nadph_03 = core_model.problem.Constraint(3 * (core_model.reactions.get_by_id(\"NADPHoxm_tx\").flux_expression + core_model.reactions.get_by_id(\"NADPHoxc_tx\").flux_expression + core_model.reactions.get_by_id(\"NADPHoxp_tx\").flux_expression) - core_model.reactions.get_by_id(\"ATPase_tx\").flux_expression, lb=0, ub=0)\n",
    "core_model.add_cons_vars(atp_nadph_03)"
   ]
  },
  {
   "cell_type": "code",
   "execution_count": 35,
   "metadata": {},
   "outputs": [
    {
     "data": {
      "text/html": [
       "<h3>AraCore_Biomass_tx</h3><p>4.1957882413541066e-05 4_AMINO_BUTYRATE_c + 0.0003831780691754609 CAII_v + 0.002281805011127627 CELLULOSE_c + 0.00011483183068424407 CIT_c + 2.478382692622489e-06 FUM_c + 0.00015190151519533628 GLN_c + 0.00013810169762616315 GLT_c + 0.0001535006153402403 GLYCEROL_3P_c + 0.0007837733233134428 KI_v + 0.00019818906767980188 L_ALPHA_ALANINE_c + 4.077714358745071e-05 L_ASPARTATE_c + 0.0001870862173370232 MAL_c + 0.00025254918195655374 MGII_v + 0.00033578259605677557 PALMITATE_c + 0.00032107636310489 STARCH_p + 6.120869415656938e-05 SUCROSE_c + 2.893732499475335e-05 SUC_c + 0.0004941872309369126 XYLAN_c + 0.00019860364605092066 pALA_c + 0.00010829522992780819 pARG_c + 0.0001063454850201002 pASN_c + 0.0001063454850201002 pASP_c + 0.00012818616048850304 pGLN_c + 0.00012818616048850304 pGLU_c + 8.994486278218474e-05 pGLY_c + 3.430133130476795e-05 pHIS_c + 7.18157676425739e-05 pILE_c + 0.0001564952397979023 pLEU_c + 0.00011166239130226624 pLYS_c + 4.732419466257122e-05 pMET_c + 0.00010336199262383637 pPHE_c + 0.00015872562237231424 pSER_c + 8.994486278218474e-05 pTHR_c + 7.202183026468354e-05 pTYR_c + 0.00013587229630242394 pVAL_c --> </p><p>Bounds: 0.0, 1000.0</p><p>Flux: 494.4</p>"
      ],
      "text/plain": [
       "<cobra.summary.reaction_summary.ReactionSummary at 0x1804dc890>"
      ]
     },
     "execution_count": 35,
     "metadata": {},
     "output_type": "execute_result"
    }
   ],
   "source": [
    "core_model.reactions.get_by_id('AraCore_Biomass_tx').summary()\n"
   ]
  },
  {
   "cell_type": "code",
   "execution_count": 36,
   "metadata": {},
   "outputs": [],
   "source": [
    "write_sbml_model(core_model,'beta_day_RS_DM_new.xml')"
   ]
  },
  {
   "cell_type": "code",
   "execution_count": 37,
   "metadata": {},
   "outputs": [],
   "source": [
    "### For Arabidopsis biomass\n",
    "test_model=core_model\n",
    "reaction = Reaction('Arabidopsis_biomass_tx')\n",
    "reaction.name = 'Arabidopsis biomass'\n",
    "reaction.lower_bound = 0.  \n",
    "reaction.upper_bound = 1000.  \n",
    "#Add reaction to the model\n",
    "test_model.add_reactions([reaction])\n",
    "##\n",
    "df_new = pd.read_csv(\"/Users/subasrees/Desktop/core_model_test/Biomass_coefficients.csv\")\n",
    "\n",
    "#Get a list with the metabolite IDs from the generic model\n",
    "met_list = []\n",
    "\n",
    "for id in df_new.loc[:,\"Ids\"]:\n",
    "    met = test_model.metabolites.get_by_id(id)\n",
    "    met_list.append(met)\n",
    "\n",
    "#Create a list with the coefficients\n",
    "coef = list(df_new.loc[:,\"Arabidopsis\"])\n",
    "\n",
    "df_new.index=df_new['Ids']\n",
    "df_new.drop(columns=['Ids','Maize'],inplace=True)\n",
    "df_new.columns=['s']\n"
   ]
  },
  {
   "cell_type": "code",
   "execution_count": 38,
   "metadata": {},
   "outputs": [],
   "source": [
    "a=df_new.index\n",
    "c=[]\n",
    "for i in a:\n",
    "    #print(i)\n",
    "    c.append(test_model.metabolites.get_by_id(i).formula_weight)"
   ]
  },
  {
   "cell_type": "code",
   "execution_count": 39,
   "metadata": {},
   "outputs": [],
   "source": [
    "df_new['for_weight']=c\n",
    "df_new['weight']=-1*df_new['for_weight']*df_new['s']"
   ]
  },
  {
   "cell_type": "code",
   "execution_count": 40,
   "metadata": {},
   "outputs": [],
   "source": [
    "biomass_coeff=df_new['weight'].sum()\n",
    "df_new['new_coeff']=df_new['s']/biomass_coeff"
   ]
  },
  {
   "cell_type": "code",
   "execution_count": 41,
   "metadata": {},
   "outputs": [
    {
     "name": "stderr",
     "output_type": "stream",
     "text": [
      "/var/folders/yl/47vnp0617dn9zfv19_vrxwjh0000gn/T/ipykernel_65493/2971470442.py:7: FutureWarning: Series.__getitem__ treating keys as positions is deprecated. In a future version, integer keys will always be treated as labels (consistent with DataFrame behavior). To access a value by position, use `ser.iloc[pos]`\n",
      "  test_model.reactions.get_by_id('Arabidopsis_biomass_tx').add_metabolites({met_list_new[i]:coef_new[i]})\n"
     ]
    }
   ],
   "source": [
    "test_model.objective = \"Arabidopsis_biomass_tx\"\n",
    "test_model.reactions.remove('AraCore_Biomass_tx')\n",
    "coef_new=df_new['new_coeff']\n",
    "met_list_new=df_new.index\n",
    "#Add metabolites to the model: dictionary - keys are metabolites and values are the coefficients\n",
    "for i in range(len(coef_new)):\n",
    "    test_model.reactions.get_by_id('Arabidopsis_biomass_tx').add_metabolites({met_list_new[i]:coef_new[i]})\n",
    "\n"
   ]
  },
  {
   "cell_type": "code",
   "execution_count": 42,
   "metadata": {},
   "outputs": [],
   "source": [
    "#df.to_csv('/Users/subasrees/Desktop/old_biomass.csv')\n",
    "#core_model=test_model\n",
    "#write_sbml_model(core_model,'beta_day_RS_DM_new.xml')"
   ]
  },
  {
   "cell_type": "code",
   "execution_count": 43,
   "metadata": {},
   "outputs": [],
   "source": [
    "##Constraints\n",
    "rubisco = test_model.problem.Constraint(3 * test_model.reactions.get_by_id(\"RXN_961_p\").flux_expression - test_model.reactions.get_by_id(\"RIBULOSE_BISPHOSPHATE_CARBOXYLASE_RXN_p\").flux_expression,lb=0, ub=0,)\n",
    "test_model.add_cons_vars([rubisco])\n",
    "\n",
    "atp = test_model.problem.Constraint((0.0049*test_model.reactions.get_by_id(\"Photon_tx\").flux_expression+2.7851)-test_model.reactions.get_by_id(\"ATPase_tx\").flux_expression, lb=0, ub=0)\n",
    "test_model.add_cons_vars(atp)\n",
    "\n",
    "atp_nadph_03 = test_model.problem.Constraint(3 * (test_model.reactions.get_by_id(\"NADPHoxm_tx\").flux_expression + test_model.reactions.get_by_id(\"NADPHoxc_tx\").flux_expression + test_model.reactions.get_by_id(\"NADPHoxp_tx\").flux_expression) - test_model.reactions.get_by_id(\"ATPase_tx\").flux_expression, lb=0, ub=0)\n",
    "test_model.add_cons_vars(atp_nadph_03)"
   ]
  },
  {
   "cell_type": "code",
   "execution_count": 44,
   "metadata": {},
   "outputs": [
    {
     "data": {
      "text/html": [
       "<h3>Arabidopsis_biomass_tx</h3><p>0.00020095553284564207 ARG_c + 0.0001898172937891673 ASN_c + 0.0008206936554404733 CELLULOSE_c + 1.3356587426425656e-06 CTP_p + 8.373109532438672e-05 CYS_c + 1.832191876739113e-06 DATP_p + 1.0861678733192964e-06 DCTP_p + 9.993896152939702e-07 DGTP_p + 1.864212357722693e-06 DTTP_c + 3.2383495324843375e-05 FRU_c + 4.972241125783936e-05 GLC_c + 0.0001379419205714712 GLN_c + 0.0003131928706746074 GLT_c + 0.0007358870210238744 GLY_c + 1.0891816030963218e-06 GTP_c + 8.945372489484314e-05 HIS_c + 0.00024170601348214604 ILE_c + 0.0004272212311481745 LEU_c + 0.000278749326595282 LYS_c + 0.0006206892393820143 L_ALPHA_ALANINE_c + 0.0002718730708623377 L_ASPARTATE_c + 7.021854910313723e-06 MALTOSE_c + 0.00013722108246865954 MAL_c + 9.045112332093658e-05 MET_c + 6.99607706434888e-05 PALMITATE_c + 0.00017937330781689882 PHE_c + 0.0002907055146840719 PRO_c + 0.00039688882415238335 SER_c + 0.0007130617007523914 STARCH_p + 8.252241534925547e-05 SUCROSE_c + 0.00036778673112330387 THR_c + 4.5396548500144376e-05 TRP_c + 0.00012654614512496977 TYR_c + 0.0003935800025491343 VAL_c --> </p><p>Bounds: 0.0, 1000.0</p><p>Flux: 477</p>"
      ],
      "text/plain": [
       "<cobra.summary.reaction_summary.ReactionSummary at 0x180512fc0>"
      ]
     },
     "execution_count": 44,
     "metadata": {},
     "output_type": "execute_result"
    }
   ],
   "source": [
    "test_model.reactions.get_by_id('Arabidopsis_biomass_tx').summary()\n"
   ]
  }
 ],
 "metadata": {
  "kernelspec": {
   "display_name": "qiime2-2023.9",
   "language": "python",
   "name": "python3"
  },
  "language_info": {
   "codemirror_mode": {
    "name": "ipython",
    "version": 3
   },
   "file_extension": ".py",
   "mimetype": "text/x-python",
   "name": "python",
   "nbconvert_exporter": "python",
   "pygments_lexer": "ipython3",
   "version": "3.12.2"
  },
  "orig_nbformat": 4
 },
 "nbformat": 4,
 "nbformat_minor": 2
}
