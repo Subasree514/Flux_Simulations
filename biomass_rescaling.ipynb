{
 "cells": [
  {
   "cell_type": "code",
   "execution_count": 1,
   "metadata": {},
   "outputs": [],
   "source": [
    "from __future__ import division, print_function, absolute_import\n",
    "import csv\n",
    "import pandas\n",
    "from cobra.flux_analysis import (\n",
    "    single_gene_deletion, single_reaction_deletion, double_gene_deletion,\n",
    "    double_reaction_deletion)\n",
    "import os\n",
    "import xml.etree.ElementTree as etree\n",
    "import cobra\n",
    "import numpy as np\n",
    "from itertools import chain\n",
    "from cobra.util import solver as sutil\n",
    "from cobra.core.solution import get_solution\n",
    "from optlang.symbolics import add, Zero\n",
    "import pandas as pd\n",
    "import os\n",
    "from os.path import join\n",
    "import matplotlib.pyplot as plt\n",
    "from cobra.medium import minimal_medium\n",
    "from cobra.flux_analysis import production_envelope\n",
    "from cobra import Model, Reaction, Metabolite\n",
    "from cobra.flux_analysis import flux_variability_analysis\n",
    "import matplotlib.pyplot as plt\n",
    "from cobra.io import load_json_model, save_json_model, load_matlab_model, save_matlab_model, read_sbml_model, write_sbml_model\n",
    "import math"
   ]
  },
  {
   "cell_type": "code",
   "execution_count": 2,
   "metadata": {},
   "outputs": [
    {
     "name": "stdout",
     "output_type": "stream",
     "text": [
      "Set parameter Username\n",
      "Academic license - for non-commercial use only - expires 2025-08-16\n"
     ]
    }
   ],
   "source": [
    "model_rs = read_sbml_model('/Users/subasrees/Desktop/Core_Model_Simulations/beta_day_RS_DM_r.xml')\n",
    "core_model=model_rs"
   ]
  },
  {
   "cell_type": "code",
   "execution_count": 3,
   "metadata": {},
   "outputs": [],
   "source": [
    "## get the metabolites from the biomass reaction\n",
    "a=[]\n",
    "a=core_model.reactions.get_by_id('AraCore_Biomass_tx').reactants\n"
   ]
  },
  {
   "cell_type": "code",
   "execution_count": 4,
   "metadata": {},
   "outputs": [
    {
     "data": {
      "text/html": [
       "<h3>AraCore_Biomass_tx</h3><p>0.0963597332263 4_AMINO_BUTYRATE_c + 0.88 CAII_v + 5.24035317082 CELLULOSE_c + 0.263720758392 CIT_c + 0.00569181000938 FUM_c + 0.348854342472 GLN_c + 0.31716192467 GLT_c + 0.35252680768 GLYCEROL_3P_c + 1.8 KI_v + 0.455157519671 L_ALPHA_ALANINE_c + 0.0936480692493 L_ASPARTATE_c + 0.429658909266 MAL_c + 0.58 MGII_v + 0.7711523918 PALMITATE_c + 0.737378316406 STARCH_p + 0.140570808172 SUCROSE_c + 0.0664569505509 SUC_c + 1.13494168432 XYLAN_c + 0.456109633051 pALA_c + 0.248708916305 pARG_c + 0.244231166515 pASN_c + 0.244231166515 pASP_c + 0.294390076845 pGLN_c + 0.294390076845 pGLU_c + 0.206565786551 pGLY_c + 0.0787758328997 pHIS_c + 0.164930826186 pILE_c + 0.359404209428 pLEU_c + 0.25644187977 pLYS_c + 0.108683911354 pMET_c + 0.237379330463 pPHE_c + 0.364526466737 pSER_c + 0.206565786551 pTHR_c + 0.165404065972 pTYR_c + 0.312041920884 pVAL_c --> </p><p>Bounds: 0.0, 1000.0</p><p>Flux: 0.3309</p>"
      ],
      "text/plain": [
       "<cobra.summary.reaction_summary.ReactionSummary at 0x180dcd430>"
      ]
     },
     "execution_count": 4,
     "metadata": {},
     "output_type": "execute_result"
    }
   ],
   "source": [
    "## print the model summary\n",
    "core_model.reactions.get_by_id('AraCore_Biomass_tx').summary()\n"
   ]
  },
  {
   "cell_type": "code",
   "execution_count": 5,
   "metadata": {},
   "outputs": [],
   "source": [
    "## get the biomass coefficients\n",
    "b=[]\n",
    "a=core_model.reactions.get_by_id('AraCore_Biomass_tx').metabolites\n",
    "for key in a:\n",
    "    b.append(a[key])"
   ]
  },
  {
   "cell_type": "code",
   "execution_count": 6,
   "metadata": {},
   "outputs": [],
   "source": [
    "## calculate the molecular weight of the biomass precursors\n",
    "c=[]\n",
    "for i in a:\n",
    "    #print(i)\n",
    "    c.append(core_model.metabolites.get_by_id(i.id).formula_weight)"
   ]
  },
  {
   "cell_type": "code",
   "execution_count": 7,
   "metadata": {},
   "outputs": [],
   "source": [
    "## Create a dataframe of the stoichiometric coefficients, molecular weight \n",
    "df=pd.DataFrame(b,dtype='float',index=list(a))\n",
    "df.columns=['s']\n",
    "df['for_weight']=c\n",
    "## calculate the weight from molecular weight and coefficients\n",
    "df['weight']=-1*df['for_weight']*df['s']"
   ]
  },
  {
   "cell_type": "code",
   "execution_count": 8,
   "metadata": {},
   "outputs": [],
   "source": [
    "## rescale the coefficients\n",
    "biomass_factor=df['weight'].sum()\n",
    "df['new_coeff']=df['s']/biomass_factor\n",
    "met_list=df.index\n",
    "coef=df['new_coeff']"
   ]
  },
  {
   "cell_type": "code",
   "execution_count": 9,
   "metadata": {},
   "outputs": [],
   "source": [
    "core_model.reactions.remove('AraCore_Biomass_tx')\n",
    "## \n",
    "reaction = Reaction('AraCore_Biomass_tx')\n",
    "reaction.name = 'Arabidopsis biomass'\n",
    "reaction.lower_bound = 0.  \n",
    "reaction.upper_bound = 1000.  \n",
    "#Add reaction to the model\n",
    "core_model.add_reactions([reaction])"
   ]
  },
  {
   "cell_type": "code",
   "execution_count": 10,
   "metadata": {},
   "outputs": [
    {
     "name": "stderr",
     "output_type": "stream",
     "text": [
      "/var/folders/yl/47vnp0617dn9zfv19_vrxwjh0000gn/T/ipykernel_82167/2478426878.py:3: FutureWarning: Series.__getitem__ treating keys as positions is deprecated. In a future version, integer keys will always be treated as labels (consistent with DataFrame behavior). To access a value by position, use `ser.iloc[pos]`\n",
      "  core_model.reactions.get_by_id('AraCore_Biomass_tx').add_metabolites({met_list[i]:coef[i]})\n"
     ]
    }
   ],
   "source": [
    "## add the rescaled biomass coefficients into the biomass reaction\n",
    "for i in range(len(coef)):\n",
    "    core_model.reactions.get_by_id('AraCore_Biomass_tx').add_metabolites({met_list[i]:coef[i]})"
   ]
  },
  {
   "cell_type": "code",
   "execution_count": 11,
   "metadata": {},
   "outputs": [],
   "source": [
    "##Constraints\n",
    "rubisco = core_model.problem.Constraint(3 * core_model.reactions.get_by_id(\"RXN_961_p\").flux_expression - core_model.reactions.get_by_id(\"RIBULOSE_BISPHOSPHATE_CARBOXYLASE_RXN_p\").flux_expression,lb=0, ub=0,)\n",
    "core_model.add_cons_vars([rubisco])\n",
    "\n",
    "atp = core_model.problem.Constraint((0.0049*core_model.reactions.get_by_id(\"Photon_tx\").flux_expression+2.7851)-core_model.reactions.get_by_id(\"ATPase_tx\").flux_expression, lb=0, ub=0)\n",
    "core_model.add_cons_vars(atp)\n",
    "\n",
    "atp_nadph_03 = core_model.problem.Constraint(3 * (core_model.reactions.get_by_id(\"NADPHoxm_tx\").flux_expression + core_model.reactions.get_by_id(\"NADPHoxc_tx\").flux_expression + core_model.reactions.get_by_id(\"NADPHoxp_tx\").flux_expression) - core_model.reactions.get_by_id(\"ATPase_tx\").flux_expression, lb=0, ub=0)\n",
    "core_model.add_cons_vars(atp_nadph_03)"
   ]
  },
  {
   "cell_type": "code",
   "execution_count": 12,
   "metadata": {},
   "outputs": [
    {
     "data": {
      "text/html": [
       "<h3>AraCore_Biomass_tx</h3><p>4.1957882413541066e-05 4_AMINO_BUTYRATE_c + 0.0003831780691754609 CAII_v + 0.002281805011127627 CELLULOSE_c + 0.00011483183068424407 CIT_c + 2.478382692622489e-06 FUM_c + 0.00015190151519533628 GLN_c + 0.00013810169762616315 GLT_c + 0.0001535006153402403 GLYCEROL_3P_c + 0.0007837733233134428 KI_v + 0.00019818906767980188 L_ALPHA_ALANINE_c + 4.077714358745071e-05 L_ASPARTATE_c + 0.0001870862173370232 MAL_c + 0.00025254918195655374 MGII_v + 0.00033578259605677557 PALMITATE_c + 0.00032107636310489 STARCH_p + 6.120869415656938e-05 SUCROSE_c + 2.893732499475335e-05 SUC_c + 0.0004941872309369126 XYLAN_c + 0.00019860364605092066 pALA_c + 0.00010829522992780819 pARG_c + 0.0001063454850201002 pASN_c + 0.0001063454850201002 pASP_c + 0.00012818616048850304 pGLN_c + 0.00012818616048850304 pGLU_c + 8.994486278218474e-05 pGLY_c + 3.430133130476795e-05 pHIS_c + 7.18157676425739e-05 pILE_c + 0.0001564952397979023 pLEU_c + 0.00011166239130226624 pLYS_c + 4.732419466257122e-05 pMET_c + 0.00010336199262383637 pPHE_c + 0.00015872562237231424 pSER_c + 8.994486278218474e-05 pTHR_c + 7.202183026468354e-05 pTYR_c + 0.00013587229630242394 pVAL_c --> </p><p>Bounds: 0.0, 1000.0</p><p>Flux: 494.4</p>"
      ],
      "text/plain": [
       "<cobra.summary.reaction_summary.ReactionSummary at 0x18079e7b0>"
      ]
     },
     "execution_count": 12,
     "metadata": {},
     "output_type": "execute_result"
    }
   ],
   "source": [
    "core_model.reactions.get_by_id('AraCore_Biomass_tx').summary()"
   ]
  },
  {
   "cell_type": "code",
   "execution_count": 13,
   "metadata": {},
   "outputs": [],
   "source": [
    "#write_sbml_model(core_model,'beta_day_RS_DM_new.xml')"
   ]
  }
 ],
 "metadata": {
  "kernelspec": {
   "display_name": "qiime2-2023.9",
   "language": "python",
   "name": "python3"
  },
  "language_info": {
   "codemirror_mode": {
    "name": "ipython",
    "version": 3
   },
   "file_extension": ".py",
   "mimetype": "text/x-python",
   "name": "python",
   "nbconvert_exporter": "python",
   "pygments_lexer": "ipython3",
   "version": "3.12.2"
  },
  "orig_nbformat": 4
 },
 "nbformat": 4,
 "nbformat_minor": 2
}
