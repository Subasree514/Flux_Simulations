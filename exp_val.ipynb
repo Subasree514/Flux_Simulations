{
 "cells": [
  {
   "cell_type": "markdown",
   "metadata": {},
   "source": []
  },
  {
   "cell_type": "code",
   "execution_count": 1,
   "metadata": {},
   "outputs": [],
   "source": [
    "from __future__ import division, print_function, absolute_import\n",
    "import csv\n",
    "import pandas\n",
    "from cobra.flux_analysis import (\n",
    "    single_gene_deletion, single_reaction_deletion, double_gene_deletion,\n",
    "    double_reaction_deletion)\n",
    "import os\n",
    "import xml.etree.ElementTree as etree\n",
    "import cobra\n",
    "import numpy as np\n",
    "from itertools import chain\n",
    "from cobra.util import solver as sutil\n",
    "from cobra.core.solution import get_solution\n",
    "from optlang.symbolics import add, Zero\n",
    "import pandas as pd\n",
    "import os\n",
    "from os.path import join\n",
    "import matplotlib.pyplot as plt\n",
    "from cobra.medium import minimal_medium\n",
    "# Press ⌃R to execute it or replace it with your code.\n",
    "# Press Double ⇧ to search everywhere for classes, files, tool windows, actions, and settings.\n",
    "from cobra.flux_analysis import production_envelope\n",
    "from cobra import Model, Reaction, Metabolite\n",
    "from cobra.flux_analysis import flux_variability_analysis\n",
    "import matplotlib.pyplot as plt\n",
    "from cobra.io import load_json_model, save_json_model, load_matlab_model, save_matlab_model, read_sbml_model, write_sbml_model\n",
    "\n"
   ]
  },
  {
   "cell_type": "code",
   "execution_count": 2,
   "metadata": {},
   "outputs": [],
   "source": [
    "## Pareto function\n",
    "# Pareto\n",
    "objective1={''}\n",
    "objective2={''}\n",
    "pareto_range = (0.0, 1.001)  # for some reason you need to pick a number higher than 1).\n",
    "pareto_step_size = 0.01\n",
    "analysis_type = 'pareto'\n",
    "metric = 'manhattan'\n",
    "rxn2avoid = {''}\n",
    "solver='gurobi'\n",
    "constants = {'deltaC_CO2': 0.0055, 'D_H2O_0': 2.13E-05, 'D_CO2_0': 1.33E-05, 'mid_day': 6, 'deltaT': 2,\n",
    "             'FeasTol': 1e-03, 'OptTol': 1e-03}\n",
    "def pareto_analysis(model, objective1=objective1, objective2=objective2, pareto_range=pareto_range, metric=metric):\n",
    "    reaction_obj1 = model.reactions.get_by_id(objective1)\n",
    "    reaction_obj2 = model.reactions.get_by_id(objective2)\n",
    "    result_list = []\n",
    "    model.objective = {}\n",
    "    reaction_obj1.objective_coefficient = 1\n",
    "    solution = model.optimize()\n",
    "    print(\"\\nSolving model (FBA) for determining objective 1 flux...\")\n",
    "    max_obj1 = dict(solution.fluxes)[objective1]\n",
    "    print(\"Max {0}: {1}\".format(objective1, max_obj1))\n",
    "    # change objective\n",
    "    reaction_obj1.objective_coefficient = 0\n",
    "    reaction_obj2.objective_coefficient = 1\n",
    "    print(\"\\nSolving all iterations for Pareto frontier (FBA)...\")\n",
    "    for pareto in np.arange(pareto_range[0], pareto_range[1], pareto_step_size):\n",
    "        if pareto == 1:\n",
    "            reaction_obj1.lower_bound = max_obj1 * pareto  # * 0.999 # we need to add a bit of slack as the quadratic optimization is less accurate than the linear couterpart\n",
    "        else:\n",
    "            reaction_obj1.lower_bound = max_obj1 * pareto  # * 0.9999\n",
    "        sol = model.optimize(objective_sense='maximize')\n",
    "        # fix this minimal water loss value\n",
    "        reaction_obj2.bounds = (sol.get_primal_by_id(objective2), sol.get_primal_by_id(objective2))\n",
    "        if metric == 'manhattan':\n",
    "            solution = cobra.flux_analysis.pfba(model)\n",
    "            # print({'proline sink': solution['SK_PRO_c_06'], 'biomass 05': solution['Leaf_biomass_tx_05'], 'biomass 06': solution['Leaf_biomass_tx_06']})\n",
    "            # solution.fluxes.to_excel(f'pareto_no_{pareto}.xlsx')\n",
    "            result_list.append([pareto, solution[objective1], solution[objective2]])\n",
    "            reaction_obj2.bounds = (0, 1000.0)\n",
    "        elif metric == 'euclidean':\n",
    "\n",
    "            # make copy because that is easier that reverting all the solver settings\n",
    "            copy_model = model.copy()\n",
    "            model.solver = solver\n",
    "\n",
    "            FeasTol = float(constants['FeasTol'])\n",
    "            OptTol = float(constants['OptTol'])\n",
    "\n",
    "            copy_model.solver.configuration.tolerances.feasibility = FeasTol\n",
    "            copy_model.solver.configuration.tolerances.optimality = OptTol\n",
    "\n",
    "            rxnlist = [r for r in copy_model.reactions if r.id not in rxn2avoid]\n",
    "\n",
    "            obj_vars = chain.from_iterable([r.flux_expression ** 2] for r in rxnlist)\n",
    "            copy_model.objective = copy_model.problem.Objective(add(obj_vars), direction='min')\n",
    "\n",
    "            print('\\nSolving quadratic minimisation of sum of fluxes')\n",
    "            #print(solver)\n",
    "            solution = copy_model.optimize(objective_sense=None)\n",
    "            result_list.append([pareto, solution[objective1], solution[objective2]])\n",
    "        reaction_obj2.bounds = (0, 1000.0)\n",
    "    return result_list"
   ]
  },
  {
   "cell_type": "code",
   "execution_count": 3,
   "metadata": {},
   "outputs": [
    {
     "name": "stdout",
     "output_type": "stream",
     "text": [
      "Set parameter Username\n",
      "Academic license - for non-commercial use only - expires 2025-08-16\n"
     ]
    }
   ],
   "source": [
    "model_rs = read_sbml_model('beta_day_RS_DM.xml')\n",
    "core_model=model_rs\n"
   ]
  },
  {
   "cell_type": "code",
   "execution_count": 4,
   "metadata": {},
   "outputs": [],
   "source": [
    "##Constraints\n",
    "rubisco = core_model.problem.Constraint(3 * core_model.reactions.get_by_id(\"RXN_961_p\").flux_expression - core_model.reactions.get_by_id(\"RIBULOSE_BISPHOSPHATE_CARBOXYLASE_RXN_p\").flux_expression,lb=0, ub=0,)\n",
    "core_model.add_cons_vars([rubisco])\n",
    "## \n",
    "atp = core_model.problem.Constraint((0.0049*core_model.reactions.get_by_id(\"Photon_tx\").flux_expression+2.7851)-core_model.reactions.get_by_id(\"ATPase_tx\").flux_expression, lb=0, ub=0)\n",
    "core_model.add_cons_vars(atp)\n",
    "##\n",
    "atp_nadph_03 = core_model.problem.Constraint(3 * (core_model.reactions.get_by_id(\"NADPHoxm_tx\").flux_expression + core_model.reactions.get_by_id(\"NADPHoxc_tx\").flux_expression + core_model.reactions.get_by_id(\"NADPHoxp_tx\").flux_expression) - core_model.reactions.get_by_id(\"ATPase_tx\").flux_expression, lb=0, ub=0)\n",
    "core_model.add_cons_vars(atp_nadph_03)"
   ]
  },
  {
   "cell_type": "code",
   "execution_count": 5,
   "metadata": {},
   "outputs": [
    {
     "name": "stdout",
     "output_type": "stream",
     "text": [
      "                       flux               reaction  percent\n",
      "RS_33                   0.0                  RS_33      NaN\n",
      "RS_34                   0.0                  RS_34      NaN\n",
      "RS_Plant_ALDO_C         0.0        RS_Plant_ALDO_C      NaN\n",
      "RS_Plant_PSD2_nad_Mb    0.0   RS_Plant_PSD2_nad_Mb      NaN\n",
      "RS_Plant_PSD2_nadp_Mb   0.0  RS_Plant_PSD2_nadp_Mb      NaN\n",
      "SUPEROX_DISMUT_RXN_c    0.0   SUPEROX_DISMUT_RXN_c      NaN\n",
      "                       flux               reaction  percent\n",
      "RS_Plant_SOD_M          0.0         RS_Plant_SOD_M      NaN\n",
      "SULFITE_OXIDASE_RXN_m   0.0  SULFITE_OXIDASE_RXN_m      NaN\n",
      "                      flux              reaction  percent\n",
      "RS_35_CP               0.0              RS_35_CP      NaN\n",
      "RS_46_CP               0.0              RS_46_CP      NaN\n",
      "RS_74_CP               0.0              RS_74_CP      NaN\n",
      "SUPEROX_DISMUT_RXN_p   0.0  SUPEROX_DISMUT_RXN_p      NaN\n",
      "                       flux           reaction  percent\n",
      "A_B_oxidation_x    0.000000    A_B_oxidation_x      0.0\n",
      "Beta_Oxidation_x   0.000000   Beta_Oxidation_x      0.0\n",
      "RS_Plant_CAO_X     0.000000     RS_Plant_CAO_X      0.0\n",
      "RS_Plant_MSOX_X    0.000000    RS_Plant_MSOX_X      0.0\n",
      "RS_Plant_PIPOX__X  0.000000  RS_Plant_PIPOX__X      0.0\n",
      "RS_Plant_SOD_X     0.000000     RS_Plant_SOD_X      0.0\n",
      "RS_Plant_URIC_X    0.000000    RS_Plant_URIC_X      0.0\n",
      "RS_SUOX_X          0.000000          RS_SUOX_X      0.0\n",
      "RXN_969_x          7.163745          RXN_969_x      1.0\n",
      "                      flux              reaction  percent\n",
      "RS_Plant_H2O2_tr_V     0.0    RS_Plant_H2O2_tr_V      NaN\n",
      "RS_Plant_PSD2_nad_V    0.0   RS_Plant_PSD2_nad_V      NaN\n",
      "RS_Plant_PSD2_nadp_V   0.0  RS_Plant_PSD2_nadp_V      NaN\n",
      "RS_Plant_SOD_V         0.0        RS_Plant_SOD_V      NaN\n",
      "                flux        reaction  percent\n",
      "RS_Plant_CAO_E   0.0  RS_Plant_CAO_E      NaN\n",
      "RS_Plant_SOD_A   0.0  RS_Plant_SOD_A      NaN\n",
      "                 flux         reaction  percent\n",
      "RS_Plant_GLO2_G   0.0  RS_Plant_GLO2_G      NaN\n",
      "RS_Plant_UOD_G    0.0   RS_Plant_UOD_G      NaN\n",
      "                flux        reaction  percent\n",
      "RS_Plant_SOD_N   0.0  RS_Plant_SOD_N      NaN\n"
     ]
    }
   ],
   "source": [
    "#Creating an empty dataframe\n",
    "df_p = []\n",
    "df_c = []\n",
    "\n",
    "## H2O2\n",
    "budget_metabolites=[\"HYDROGEN_PEROXIDE_c\",\"HYDROGEN_PEROXIDE_m\",\"HYDROGEN_PEROXIDE_p\",\"HYDROGEN_PEROXIDE_x\",\"HYDROGEN_PEROXIDE_v\",\"HYDROGEN_PEROXIDE_e\",\"HYDROGEN_PEROXIDE_g\",\"HYDROGEN_PEROXIDE_n\"]\n",
    "compartment = [\"_c\", \"_m\", \"_p\", \"_x\",\"_v\",\"_e\",\"_g\",\"_n\"]\n",
    "\n",
    "#budget_metabolites=[\"HYDROGEN_PEROXIDE_cell\"]\n",
    "#compartment = [\"_cell\"]\n",
    "\n",
    "#budget_metabolites=[\"SUPER_OXIDE_c\",\"SUPER_OXIDE_m\",\"SUPER_OXIDE_p\",\"SUPER_OXIDE_x\",\"SUPER_OXIDE_v\",\"SUPER_OXIDE_e\",\"SUPER_OXIDE_cell\",\"SUPER_OXIDE_n\"]\n",
    "#compartment = [\"_c\", \"_m\", \"_p\", \"_x\",\"_v\",\"_e\",\"_cell\",\"_g\"]\n",
    "\n",
    "c3_model=core_model\n",
    "for (a,com) in zip(budget_metabolites,compartment):\n",
    "    i = c3_model.metabolites.get_by_id(a).summary()\n",
    "    p = i.producing_flux\n",
    "    c = i.consuming_flux\n",
    "\n",
    "# Retrieving the reactions using pandas and filtering the transport reactions\n",
    "    producer = p#.loc[:,\"reaction\"].str.endswith(com) \n",
    "    print(producer)\n",
    "    df_p.append(producer)\n",
    "    producer_df = pd.concat(df_p)\n",
    "        \n",
    "# Retrieving the reactions using pandas\n",
    "    consumer = c#.loc[:,\"reaction\"].str.endswith(com)\n",
    "    df_c.append(consumer)\n",
    "    consumer_df = pd.concat(df_c)\n",
    "consumers=list(consumer_df['reaction'])\n",
    "producers=list(producer_df.index)"
   ]
  },
  {
   "cell_type": "code",
   "execution_count": 6,
   "metadata": {},
   "outputs": [],
   "source": [
    "core_model.reactions.get_by_id('DM_HYDROGEN_PEROXIDE_cell').upper_bound=0.011\n",
    "core_model.reactions.get_by_id('DM_SUPER_OXIDE_cell').upper_bound=0.018"
   ]
  },
  {
   "cell_type": "code",
   "execution_count": 7,
   "metadata": {},
   "outputs": [
    {
     "name": "stdout",
     "output_type": "stream",
     "text": [
      "\n",
      "Solving model (FBA) for determining objective 1 flux...\n",
      "Max DM_HYDROGEN_PEROXIDE_cell: 0.011\n",
      "\n",
      "Solving all iterations for Pareto frontier (FBA)...\n",
      "        0        1         2\n",
      "0    0.00  0.00000  0.215272\n",
      "1    0.01  0.00011  0.215272\n",
      "2    0.02  0.00022  0.215272\n",
      "3    0.03  0.00033  0.215272\n",
      "4    0.04  0.00044  0.215272\n",
      "..    ...      ...       ...\n",
      "96   0.96  0.01056  0.215272\n",
      "97   0.97  0.01067  0.215272\n",
      "98   0.98  0.01078  0.215272\n",
      "99   0.99  0.01089  0.215272\n",
      "100  1.00  0.01100  0.215272\n",
      "\n",
      "[101 rows x 3 columns]\n"
     ]
    },
    {
     "data": {
      "image/png": "[encoded data removed]",
      "text/plain": [
       "<Figure size 640x480 with 1 Axes>"
      ]
     },
     "metadata": {},
     "output_type": "display_data"
    }
   ],
   "source": [
    "## plot pareto plot\n",
    "objective1 =  'DM_HYDROGEN_PEROXIDE_cell'\n",
    "objective2 =  'AraCore_Biomass_tx'\n",
    "solution_primary=pareto_analysis(core_model, objective1 = objective1, objective2=objective2, pareto_range = pareto_range, metric = metric)\n",
    "#pd.DataFrame(result_list).to_excel('results.xlsx')\n",
    "data=pd.DataFrame(solution_primary)\n",
    "print(data)\n",
    "plt.plot(data[1],data[2]) \n",
    "plt.ylim([0.2152,0.2153])\n",
    "plt.xlim([0,0.011])\n",
    "plt.show()\n",
    "#objs_rs=[AraCore_Biomass_tx 'Phloem_output_tx','DM_NITRIC-OXIDE_cell','DM_HS_cell','DM_SUPER_OXIDE_cell','DM_HC00250_cell','DM_CPD0-1395_cell','DM_SO3_cell','DM_CPD-12377_cell','DM_HYDROGEN_PEROXIDE_cell','DM_ho2_rad_cell']"
   ]
  },
  {
   "cell_type": "code",
   "execution_count": null,
   "metadata": {},
   "outputs": [],
   "source": []
  },
  {
   "cell_type": "code",
   "execution_count": null,
   "metadata": {},
   "outputs": [],
   "source": []
  }
 ],
 "metadata": {
  "kernelspec": {
   "display_name": "base",
   "language": "python",
   "name": "python3"
  },
  "language_info": {
   "codemirror_mode": {
    "name": "ipython",
    "version": 3
   },
   "file_extension": ".py",
   "mimetype": "text/x-python",
   "name": "python",
   "nbconvert_exporter": "python",
   "pygments_lexer": "ipython3",
   "version": "3.12.2"
  },
  "orig_nbformat": 4
 },
 "nbformat": 4,
 "nbformat_minor": 2
}
