{
 "cells": [
  {
   "cell_type": "markdown",
   "metadata": {},
   "source": []
  },
  {
   "cell_type": "code",
   "execution_count": 1,
   "metadata": {},
   "outputs": [],
   "source": [
    "from __future__ import division, print_function, absolute_import\n",
    "import csv\n",
    "import pandas\n",
    "from cobra.flux_analysis import (\n",
    "    single_gene_deletion, single_reaction_deletion, double_gene_deletion,\n",
    "    double_reaction_deletion)\n",
    "import os\n",
    "import xml.etree.ElementTree as etree\n",
    "import cobra\n",
    "import numpy as np\n",
    "from itertools import chain\n",
    "from cobra.util import solver as sutil\n",
    "from cobra.core.solution import get_solution\n",
    "from optlang.symbolics import add, Zero\n",
    "import pandas as pd\n",
    "import os\n",
    "from os.path import join\n",
    "import matplotlib.pyplot as plt\n",
    "from cobra.medium import minimal_medium\n",
    "# Press ⌃R to execute it or replace it with your code.\n",
    "# Press Double ⇧ to search everywhere for classes, files, tool windows, actions, and settings.\n",
    "from cobra.flux_analysis import production_envelope\n",
    "from cobra import Model, Reaction, Metabolite\n",
    "from cobra.flux_analysis import flux_variability_analysis\n",
    "import matplotlib.pyplot as plt\n",
    "from cobra.io import load_json_model, save_json_model, load_matlab_model, save_matlab_model, read_sbml_model, write_sbml_model\n",
    "\n"
   ]
  },
  {
   "cell_type": "code",
   "execution_count": 2,
   "metadata": {},
   "outputs": [],
   "source": [
    "## Pareto function\n",
    "# Pareto\n",
    "objective1={''}\n",
    "objective2={''}\n",
    "pareto_range = (0.0, 1.001)  # for some reason you need to pick a number higher than 1).\n",
    "pareto_step_size = 0.01\n",
    "analysis_type = 'pareto'\n",
    "metric = 'manhattan'\n",
    "rxn2avoid = {''}\n",
    "solver='gurobi'\n",
    "constants = {'deltaC_CO2': 0.0055, 'D_H2O_0': 2.13E-05, 'D_CO2_0': 1.33E-05, 'mid_day': 6, 'deltaT': 2,\n",
    "             'FeasTol': 1e-03, 'OptTol': 1e-03}\n",
    "def pareto_analysis(model, objective1=objective1, objective2=objective2, pareto_range=pareto_range, metric=metric):\n",
    "    reaction_obj1 = model.reactions.get_by_id(objective1)\n",
    "    reaction_obj2 = model.reactions.get_by_id(objective2)\n",
    "    result_list = []\n",
    "    model.objective = {}\n",
    "    reaction_obj1.objective_coefficient = 1\n",
    "    solution = model.optimize()\n",
    "    print(\"\\nSolving model (FBA) for determining objective 1 flux...\")\n",
    "    max_obj1 = dict(solution.fluxes)[objective1]\n",
    "    print(\"Max {0}: {1}\".format(objective1, max_obj1))\n",
    "    # change objective\n",
    "    reaction_obj1.objective_coefficient = 0\n",
    "    reaction_obj2.objective_coefficient = 1\n",
    "    print(\"\\nSolving all iterations for Pareto frontier (FBA)...\")\n",
    "    for pareto in np.arange(pareto_range[0], pareto_range[1], pareto_step_size):\n",
    "        if pareto == 1:\n",
    "            reaction_obj1.lower_bound = max_obj1 * pareto  # * 0.999 # we need to add a bit of slack as the quadratic optimization is less accurate than the linear couterpart\n",
    "        else:\n",
    "            reaction_obj1.lower_bound = max_obj1 * pareto  # * 0.9999\n",
    "        sol = model.optimize(objective_sense='maximize')\n",
    "        # fix this minimal water loss value\n",
    "        reaction_obj2.bounds = (sol.get_primal_by_id(objective2), sol.get_primal_by_id(objective2))\n",
    "        if metric == 'manhattan':\n",
    "            solution = cobra.flux_analysis.pfba(model)\n",
    "            # print({'proline sink': solution['SK_PRO_c_06'], 'biomass 05': solution['Leaf_biomass_tx_05'], 'biomass 06': solution['Leaf_biomass_tx_06']})\n",
    "            # solution.fluxes.to_excel(f'pareto_no_{pareto}.xlsx')\n",
    "            result_list.append([pareto, solution[objective1], solution[objective2]])\n",
    "            reaction_obj2.bounds = (0, 1000.0)\n",
    "        elif metric == 'euclidean':\n",
    "\n",
    "            # make copy because that is easier that reverting all the solver settings\n",
    "            copy_model = model.copy()\n",
    "            model.solver = solver\n",
    "\n",
    "            FeasTol = float(constants['FeasTol'])\n",
    "            OptTol = float(constants['OptTol'])\n",
    "\n",
    "            copy_model.solver.configuration.tolerances.feasibility = FeasTol\n",
    "            copy_model.solver.configuration.tolerances.optimality = OptTol\n",
    "\n",
    "            rxnlist = [r for r in copy_model.reactions if r.id not in rxn2avoid]\n",
    "\n",
    "            obj_vars = chain.from_iterable([r.flux_expression ** 2] for r in rxnlist)\n",
    "            copy_model.objective = copy_model.problem.Objective(add(obj_vars), direction='min')\n",
    "\n",
    "            print('\\nSolving quadratic minimisation of sum of fluxes')\n",
    "            #print(solver)\n",
    "            solution = copy_model.optimize(objective_sense=None)\n",
    "            result_list.append([pareto, solution[objective1], solution[objective2]])\n",
    "        reaction_obj2.bounds = (0, 1000.0)\n",
    "    return result_list"
   ]
  },
  {
   "cell_type": "code",
   "execution_count": 3,
   "metadata": {},
   "outputs": [
    {
     "name": "stdout",
     "output_type": "stream",
     "text": [
      "Set parameter Username\n",
      "Academic license - for non-commercial use only - expires 2025-08-16\n"
     ]
    }
   ],
   "source": [
    "model_rs = cobra.io.load_matlab_model(join('alpha_day_RS_DM.mat'))\n",
    "core_model=model_rs\n"
   ]
  },
  {
   "cell_type": "code",
   "execution_count": 4,
   "metadata": {},
   "outputs": [],
   "source": [
    "##Constraints\n",
    "rubisco = core_model.problem.Constraint(3 * core_model.reactions.get_by_id(\"RXN_961_p\").flux_expression - core_model.reactions.get_by_id(\"RIBULOSE_BISPHOSPHATE_CARBOXYLASE_RXN_p\").flux_expression,lb=0, ub=0,)\n",
    "core_model.add_cons_vars([rubisco])\n",
    "## \n",
    "atp = core_model.problem.Constraint((0.0049*core_model.reactions.get_by_id(\"Photon_tx\").flux_expression+2.7851)-core_model.reactions.get_by_id(\"ATPase_tx\").flux_expression, lb=0, ub=0)\n",
    "core_model.add_cons_vars(atp)\n",
    "##\n",
    "atp_nadph_03 = core_model.problem.Constraint(3 * (core_model.reactions.get_by_id(\"NADPHoxm_tx\").flux_expression + core_model.reactions.get_by_id(\"NADPHoxc_tx\").flux_expression + core_model.reactions.get_by_id(\"NADPHoxp_tx\").flux_expression) - core_model.reactions.get_by_id(\"ATPase_tx\").flux_expression, lb=0, ub=0)\n",
    "core_model.add_cons_vars(atp_nadph_03)"
   ]
  },
  {
   "cell_type": "code",
   "execution_count": 5,
   "metadata": {},
   "outputs": [
    {
     "name": "stdout",
     "output_type": "stream",
     "text": [
      "                       flux               reaction  percent\n",
      "RS_33                   0.0                  RS_33      NaN\n",
      "RS_34                   0.0                  RS_34      NaN\n",
      "RS_Plant_ALDO_C         0.0        RS_Plant_ALDO_C      NaN\n",
      "RS_Plant_PSD2_nad_Mb    0.0   RS_Plant_PSD2_nad_Mb      NaN\n",
      "RS_Plant_PSD2_nadp_Mb   0.0  RS_Plant_PSD2_nadp_Mb      NaN\n",
      "SUPEROX_DISMUT_RXN_c    0.0   SUPEROX_DISMUT_RXN_c      NaN\n",
      "                       flux               reaction  percent\n",
      "RS_Plant_SOD_M          0.0         RS_Plant_SOD_M      NaN\n",
      "SULFITE_OXIDASE_RXN_m   0.0  SULFITE_OXIDASE_RXN_m      NaN\n",
      "                      flux              reaction  percent\n",
      "RS_35_CP               0.0              RS_35_CP      NaN\n",
      "RS_46_CP               0.0              RS_46_CP      NaN\n",
      "RS_74_CP               0.0              RS_74_CP      NaN\n",
      "SUPEROX_DISMUT_RXN_p   0.0  SUPEROX_DISMUT_RXN_p      NaN\n",
      "                       flux           reaction  percent\n",
      "A_B_oxidation_x    0.000000    A_B_oxidation_x      0.0\n",
      "Beta_Oxidation_x   0.000000   Beta_Oxidation_x      0.0\n",
      "RS_Plant_CAO_X     0.000000     RS_Plant_CAO_X      0.0\n",
      "RS_Plant_MSOX_X    0.000000    RS_Plant_MSOX_X      0.0\n",
      "RS_Plant_PIPOX__X  0.000000  RS_Plant_PIPOX__X      0.0\n",
      "RS_Plant_SOD_X     0.000000     RS_Plant_SOD_X      0.0\n",
      "RS_Plant_URIC_X    0.000000    RS_Plant_URIC_X      0.0\n",
      "RS_SUOX_X          0.000000          RS_SUOX_X      0.0\n",
      "RXN_969_x          7.163745          RXN_969_x      1.0\n",
      "                      flux              reaction  percent\n",
      "RS_Plant_H2O2_tr_V     0.0    RS_Plant_H2O2_tr_V      NaN\n",
      "RS_Plant_PSD2_nad_V    0.0   RS_Plant_PSD2_nad_V      NaN\n",
      "RS_Plant_PSD2_nadp_V   0.0  RS_Plant_PSD2_nadp_V      NaN\n",
      "RS_Plant_SOD_V         0.0        RS_Plant_SOD_V      NaN\n",
      "                flux        reaction  percent\n",
      "H2O2_e_demand    0.0   H2O2_e_demand      NaN\n",
      "H2O2_e_tr        0.0       H2O2_e_tr      NaN\n",
      "RS_Plant_CAO_E   0.0  RS_Plant_CAO_E      NaN\n",
      "RS_Plant_SOD_A   0.0  RS_Plant_SOD_A      NaN\n",
      "                 flux         reaction  percent\n",
      "RS_Plant_GLO2_G   0.0  RS_Plant_GLO2_G      NaN\n",
      "RS_Plant_UOD_G    0.0   RS_Plant_UOD_G      NaN\n",
      "                flux        reaction  percent\n",
      "RS_Plant_SOD_N   0.0  RS_Plant_SOD_N      NaN\n"
     ]
    }
   ],
   "source": [
    "#Creating an empty dataframe\n",
    "df_p = []\n",
    "df_c = []\n",
    "\n",
    "## H2O2\n",
    "budget_metabolites=[\"HYDROGEN_PEROXIDE_c\",\"HYDROGEN_PEROXIDE_m\",\"HYDROGEN_PEROXIDE_p\",\"HYDROGEN_PEROXIDE_x\",\"HYDROGEN_PEROXIDE_v\",\"HYDROGEN_PEROXIDE_e\",\"HYDROGEN_PEROXIDE_g\",\"HYDROGEN_PEROXIDE_n\"]\n",
    "compartment = [\"_c\", \"_m\", \"_p\", \"_x\",\"_v\",\"_e\",\"_g\",\"_n\"]\n",
    "\n",
    "#budget_metabolites=[\"HYDROGEN_PEROXIDE_cell\"]\n",
    "#compartment = [\"_cell\"]\n",
    "\n",
    "#budget_metabolites=[\"SUPER_OXIDE_c\",\"SUPER_OXIDE_m\",\"SUPER_OXIDE_p\",\"SUPER_OXIDE_x\",\"SUPER_OXIDE_v\",\"SUPER_OXIDE_e\",\"SUPER_OXIDE_cell\",\"SUPER_OXIDE_n\"]\n",
    "#compartment = [\"_c\", \"_m\", \"_p\", \"_x\",\"_v\",\"_e\",\"_cell\",\"_g\"]\n",
    "\n",
    "c3_model=core_model\n",
    "for (a,com) in zip(budget_metabolites,compartment):\n",
    "    i = c3_model.metabolites.get_by_id(a).summary()\n",
    "    p = i.producing_flux\n",
    "    c = i.consuming_flux\n",
    "\n",
    "# Retrieving the reactions using pandas and filtering the transport reactions\n",
    "    producer = p#.loc[:,\"reaction\"].str.endswith(com) \n",
    "    print(producer)\n",
    "    df_p.append(producer)\n",
    "    producer_df = pd.concat(df_p)\n",
    "        \n",
    "# Retrieving the reactions using pandas\n",
    "    consumer = c#.loc[:,\"reaction\"].str.endswith(com)\n",
    "    df_c.append(consumer)\n",
    "    consumer_df = pd.concat(df_c)\n",
    "consumers=list(consumer_df['reaction'])\n",
    "producers=list(producer_df.index)"
   ]
  },
  {
   "cell_type": "code",
   "execution_count": 6,
   "metadata": {},
   "outputs": [],
   "source": [
    "core_model.reactions.get_by_id('DM_HYDROGEN_PEROXIDE_cell').upper_bound=100"
   ]
  },
  {
   "cell_type": "code",
   "execution_count": null,
   "metadata": {},
   "outputs": [],
   "source": []
  },
  {
   "cell_type": "code",
   "execution_count": 7,
   "metadata": {},
   "outputs": [
    {
     "data": {
      "text/plain": [
       "RS_33                                    RS_33\n",
       "RS_34                                    RS_34\n",
       "RS_Plant_ALDO_C                RS_Plant_ALDO_C\n",
       "RS_Plant_PSD2_nad_Mb      RS_Plant_PSD2_nad_Mb\n",
       "RS_Plant_PSD2_nadp_Mb    RS_Plant_PSD2_nadp_Mb\n",
       "SUPEROX_DISMUT_RXN_c      SUPEROX_DISMUT_RXN_c\n",
       "RS_Plant_SOD_M                  RS_Plant_SOD_M\n",
       "SULFITE_OXIDASE_RXN_m    SULFITE_OXIDASE_RXN_m\n",
       "RS_35_CP                              RS_35_CP\n",
       "RS_46_CP                              RS_46_CP\n",
       "RS_74_CP                              RS_74_CP\n",
       "SUPEROX_DISMUT_RXN_p      SUPEROX_DISMUT_RXN_p\n",
       "A_B_oxidation_x                A_B_oxidation_x\n",
       "Beta_Oxidation_x              Beta_Oxidation_x\n",
       "RS_Plant_CAO_X                  RS_Plant_CAO_X\n",
       "RS_Plant_MSOX_X                RS_Plant_MSOX_X\n",
       "RS_Plant_PIPOX__X            RS_Plant_PIPOX__X\n",
       "RS_Plant_SOD_X                  RS_Plant_SOD_X\n",
       "RS_Plant_URIC_X                RS_Plant_URIC_X\n",
       "RS_SUOX_X                            RS_SUOX_X\n",
       "RXN_969_x                            RXN_969_x\n",
       "RS_Plant_H2O2_tr_V          RS_Plant_H2O2_tr_V\n",
       "RS_Plant_PSD2_nad_V        RS_Plant_PSD2_nad_V\n",
       "RS_Plant_PSD2_nadp_V      RS_Plant_PSD2_nadp_V\n",
       "RS_Plant_SOD_V                  RS_Plant_SOD_V\n",
       "H2O2_e_demand                    H2O2_e_demand\n",
       "H2O2_e_tr                            H2O2_e_tr\n",
       "RS_Plant_CAO_E                  RS_Plant_CAO_E\n",
       "RS_Plant_SOD_A                  RS_Plant_SOD_A\n",
       "RS_Plant_GLO2_G                RS_Plant_GLO2_G\n",
       "RS_Plant_UOD_G                  RS_Plant_UOD_G\n",
       "RS_Plant_SOD_N                  RS_Plant_SOD_N\n",
       "Name: reaction, dtype: object"
      ]
     },
     "execution_count": 7,
     "metadata": {},
     "output_type": "execute_result"
    }
   ],
   "source": [
    "p=producer_df['reaction']\n",
    "p"
   ]
  },
  {
   "cell_type": "code",
   "execution_count": 8,
   "metadata": {},
   "outputs": [
    {
     "name": "stdout",
     "output_type": "stream",
     "text": [
      "1.0\n",
      "1.0\n",
      "1.0\n",
      "1.0\n",
      "1.0\n",
      "1.0\n",
      "1.0\n",
      "1.0\n",
      "1.0\n",
      "1.0\n"
     ]
    }
   ],
   "source": [
    "coefficients = dict()\n",
    "for rxn in core_model.reactions[:5]:\n",
    "    coefficients[rxn.forward_variable] = 1.\n",
    "    print(coefficients[rxn.forward_variable])\n",
    "    coefficients[rxn.reverse_variable] = 1.\n",
    "    print(coefficients[rxn.reverse_variable])\n",
    "\n",
    "constraint = core_model.problem.Constraint(0, lb=0, ub=0.000001)\n",
    "core_model.add_cons_vars(constraint)\n",
    "core_model.solver.update()\n",
    "constraint.set_linear_coefficients(coefficients=coefficients)"
   ]
  },
  {
   "cell_type": "code",
   "execution_count": 9,
   "metadata": {},
   "outputs": [],
   "source": [
    "met_stoi=[]\n",
    "for i in producers:\n",
    "    for met in budget_metabolites:\n",
    "        try:\n",
    "            rxn=core_model.reactions.get_by_id(i).get_coefficient(met)\n",
    "            met_stoi.append(abs(rxn))\n",
    "        except KeyError:\n",
    "            continue\n"
   ]
  },
  {
   "cell_type": "code",
   "execution_count": 10,
   "metadata": {},
   "outputs": [
    {
     "data": {
      "text/plain": [
       "[2.0,\n",
       " 2.0,\n",
       " 1.0,\n",
       " 1.0,\n",
       " 1.0,\n",
       " 1.0,\n",
       " 1.0,\n",
       " 1.0,\n",
       " 1.0,\n",
       " 1.0,\n",
       " 1.0,\n",
       " 1.0,\n",
       " 7.0,\n",
       " 7.0,\n",
       " 1.0,\n",
       " 1.0,\n",
       " 1.0,\n",
       " 1.0,\n",
       " 1.0,\n",
       " 1.0,\n",
       " 1.0,\n",
       " 1.0,\n",
       " 1.0,\n",
       " 1.0,\n",
       " 1.0,\n",
       " 1.0,\n",
       " 1.0,\n",
       " 1.0,\n",
       " 1.0,\n",
       " 1.0,\n",
       " 1.0,\n",
       " 1.0,\n",
       " 1.0,\n",
       " 1.0]"
      ]
     },
     "execution_count": 10,
     "metadata": {},
     "output_type": "execute_result"
    }
   ],
   "source": [
    "met_stoi"
   ]
  },
  {
   "cell_type": "code",
   "execution_count": 11,
   "metadata": {},
   "outputs": [
    {
     "name": "stdout",
     "output_type": "stream",
     "text": [
      "\n",
      "Solving model (FBA) for determining objective 1 flux...\n",
      "Max DM_HYDROGEN_PEROXIDE_cell: 100.0\n",
      "\n",
      "Solving all iterations for Pareto frontier (FBA)...\n"
     ]
    },
    {
     "ename": "Infeasible",
     "evalue": "None (infeasible).",
     "output_type": "error",
     "traceback": [
      "\u001b[0;31m---------------------------------------------------------------------------\u001b[0m",
      "\u001b[0;31mInfeasible\u001b[0m                                Traceback (most recent call last)",
      "\u001b[0;32m<ipython-input-11-ad0287e1da44>\u001b[0m in \u001b[0;36m<module>\u001b[0;34m\u001b[0m\n\u001b[1;32m      2\u001b[0m \u001b[0mobjective1\u001b[0m \u001b[0;34m=\u001b[0m  \u001b[0;34m'DM_HYDROGEN_PEROXIDE_cell'\u001b[0m\u001b[0;34m\u001b[0m\u001b[0;34m\u001b[0m\u001b[0m\n\u001b[1;32m      3\u001b[0m \u001b[0mobjective2\u001b[0m \u001b[0;34m=\u001b[0m  \u001b[0;34m'AraCore_Biomass_tx'\u001b[0m\u001b[0;34m\u001b[0m\u001b[0;34m\u001b[0m\u001b[0m\n\u001b[0;32m----> 4\u001b[0;31m \u001b[0msolution_primary\u001b[0m\u001b[0;34m=\u001b[0m\u001b[0mpareto_analysis\u001b[0m\u001b[0;34m(\u001b[0m\u001b[0mcore_model\u001b[0m\u001b[0;34m,\u001b[0m \u001b[0mobjective1\u001b[0m \u001b[0;34m=\u001b[0m \u001b[0mobjective1\u001b[0m\u001b[0;34m,\u001b[0m \u001b[0mobjective2\u001b[0m\u001b[0;34m=\u001b[0m\u001b[0mobjective2\u001b[0m\u001b[0;34m,\u001b[0m \u001b[0mpareto_range\u001b[0m \u001b[0;34m=\u001b[0m \u001b[0mpareto_range\u001b[0m\u001b[0;34m,\u001b[0m \u001b[0mmetric\u001b[0m \u001b[0;34m=\u001b[0m \u001b[0mmetric\u001b[0m\u001b[0;34m)\u001b[0m\u001b[0;34m\u001b[0m\u001b[0;34m\u001b[0m\u001b[0m\n\u001b[0m\u001b[1;32m      5\u001b[0m \u001b[0;31m#pd.DataFrame(result_list).to_excel('results.xlsx')\u001b[0m\u001b[0;34m\u001b[0m\u001b[0;34m\u001b[0m\u001b[0;34m\u001b[0m\u001b[0m\n\u001b[1;32m      6\u001b[0m \u001b[0mdata\u001b[0m\u001b[0;34m=\u001b[0m\u001b[0mpd\u001b[0m\u001b[0;34m.\u001b[0m\u001b[0mDataFrame\u001b[0m\u001b[0;34m(\u001b[0m\u001b[0msolution_primary\u001b[0m\u001b[0;34m)\u001b[0m\u001b[0;34m\u001b[0m\u001b[0;34m\u001b[0m\u001b[0m\n",
      "\u001b[0;32m<ipython-input-2-1bc7b39e3a73>\u001b[0m in \u001b[0;36mpareto_analysis\u001b[0;34m(model, objective1, objective2, pareto_range, metric)\u001b[0m\n\u001b[1;32m     34\u001b[0m         \u001b[0mreaction_obj2\u001b[0m\u001b[0;34m.\u001b[0m\u001b[0mbounds\u001b[0m \u001b[0;34m=\u001b[0m \u001b[0;34m(\u001b[0m\u001b[0msol\u001b[0m\u001b[0;34m.\u001b[0m\u001b[0mget_primal_by_id\u001b[0m\u001b[0;34m(\u001b[0m\u001b[0mobjective2\u001b[0m\u001b[0;34m)\u001b[0m\u001b[0;34m,\u001b[0m \u001b[0msol\u001b[0m\u001b[0;34m.\u001b[0m\u001b[0mget_primal_by_id\u001b[0m\u001b[0;34m(\u001b[0m\u001b[0mobjective2\u001b[0m\u001b[0;34m)\u001b[0m\u001b[0;34m)\u001b[0m\u001b[0;34m\u001b[0m\u001b[0;34m\u001b[0m\u001b[0m\n\u001b[1;32m     35\u001b[0m         \u001b[0;32mif\u001b[0m \u001b[0mmetric\u001b[0m \u001b[0;34m==\u001b[0m \u001b[0;34m'manhattan'\u001b[0m\u001b[0;34m:\u001b[0m\u001b[0;34m\u001b[0m\u001b[0;34m\u001b[0m\u001b[0m\n\u001b[0;32m---> 36\u001b[0;31m             \u001b[0msolution\u001b[0m \u001b[0;34m=\u001b[0m \u001b[0mcobra\u001b[0m\u001b[0;34m.\u001b[0m\u001b[0mflux_analysis\u001b[0m\u001b[0;34m.\u001b[0m\u001b[0mpfba\u001b[0m\u001b[0;34m(\u001b[0m\u001b[0mmodel\u001b[0m\u001b[0;34m)\u001b[0m\u001b[0;34m\u001b[0m\u001b[0;34m\u001b[0m\u001b[0m\n\u001b[0m\u001b[1;32m     37\u001b[0m             \u001b[0;31m# print({'proline sink': solution['SK_PRO_c_06'], 'biomass 05': solution['Leaf_biomass_tx_05'], 'biomass 06': solution['Leaf_biomass_tx_06']})\u001b[0m\u001b[0;34m\u001b[0m\u001b[0;34m\u001b[0m\u001b[0;34m\u001b[0m\u001b[0m\n\u001b[1;32m     38\u001b[0m             \u001b[0;31m# solution.fluxes.to_excel(f'pareto_no_{pareto}.xlsx')\u001b[0m\u001b[0;34m\u001b[0m\u001b[0;34m\u001b[0m\u001b[0;34m\u001b[0m\u001b[0m\n",
      "\u001b[0;32m~/Desktop/anaconda3/lib/python3.8/site-packages/cobra/flux_analysis/parsimonious.py\u001b[0m in \u001b[0;36mpfba\u001b[0;34m(model, fraction_of_optimum, objective, reactions)\u001b[0m\n\u001b[1;32m     93\u001b[0m     \u001b[0;32mwith\u001b[0m \u001b[0mmodel\u001b[0m \u001b[0;32mas\u001b[0m \u001b[0mm\u001b[0m\u001b[0;34m:\u001b[0m\u001b[0;34m\u001b[0m\u001b[0;34m\u001b[0m\u001b[0m\n\u001b[1;32m     94\u001b[0m         \u001b[0madd_pfba\u001b[0m\u001b[0;34m(\u001b[0m\u001b[0mm\u001b[0m\u001b[0;34m,\u001b[0m \u001b[0mobjective\u001b[0m\u001b[0;34m=\u001b[0m\u001b[0mobjective\u001b[0m\u001b[0;34m,\u001b[0m \u001b[0mfraction_of_optimum\u001b[0m\u001b[0;34m=\u001b[0m\u001b[0mfraction_of_optimum\u001b[0m\u001b[0;34m)\u001b[0m\u001b[0;34m\u001b[0m\u001b[0;34m\u001b[0m\u001b[0m\n\u001b[0;32m---> 95\u001b[0;31m         \u001b[0mm\u001b[0m\u001b[0;34m.\u001b[0m\u001b[0mslim_optimize\u001b[0m\u001b[0;34m(\u001b[0m\u001b[0merror_value\u001b[0m\u001b[0;34m=\u001b[0m\u001b[0;32mNone\u001b[0m\u001b[0;34m)\u001b[0m\u001b[0;34m\u001b[0m\u001b[0;34m\u001b[0m\u001b[0m\n\u001b[0m\u001b[1;32m     96\u001b[0m         \u001b[0msolution\u001b[0m \u001b[0;34m=\u001b[0m \u001b[0mget_solution\u001b[0m\u001b[0;34m(\u001b[0m\u001b[0mm\u001b[0m\u001b[0;34m,\u001b[0m \u001b[0mreactions\u001b[0m\u001b[0;34m=\u001b[0m\u001b[0mreactions\u001b[0m\u001b[0;34m)\u001b[0m\u001b[0;34m\u001b[0m\u001b[0;34m\u001b[0m\u001b[0m\n\u001b[1;32m     97\u001b[0m     \u001b[0;32mreturn\u001b[0m \u001b[0msolution\u001b[0m\u001b[0;34m\u001b[0m\u001b[0;34m\u001b[0m\u001b[0m\n",
      "\u001b[0;32m~/Desktop/anaconda3/lib/python3.8/site-packages/cobra/core/model.py\u001b[0m in \u001b[0;36mslim_optimize\u001b[0;34m(self, error_value, message)\u001b[0m\n\u001b[1;32m   1198\u001b[0m             \u001b[0;32mreturn\u001b[0m \u001b[0merror_value\u001b[0m\u001b[0;34m\u001b[0m\u001b[0;34m\u001b[0m\u001b[0m\n\u001b[1;32m   1199\u001b[0m         \u001b[0;32melse\u001b[0m\u001b[0;34m:\u001b[0m\u001b[0;34m\u001b[0m\u001b[0;34m\u001b[0m\u001b[0m\n\u001b[0;32m-> 1200\u001b[0;31m             \u001b[0massert_optimal\u001b[0m\u001b[0;34m(\u001b[0m\u001b[0mself\u001b[0m\u001b[0;34m,\u001b[0m \u001b[0mmessage\u001b[0m\u001b[0;34m)\u001b[0m\u001b[0;34m\u001b[0m\u001b[0;34m\u001b[0m\u001b[0m\n\u001b[0m\u001b[1;32m   1201\u001b[0m \u001b[0;34m\u001b[0m\u001b[0m\n\u001b[1;32m   1202\u001b[0m     def optimize(\n",
      "\u001b[0;32m~/Desktop/anaconda3/lib/python3.8/site-packages/cobra/util/solver.py\u001b[0m in \u001b[0;36massert_optimal\u001b[0;34m(model, message)\u001b[0m\n\u001b[1;32m    588\u001b[0m     \u001b[0;32mif\u001b[0m \u001b[0mstatus\u001b[0m \u001b[0;34m!=\u001b[0m \u001b[0mOPTIMAL\u001b[0m\u001b[0;34m:\u001b[0m\u001b[0;34m\u001b[0m\u001b[0;34m\u001b[0m\u001b[0m\n\u001b[1;32m    589\u001b[0m         \u001b[0mexception_cls\u001b[0m \u001b[0;34m=\u001b[0m \u001b[0mOPTLANG_TO_EXCEPTIONS_DICT\u001b[0m\u001b[0;34m.\u001b[0m\u001b[0mget\u001b[0m\u001b[0;34m(\u001b[0m\u001b[0mstatus\u001b[0m\u001b[0;34m,\u001b[0m \u001b[0mOptimizationError\u001b[0m\u001b[0;34m)\u001b[0m\u001b[0;34m\u001b[0m\u001b[0;34m\u001b[0m\u001b[0m\n\u001b[0;32m--> 590\u001b[0;31m         \u001b[0;32mraise\u001b[0m \u001b[0mexception_cls\u001b[0m\u001b[0;34m(\u001b[0m\u001b[0;34mf\"{message} ({status}).\"\u001b[0m\u001b[0;34m)\u001b[0m\u001b[0;34m\u001b[0m\u001b[0;34m\u001b[0m\u001b[0m\n\u001b[0m\u001b[1;32m    591\u001b[0m \u001b[0;34m\u001b[0m\u001b[0m\n\u001b[1;32m    592\u001b[0m \u001b[0;34m\u001b[0m\u001b[0m\n",
      "\u001b[0;31mInfeasible\u001b[0m: None (infeasible)."
     ]
    }
   ],
   "source": [
    "## plot pareto plot\n",
    "objective1 =  'DM_HYDROGEN_PEROXIDE_cell'\n",
    "objective2 =  'AraCore_Biomass_tx'\n",
    "solution_primary=pareto_analysis(core_model, objective1 = objective1, objective2=objective2, pareto_range = pareto_range, metric = metric)\n",
    "#pd.DataFrame(result_list).to_excel('results.xlsx')\n",
    "data=pd.DataFrame(solution_primary)\n",
    "print(data)\n",
    "plt.plot(data[1],data[2]) \n",
    "plt.show()\n",
    "#objs_rs=[AraCore_Biomass_tx 'Phloem_output_tx','DM_NITRIC-OXIDE_cell','DM_HS_cell','DM_SUPER_OXIDE_cell','DM_HC00250_cell','DM_CPD0-1395_cell','DM_SO3_cell','DM_CPD-12377_cell','DM_HYDROGEN_PEROXIDE_cell','DM_ho2_rad_cell']"
   ]
  },
  {
   "cell_type": "code",
   "execution_count": null,
   "metadata": {},
   "outputs": [],
   "source": []
  },
  {
   "cell_type": "code",
   "execution_count": null,
   "metadata": {},
   "outputs": [],
   "source": []
  }
 ],
 "metadata": {
  "kernelspec": {
   "display_name": "base",
   "language": "python",
   "name": "python3"
  },
  "language_info": {
   "codemirror_mode": {
    "name": "ipython",
    "version": 3
   },
   "file_extension": ".py",
   "mimetype": "text/x-python",
   "name": "python",
   "nbconvert_exporter": "python",
   "pygments_lexer": "ipython3",
   "version": "3.8.8"
  },
  "orig_nbformat": 4
 },
 "nbformat": 4,
 "nbformat_minor": 2
}
