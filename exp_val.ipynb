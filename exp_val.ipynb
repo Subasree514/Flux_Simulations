{
 "cells": [
  {
   "cell_type": "markdown",
   "metadata": {},
   "source": []
  },
  {
   "cell_type": "code",
   "execution_count": 28,
   "metadata": {},
   "outputs": [],
   "source": [
    "from __future__ import division, print_function, absolute_import\n",
    "import csv\n",
    "import pandas\n",
    "from cobra.flux_analysis import (\n",
    "    single_gene_deletion, single_reaction_deletion, double_gene_deletion,\n",
    "    double_reaction_deletion)\n",
    "import os\n",
    "import xml.etree.ElementTree as etree\n",
    "import cobra\n",
    "import numpy as np\n",
    "from itertools import chain\n",
    "from cobra.util import solver as sutil\n",
    "from cobra.core.solution import get_solution\n",
    "from optlang.symbolics import add, Zero\n",
    "import pandas as pd\n",
    "import os\n",
    "from os.path import join\n",
    "import matplotlib.pyplot as plt\n",
    "from cobra.medium import minimal_medium\n",
    "# Press ⌃R to execute it or replace it with your code.\n",
    "# Press Double ⇧ to search everywhere for classes, files, tool windows, actions, and settings.\n",
    "from cobra.flux_analysis import production_envelope\n",
    "from cobra import Model, Reaction, Metabolite\n",
    "from cobra.flux_analysis import flux_variability_analysis\n",
    "import matplotlib.pyplot as plt\n",
    "from cobra.io import load_json_model, save_json_model, load_matlab_model, save_matlab_model, read_sbml_model, write_sbml_model\n",
    "\n"
   ]
  },
  {
   "cell_type": "code",
   "execution_count": 29,
   "metadata": {},
   "outputs": [],
   "source": [
    "## Pareto function\n",
    "# Pareto\n",
    "objective1={''}\n",
    "objective2={''}\n",
    "pareto_range = (0.0, 1.001)  # for some reason you need to pick a number higher than 1).\n",
    "pareto_step_size = 0.01\n",
    "analysis_type = 'pareto'\n",
    "metric = 'manhattan'\n",
    "rxn2avoid = {''}\n",
    "solver='gurobi'\n",
    "constants = {'deltaC_CO2': 0.0055, 'D_H2O_0': 2.13E-05, 'D_CO2_0': 1.33E-05, 'mid_day': 6, 'deltaT': 2,\n",
    "             'FeasTol': 1e-03, 'OptTol': 1e-03}\n",
    "def pareto_analysis(model, objective1=objective1, objective2=objective2, pareto_range=pareto_range, metric=metric):\n",
    "    reaction_obj1 = model.reactions.get_by_id(objective1)\n",
    "    reaction_obj2 = model.reactions.get_by_id(objective2)\n",
    "    result_list = []\n",
    "    model.objective = {}\n",
    "    reaction_obj1.objective_coefficient = 1\n",
    "    solution = model.optimize()\n",
    "    print(\"\\nSolving model (FBA) for determining objective 1 flux...\")\n",
    "    max_obj1 = dict(solution.fluxes)[objective1]\n",
    "    print(\"Max {0}: {1}\".format(objective1, max_obj1))\n",
    "    # change objective\n",
    "    reaction_obj1.objective_coefficient = 0\n",
    "    reaction_obj2.objective_coefficient = 1\n",
    "    print(\"\\nSolving all iterations for Pareto frontier (FBA)...\")\n",
    "    for pareto in np.arange(pareto_range[0], pareto_range[1], pareto_step_size):\n",
    "        if pareto == 1:\n",
    "            reaction_obj1.lower_bound = max_obj1 * pareto  # * 0.999 # we need to add a bit of slack as the quadratic optimization is less accurate than the linear couterpart\n",
    "        else:\n",
    "            reaction_obj1.lower_bound = max_obj1 * pareto  # * 0.9999\n",
    "        sol = model.optimize(objective_sense='maximize')\n",
    "        # fix this minimal water loss value\n",
    "        reaction_obj2.bounds = (sol.get_primal_by_id(objective2), sol.get_primal_by_id(objective2))\n",
    "        if metric == 'manhattan':\n",
    "            solution = cobra.flux_analysis.pfba(model)\n",
    "            # print({'proline sink': solution['SK_PRO_c_06'], 'biomass 05': solution['Leaf_biomass_tx_05'], 'biomass 06': solution['Leaf_biomass_tx_06']})\n",
    "            # solution.fluxes.to_excel(f'pareto_no_{pareto}.xlsx')\n",
    "            result_list.append([pareto, solution[objective1], solution[objective2]])\n",
    "            reaction_obj2.bounds = (0, 1000.0)\n",
    "        elif metric == 'euclidean':\n",
    "\n",
    "            # make copy because that is easier that reverting all the solver settings\n",
    "            copy_model = model.copy()\n",
    "            model.solver = solver\n",
    "\n",
    "            FeasTol = float(constants['FeasTol'])\n",
    "            OptTol = float(constants['OptTol'])\n",
    "\n",
    "            copy_model.solver.configuration.tolerances.feasibility = FeasTol\n",
    "            copy_model.solver.configuration.tolerances.optimality = OptTol\n",
    "\n",
    "            rxnlist = [r for r in copy_model.reactions if r.id not in rxn2avoid]\n",
    "\n",
    "            obj_vars = chain.from_iterable([r.flux_expression ** 2] for r in rxnlist)\n",
    "            copy_model.objective = copy_model.problem.Objective(add(obj_vars), direction='min')\n",
    "\n",
    "            print('\\nSolving quadratic minimisation of sum of fluxes')\n",
    "            #print(solver)\n",
    "            solution = copy_model.optimize(objective_sense=None)\n",
    "            result_list.append([pareto, solution[objective1], solution[objective2]])\n",
    "        reaction_obj2.bounds = (0, 1000.0)\n",
    "    return result_list"
   ]
  },
  {
   "cell_type": "code",
   "execution_count": 41,
   "metadata": {},
   "outputs": [],
   "source": [
    "model_rs = read_sbml_model('beta_day_RS_DM.xml')\n"
   ]
  },
  {
   "cell_type": "code",
   "execution_count": 42,
   "metadata": {},
   "outputs": [],
   "source": [
    "core_model=model_rs\n",
    "#core_model.metabolites.query('OXIDIZED')\n",
    "#core_model.metabolites.get_by_id('OXIDIZED_GLUTATHIONE_m')"
   ]
  },
  {
   "cell_type": "code",
   "execution_count": 43,
   "metadata": {},
   "outputs": [],
   "source": [
    "##Constraints\n",
    "rubisco = core_model.problem.Constraint(3 * core_model.reactions.get_by_id(\"RXN_961_p\").flux_expression - core_model.reactions.get_by_id(\"RIBULOSE_BISPHOSPHATE_CARBOXYLASE_RXN_p\").flux_expression,lb=0, ub=0,)\n",
    "core_model.add_cons_vars([rubisco])\n",
    "## \n",
    "atp = core_model.problem.Constraint((0.0049*core_model.reactions.get_by_id(\"Photon_tx\").flux_expression+2.7851)-core_model.reactions.get_by_id(\"ATPase_tx\").flux_expression, lb=0, ub=0)\n",
    "core_model.add_cons_vars(atp)\n",
    "##\n",
    "atp_nadph_03 = core_model.problem.Constraint(3 * (core_model.reactions.get_by_id(\"NADPHoxm_tx\").flux_expression + core_model.reactions.get_by_id(\"NADPHoxc_tx\").flux_expression + core_model.reactions.get_by_id(\"NADPHoxp_tx\").flux_expression) - core_model.reactions.get_by_id(\"ATPase_tx\").flux_expression, lb=0, ub=0)\n",
    "core_model.add_cons_vars(atp_nadph_03)"
   ]
  },
  {
   "cell_type": "code",
   "execution_count": 44,
   "metadata": {},
   "outputs": [],
   "source": [
    "## biotic\n",
    "h2o2_biotic = core_model.problem.Constraint(core_model.reactions.get_by_id(\"H2O2_p_demand\").flux_expression + core_model.reactions.get_by_id(\"H2O2_m_demand\").flux_expression + core_model.reactions.get_by_id(\"H2O2_x_demand\").flux_expression + core_model.reactions.get_by_id(\"H2O2_e_demand\").flux_expression, lb=0, ub=0.002339457096)\n",
    "#core_model.add_cons_vars(h2o2_biotic)\n",
    "#\n",
    "o2s_biotic = core_model.problem.Constraint(core_model.reactions.get_by_id(\"Super_oxide_p_demand\").flux_expression + core_model.reactions.get_by_id(\"Super_oxide_m_demand\").flux_expression + core_model.reactions.get_by_id(\"Super_oxide_x_demand\").flux_expression, lb=0, ub=0.00440746474)\n",
    "#core_model.add_cons_vars(o2s_biotic)\n",
    "\n",
    "## drought\n",
    "#h2o2_drought = core_model.problem.Constraint(core_model.reactions.get_by_id(\"H2O2_p_demand\").flux_expression + core_model.reactions.get_by_id(\"H2O2_m_demand\").flux_expression + core_model.reactions.get_by_id(\"H2O2_x_demand\").flux_expression + core_model.reactions.get_by_id(\"H2O2_e_demand\").flux_expression, lb=0, ub=13.24)\n",
    "#core_model.add_cons_vars(h2o2_drought)\n",
    "\n",
    "##\n",
    "h2o2_uvb = core_model.problem.Constraint(core_model.reactions.get_by_id(\"H2O2_e_demand\").flux_expression + core_model.reactions.get_by_id(\"H2O2_c_demand\").flux_expression, lb=0, ub=7.476968447)\n",
    "core_model.add_cons_vars(h2o2_uvb)\n",
    "#\n",
    "o2s_uvb = core_model.problem.Constraint(core_model.reactions.get_by_id(\"Super_oxide_c_demand\").flux_expression, lb=0, ub=0.0001540487974)\n",
    "core_model.add_cons_vars(o2s_uvb)\n",
    "\n",
    "## ellicitors\n",
    "h2o2_ell = core_model.problem.Constraint(core_model.reactions.get_by_id(\"H2O2_p_demand\").flux_expression + core_model.reactions.get_by_id(\"H2O2_m_demand\").flux_expression + core_model.reactions.get_by_id(\"H2O2_x_demand\").flux_expression + core_model.reactions.get_by_id(\"H2O2_e_demand\").flux_expression, lb=0, ub=0.03415905925)\n",
    "#core_model.add_cons_vars(h2o2_ell)\n",
    "#\n",
    "o2s_ell = core_model.problem.Constraint(core_model.reactions.get_by_id(\"Super_oxide_p_demand\").flux_expression + core_model.reactions.get_by_id(\"Super_oxide_m_demand\").flux_expression + core_model.reactions.get_by_id(\"Super_oxide_x_demand\").flux_expression, lb=0, ub=0.00585384449)\n",
    "#core_model.add_cons_vars(o2s_ell)\n",
    "\n",
    "## Nitric oxide\n",
    "h2o2_demand = core_model.problem.Constraint(core_model.reactions.get_by_id(\"DM_NITRIC-OXIDE_cell\").flux_expression, lb=0, ub=0.0001802061558)\n",
    "core_model.add_cons_vars(h2o2_demand)\n"
   ]
  },
  {
   "cell_type": "code",
   "execution_count": 45,
   "metadata": {},
   "outputs": [
    {
     "name": "stdout",
     "output_type": "stream",
     "text": [
      "\n",
      "Solving model (FBA) for determining objective 1 flux...\n",
      "Max DM_SUPER_OXIDE_cell: 125.16734857142856\n",
      "\n",
      "Solving all iterations for Pareto frontier (FBA)...\n",
      "        0           1         2\n",
      "0    0.00    0.000000  0.215272\n",
      "1    0.01    1.251673  0.213119\n",
      "2    0.02    2.503347  0.210967\n",
      "3    0.03    3.755020  0.208814\n",
      "4    0.04    5.006694  0.206661\n",
      "..    ...         ...       ...\n",
      "96   0.96  120.160655  0.008611\n",
      "97   0.97  121.412328  0.006458\n",
      "98   0.98  122.664002  0.004305\n",
      "99   0.99  123.915675  0.002153\n",
      "100  1.00  125.167349  0.000000\n",
      "\n",
      "[101 rows x 3 columns]\n"
     ]
    },
    {
     "data": {
      "image/png": "[encoded data removed]",
      "text/plain": [
       "<Figure size 640x480 with 1 Axes>"
      ]
     },
     "metadata": {},
     "output_type": "display_data"
    }
   ],
   "source": [
    "## plot pareto plot\n",
    "objective1 =  'DM_SUPER_OXIDE_cell'\n",
    "objective2 =  'AraCore_Biomass_tx'\n",
    "solution_primary=pareto_analysis(core_model, objective1 = objective1, objective2=objective2, pareto_range = pareto_range, metric = metric)\n",
    "#pd.DataFrame(result_list).to_excel('results.xlsx')\n",
    "data=pd.DataFrame(solution_primary)\n",
    "print(data)\n",
    "plt.plot(data[1],data[2]) \n",
    "#plt.ylim([0.2152,0.2153])\n",
    "#plt.xlim([0,0.03])\n",
    "plt.show()##\n",
    "#objs_rs=[AraCore_Biomass_tx 'Phloem_output_tx','DM_NITRIC-OXIDE_cell','DM_HS_cell','DM_SUPER_OXIDE_cell','DM_HC00250_cell','DM_CPD0-1395_cell','DM_SO3_cell','DM_CPD-12377_cell','DM_HYDROGEN_PEROXIDE_cell','DM_ho2_rad_cell']"
   ]
  }
 ],
 "metadata": {
  "kernelspec": {
   "display_name": "base",
   "language": "python",
   "name": "python3"
  },
  "language_info": {
   "codemirror_mode": {
    "name": "ipython",
    "version": 3
   },
   "file_extension": ".py",
   "mimetype": "text/x-python",
   "name": "python",
   "nbconvert_exporter": "python",
   "pygments_lexer": "ipython3",
   "version": "3.12.2"
  },
  "orig_nbformat": 4
 },
 "nbformat": 4,
 "nbformat_minor": 2
}
