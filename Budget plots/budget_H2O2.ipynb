{
 "cells": [
  {
   "cell_type": "code",
   "execution_count": 1,
   "metadata": {},
   "outputs": [],
   "source": [
    "from __future__ import division, print_function, absolute_import\n",
    "import csv\n",
    "import pandas\n",
    "from cobra.flux_analysis import (\n",
    "    single_gene_deletion, single_reaction_deletion, double_gene_deletion,\n",
    "    double_reaction_deletion)\n",
    "import os\n",
    "import xml.etree.ElementTree as etree\n",
    "import cobra\n",
    "import numpy as np\n",
    "from itertools import chain\n",
    "from cobra.util import solver as sutil\n",
    "from cobra.core.solution import get_solution\n",
    "from optlang.symbolics import add, Zero\n",
    "import pandas as pd\n",
    "import os\n",
    "from os.path import join\n",
    "import matplotlib.pyplot as plt\n",
    "from cobra.medium import minimal_medium\n",
    "# Press ⌃R to execute it or replace it with your code.\n",
    "# Press Double ⇧ to search everywhere for classes, files, tool windows, actions, and settings.\n",
    "from cobra.flux_analysis import production_envelope\n",
    "from cobra import Model, Reaction, Metabolite\n",
    "from cobra.flux_analysis import flux_variability_analysis\n",
    "import matplotlib.pyplot as plt\n",
    "from cobra.io import load_json_model, save_json_model, load_matlab_model, save_matlab_model, read_sbml_model, write_sbml_model\n",
    "import math"
   ]
  },
  {
   "cell_type": "code",
   "execution_count": 2,
   "metadata": {},
   "outputs": [],
   "source": [
    "## pareto\n",
    "objective1={''}\n",
    "objective2={''}\n",
    "pareto_range = (0.0, 1.001)  # for some reason you need to pick a number higher than 1).\n",
    "pareto_step_size = 0.01\n",
    "analysis_type = 'pareto'\n",
    "metric = 'manhattan'\n",
    "rxn2avoid = {''}\n",
    "primary=[]\n",
    "solver='gurobi'\n",
    "constants = {'deltaC_CO2': 0.0055, 'D_H2O_0': 2.13E-05, 'D_CO2_0': 1.33E-05, 'mid_day': 6, 'deltaT': 2,\n",
    "             'FeasTol': 1e-03, 'OptTol': 1e-03}\n",
    "def pareto_analysis(model, objective1=objective1, objective2=objective2, pareto_range=pareto_range, metric=metric,primary=primary):\n",
    "    reaction_obj1 = model.reactions.get_by_id(objective1)\n",
    "    reaction_obj2 = model.reactions.get_by_id(objective2)\n",
    "    result_list = []\n",
    "    solution_primary=[]\n",
    "    model.objective = {}\n",
    "    reaction_obj1.objective_coefficient = 1\n",
    "    solution = model.optimize()\n",
    "    print(\"\\nSolving model (FBA) for determining objective 1 flux...\")\n",
    "    max_obj1 = dict(solution.fluxes)[objective1]\n",
    "    print(\"Max {0}: {1}\".format(objective1, max_obj1))\n",
    "    # change objective\n",
    "    reaction_obj1.objective_coefficient = 0\n",
    "    reaction_obj2.objective_coefficient = 1\n",
    "    print(\"\\nSolving all iterations for Pareto frontier (FBA)...\")\n",
    "    for pareto in np.arange(pareto_range[0], pareto_range[1], pareto_step_size):\n",
    "        if pareto == 1:\n",
    "            reaction_obj1.lower_bound = max_obj1 * pareto  # * 0.999 # we need to add a bit of slack as the quadratic optimization is less accurate than the linear couterpart\n",
    "        else:\n",
    "            reaction_obj1.lower_bound = max_obj1 * pareto  # * 0.9999\n",
    "        sol = model.optimize(objective_sense='maximize')\n",
    "        # fix this minimal water loss value\n",
    "        reaction_obj2.bounds = (sol.get_primal_by_id(objective2), sol.get_primal_by_id(objective2))\n",
    "        if metric == 'manhattan':\n",
    "            solution = cobra.flux_analysis.pfba(model)\n",
    "            primary_dark=[]\n",
    "            for i in model.reactions:\n",
    "                primary_dark.append(i.id)\n",
    "            solution_primary.append(solution.fluxes[primary_dark])\n",
    "            reaction_obj2.bounds = (0, 1000.0)\n",
    "        elif metric == 'euclidean':\n",
    "\n",
    "            # make copy because that is easier that reverting all the solver settings\n",
    "            copy_model = model.copy()\n",
    "            model.solver = solver\n",
    "\n",
    "            FeasTol = float(constants['FeasTol'])\n",
    "            OptTol = float(constants['OptTol'])\n",
    "\n",
    "            copy_model.solver.configuration.tolerances.feasibility = FeasTol\n",
    "            copy_model.solver.configuration.tolerances.optimality = OptTol\n",
    "\n",
    "            rxnlist = [r for r in copy_model.reactions if r.id not in rxn2avoid]\n",
    "\n",
    "            obj_vars = chain.from_iterable([r.flux_expression ** 2] for r in rxnlist)\n",
    "            copy_model.objective = copy_model.problem.Objective(add(obj_vars), direction='min')\n",
    "\n",
    "            print('\\nSolving quadratic minimisation of sum of fluxes')\n",
    "            #print(solver)\n",
    "            solution = copy_model.optimize(objective_sense=None)\n",
    "            #result_list.append([pareto, solution[objective1], solution[objective2]])\n",
    "        reaction_obj2.bounds = (0, 1000.0)\n",
    "    #return result_list\n",
    "    return solution_primary"
   ]
  },
  {
   "cell_type": "code",
   "execution_count": 3,
   "metadata": {},
   "outputs": [
    {
     "name": "stdout",
     "output_type": "stream",
     "text": [
      "Set parameter Username\n",
      "Academic license - for non-commercial use only - expires 2025-08-16\n"
     ]
    },
    {
     "data": {
      "text/plain": [
       "[<Metabolite NITRIC-OXIDE_m at 0x7fb6daf71490>,\n",
       " <Metabolite NITRIC-OXIDE_x at 0x7fb6daf71c40>,\n",
       " <Metabolite NITRIC-OXIDE_e at 0x7fb6daf7f550>,\n",
       " <Metabolite NITRIC-OXIDE_n at 0x7fb6daf7fdc0>,\n",
       " <Metabolite NITRIC-OXIDE_p at 0x7fb6daf8e940>,\n",
       " <Metabolite NITRIC-OXIDE_c at 0x7fb6daf9e3d0>,\n",
       " <Metabolite NITRIC-OXIDE_cell at 0x7fb6dafae460>]"
      ]
     },
     "execution_count": 3,
     "metadata": {},
     "output_type": "execute_result"
    }
   ],
   "source": [
    "## Plots\n",
    "#model = cobra.io.load_matlab_model(join('/home/subasree/Desktop/Models_to_work/alpha_day_DM.mat'))\n",
    "model_rs = read_sbml_model('beta_antiox_dm.xml')\n",
    "core_model=model_rs\n",
    "core_model.metabolites.query('NITRIC-OXIDE')"
   ]
  },
  {
   "cell_type": "code",
   "execution_count": 4,
   "metadata": {},
   "outputs": [],
   "source": [
    "## biotic\n",
    "#h2o2_biotic = core_model.problem.Constraint(core_model.reactions.get_by_id(\"H2O2_p_demand\").flux_expression + core_model.reactions.get_by_id(\"H2O2_m_demand\").flux_expression + core_model.reactions.get_by_id(\"H2O2_x_demand\").flux_expression + core_model.reactions.get_by_id(\"H2O2_e_demand\").flux_expression, lb=0, ub=0.002339457096)\n",
    "#core_model.add_cons_vars(h2o2_biotic)\n",
    "#\n",
    "#o2s_biotic = core_model.problem.Constraint(core_model.reactions.get_by_id(\"Super_oxide_p_demand\").flux_expression + core_model.reactions.get_by_id(\"Super_oxide_m_demand\").flux_expression + core_model.reactions.get_by_id(\"Super_oxide_x_demand\").flux_expression, lb=0, ub=0.00440746474)\n",
    "#core_model.add_cons_vars(o2s_biotic)\n",
    "\n",
    "## drought\n",
    "#h2o2_drought = core_model.problem.Constraint(core_model.reactions.get_by_id(\"H2O2_p_demand\").flux_expression + core_model.reactions.get_by_id(\"H2O2_m_demand\").flux_expression + core_model.reactions.get_by_id(\"H2O2_x_demand\").flux_expression + core_model.reactions.get_by_id(\"H2O2_e_demand\").flux_expression, lb=0, ub=13.24)\n",
    "#core_model.add_cons_vars(h2o2_drought)\n",
    "\n",
    "##\n",
    "h2o2_uvb = core_model.problem.Constraint(core_model.reactions.get_by_id(\"H2O2_p_demand\").flux_expression + core_model.reactions.get_by_id(\"H2O2_m_demand\").flux_expression + core_model.reactions.get_by_id(\"H2O2_x_demand\").flux_expression, lb=0, ub=7.476968447)\n",
    "#core_model.add_cons_vars(h2o2_uvb)\n",
    "#\n",
    "o2s_uvb = core_model.problem.Constraint(core_model.reactions.get_by_id(\"Super_oxide_p_demand\").flux_expression + core_model.reactions.get_by_id(\"Super_oxide_m_demand\").flux_expression + core_model.reactions.get_by_id(\"Super_oxide_x_demand\").flux_expression, lb=0, ub=0.0001540487974)\n",
    "#core_model.add_cons_vars(o2s_uvb)\n",
    "\n",
    "## ellicitors\n",
    "#2o2_ell = core_model.problem.Constraint(core_model.reactions.get_by_id(\"H2O2_p_demand\").flux_expression + core_model.reactions.get_by_id(\"H2O2_m_demand\").flux_expression + core_model.reactions.get_by_id(\"H2O2_x_demand\").flux_expression + core_model.reactions.get_by_id(\"H2O2_e_demand\").flux_expression, lb=0, ub=0.03415905925)\n",
    "#core_model.add_cons_vars(h2o2_ell)\n",
    "#\n",
    "#o2s_ell = core_model.problem.Constraint(core_model.reactions.get_by_id(\"Super_oxide_p_demand\").flux_expression + core_model.reactions.get_by_id(\"Super_oxide_m_demand\").flux_expression + core_model.reactions.get_by_id(\"Super_oxide_x_demand\").flux_expression, lb=0, ub=0.00585384449)\n",
    "#core_model.add_cons_vars(o2s_ell)\n",
    "\n",
    "## Nitric oxide\n",
    "#h2o2_demand = core_model.problem.Constraint(core_model.reactions.get_by_id(\"DM_NITRIC-OXIDE_cell\").flux_expression, lb=0, ub=0.0001802061558)\n",
    "#core_model.add_cons_vars(h2o2_demand)\n"
   ]
  },
  {
   "cell_type": "code",
   "execution_count": 5,
   "metadata": {},
   "outputs": [],
   "source": [
    "##Constraints\n",
    "rubisco = core_model.problem.Constraint(1 * core_model.reactions.get_by_id(\"RXN_961_p\").flux_expression - core_model.reactions.get_by_id(\"RIBULOSE_BISPHOSPHATE_CARBOXYLASE_RXN_p\").flux_expression,lb=0, ub=0,)\n",
    "core_model.add_cons_vars([rubisco])\n",
    "\n",
    "atp = core_model.problem.Constraint((0.0049*core_model.reactions.get_by_id(\"Photon_tx\").flux_expression+2.7851)-core_model.reactions.get_by_id(\"ATPase_tx\").flux_expression, lb=0, ub=0)\n",
    "core_model.add_cons_vars(atp)\n",
    "\n",
    "atp_nadph_03 = core_model.problem.Constraint(3 * (core_model.reactions.get_by_id(\"NADPHoxm_tx\").flux_expression + core_model.reactions.get_by_id(\"NADPHoxc_tx\").flux_expression + core_model.reactions.get_by_id(\"NADPHoxp_tx\").flux_expression) - core_model.reactions.get_by_id(\"ATPase_tx\").flux_expression, lb=0, ub=0)\n",
    "core_model.add_cons_vars(atp_nadph_03)"
   ]
  },
  {
   "cell_type": "code",
   "execution_count": 6,
   "metadata": {},
   "outputs": [
    {
     "name": "stdout",
     "output_type": "stream",
     "text": [
      "\n",
      "Solving model (FBA) for determining objective 1 flux...\n",
      "Max DM_HYDROGEN_PEROXIDE_cell: 95.77869582066668\n",
      "\n",
      "Solving all iterations for Pareto frontier (FBA)...\n"
     ]
    }
   ],
   "source": [
    "## plot pareto plot\n",
    "objective1 =  'DM_HYDROGEN_PEROXIDE_cell' #ho2_rad_p_demand AraCore_Biomass_tx DM_HS_cell DM_CPD0-1395_cell'DM_SUPER_OXIDE_cell'#'DM_NITRIC-OXIDE_cell'#'DM_CPD-12377_cell'#'DM_HYDROGEN_PEROXIDE_cell'\n",
    "objective2 =  'AraCore_Biomass_tx'#Arabidopsis_biomass_tx' 'AraCore_Biomass_tx'\n",
    "solution_primary=pareto_analysis(core_model, objective1 = objective1, objective2=objective2, pareto_range = pareto_range, metric = metric)\n",
    "#pd.DataFrame(result_list).to_excel('results.xlsx')\n"
   ]
  },
  {
   "cell_type": "code",
   "execution_count": 25,
   "metadata": {},
   "outputs": [],
   "source": [
    "data=pd.DataFrame(solution_primary)\n",
    "data_t=data.T\n",
    "solution_frame=pd.DataFrame(data_t.iloc[:,0])\n",
    "solution_frame.columns=['fluxes']"
   ]
  },
  {
   "cell_type": "code",
   "execution_count": 26,
   "metadata": {},
   "outputs": [
    {
     "name": "stdout",
     "output_type": "stream",
     "text": [
      "                           flux               reaction  percent\n",
      "RS_33                  0.000000                  RS_33      0.0\n",
      "RS_34                  0.000000                  RS_34      0.0\n",
      "RS_Plant_ALDO_C        0.000000        RS_Plant_ALDO_C      0.0\n",
      "RS_Plant_PSD2_nad_Mb   0.000000   RS_Plant_PSD2_nad_Mb      0.0\n",
      "RS_Plant_PSD2_nadp_Mb  0.000000  RS_Plant_PSD2_nadp_Mb      0.0\n",
      "SUPEROX_DISMUT_RXN_c   7.490006   SUPEROX_DISMUT_RXN_c      1.0\n",
      "                           flux               reaction  percent\n",
      "RS_Plant_SOD_M         0.000000         RS_Plant_SOD_M      0.0\n",
      "SULFITE_OXIDASE_RXN_m  4.357005  SULFITE_OXIDASE_RXN_m      1.0\n",
      "                           flux              reaction   percent\n",
      "RS_35_CP               0.000000              RS_35_CP  0.000000\n",
      "RS_46_CP               0.000000              RS_46_CP  0.000000\n",
      "RS_74_CP               0.000000              RS_74_CP  0.000000\n",
      "RS_Plant_2_P          80.802784          RS_Plant_2_P  0.915169\n",
      "SUPEROX_DISMUT_RXN_p   7.490006  SUPEROX_DISMUT_RXN_p  0.084831\n",
      "                       flux           reaction   percent\n",
      "A_B_oxidation_x    0.000000    A_B_oxidation_x  0.000000\n",
      "Beta_Oxidation_x   4.118325   Beta_Oxidation_x  0.945219\n",
      "RS_Plant_CAO_X     0.000000     RS_Plant_CAO_X  0.000000\n",
      "RS_Plant_MSOX_X    0.000000    RS_Plant_MSOX_X  0.000000\n",
      "RS_Plant_PIPOX__X  0.000000  RS_Plant_PIPOX__X  0.000000\n",
      "RS_Plant_SOD_X     0.000000     RS_Plant_SOD_X  0.000000\n",
      "RS_Plant_URIC_X    0.000000    RS_Plant_URIC_X  0.000000\n",
      "RS_SUOX_X          0.000000          RS_SUOX_X  0.000000\n",
      "RXN_969_x          0.238680          RXN_969_x  0.054781\n",
      "                      flux              reaction  percent\n",
      "RS_Plant_H2O2_tr_V     0.0    RS_Plant_H2O2_tr_V      NaN\n",
      "RS_Plant_PSD2_nad_V    0.0   RS_Plant_PSD2_nad_V      NaN\n",
      "RS_Plant_PSD2_nadp_V   0.0  RS_Plant_PSD2_nadp_V      NaN\n",
      "RS_Plant_SOD_V         0.0        RS_Plant_SOD_V      NaN\n",
      "                flux        reaction  percent\n",
      "RS_Plant_CAO_E   0.0  RS_Plant_CAO_E      NaN\n",
      "RS_Plant_SOD_A   0.0  RS_Plant_SOD_A      NaN\n",
      "                 flux         reaction  percent\n",
      "RS_Plant_GLO2_G   0.0  RS_Plant_GLO2_G      NaN\n",
      "RS_Plant_UOD_G    0.0   RS_Plant_UOD_G      NaN\n",
      "                flux        reaction  percent\n",
      "RS_Plant_SOD_N   0.0  RS_Plant_SOD_N      NaN\n"
     ]
    }
   ],
   "source": [
    "#Creating an empty dataframe\n",
    "df_p = []\n",
    "df_c = []\n",
    "\n",
    "## H2O2\n",
    "budget_metabolites=[\"HYDROGEN_PEROXIDE_c\",\"HYDROGEN_PEROXIDE_m\",\"HYDROGEN_PEROXIDE_p\",\"HYDROGEN_PEROXIDE_x\",\"HYDROGEN_PEROXIDE_v\",\"HYDROGEN_PEROXIDE_e\",\"HYDROGEN_PEROXIDE_g\",\"HYDROGEN_PEROXIDE_n\"]\n",
    "compartment = [\"_c\", \"_m\", \"_p\", \"_x\",\"_v\",\"_e\",\"_g\",\"_n\"]\n",
    "\n",
    "#budget_metabolites=[\"HYDROGEN_PEROXIDE_cell\"]\n",
    "#compartment = [\"_cell\"]\n",
    "\n",
    "#budget_metabolites=[\"SUPER_OXIDE_c\",\"SUPER_OXIDE_m\",\"SUPER_OXIDE_p\",\"SUPER_OXIDE_x\",\"SUPER_OXIDE_v\",\"SUPER_OXIDE_e\",\"SUPER_OXIDE_n\"]\n",
    "#compartment = [\"_c\", \"_m\", \"_p\", \"_x\",\"_v\",\"_e\",\"_g\"]\n",
    "\n",
    "#budget_metabolites=[\"SUPER_OXIDE_cell\"]\n",
    "#compartment = [\"_cell\"]\n",
    "\n",
    "#budget_metabolites=[\"NITRIC-OXIDE_n\",\"NITRIC-OXIDE_c\",\"NITRIC-OXIDE_m\",\"NITRIC-OXIDE_p\",\"NITRIC-OXIDE_x\",\"NITRIC-OXIDE_e\"]\n",
    "#compartment = [\"_n\",\"_c\", \"_m\", \"_p\", \"_x\",\"_e\"]\n",
    "\n",
    "#budget_metabolites=[\"NITRIC-OXIDE_cell\"]\n",
    "#compartment = [\"_cell\"]\n",
    "\n",
    "c3_model=core_model\n",
    "for (a,com) in zip(budget_metabolites,compartment):\n",
    "    i = c3_model.metabolites.get_by_id(a).summary()\n",
    "    p = i.producing_flux\n",
    "    c = i.consuming_flux\n",
    "\n",
    "# Retrieving the reactions using pandas and filtering the transport reactions\n",
    "    producer = p#.loc[:,\"reaction\"].str.endswith(com) \n",
    "    print(producer)\n",
    "    df_p.append(producer)\n",
    "    producer_df = pd.concat(df_p)\n",
    "        \n",
    "# Retrieving the reactions using pandas\n",
    "    consumer = c#.loc[:,\"reaction\"].str.endswith(com)\n",
    "    df_c.append(consumer)\n",
    "    consumer_df = pd.concat(df_c)\n",
    "consumers=list(consumer_df['reaction'])\n",
    "producers=list(producer_df.index)"
   ]
  },
  {
   "cell_type": "code",
   "execution_count": 27,
   "metadata": {},
   "outputs": [
    {
     "name": "stdout",
     "output_type": "stream",
     "text": [
      "                                 fluxes    Status  \\\n",
      "SUPEROX_DISMUT_RXN_c           7.490006  Producer   \n",
      "SULFITE_OXIDASE_RXN_m          4.357005  Producer   \n",
      "SUPEROX_DISMUT_RXN_p           7.490006  Producer   \n",
      "RXN_969_x                     10.176113  Producer   \n",
      "H2O2_c_demand                  7.490006  Consumer   \n",
      "RS_Plant_CAT_M                 2.178502  Consumer   \n",
      "H2O2_p_demand                  7.485906  Consumer   \n",
      "L_ASCORBATE_PEROXIDASE_RXN_p   0.004100  Consumer   \n",
      "CATAL_RXN_x                    5.088057  Consumer   \n",
      "\n",
      "                                                     label  \n",
      "SUPEROX_DISMUT_RXN_c                  SUPEROX_DISMUT_RXN_c  \n",
      "SULFITE_OXIDASE_RXN_m                SULFITE_OXIDASE_RXN_m  \n",
      "SUPEROX_DISMUT_RXN_p                  SUPEROX_DISMUT_RXN_p  \n",
      "RXN_969_x                                        RXN_969_x  \n",
      "H2O2_c_demand                                H2O2_c_demand  \n",
      "RS_Plant_CAT_M                              RS_Plant_CAT_M  \n",
      "H2O2_p_demand                                H2O2_p_demand  \n",
      "L_ASCORBATE_PEROXIDASE_RXN_p  L_ASCORBATE_PEROXIDASE_RXN_p  \n",
      "CATAL_RXN_x                                    CATAL_RXN_x  \n",
      "9\n"
     ]
    }
   ],
   "source": [
    "#Get flux values from the simulation for metabolite consuming/producing reactions (correct list)\n",
    "producers_df = solution_frame.loc[producers,:]\n",
    "#Make all values positive (disregard directionality)\n",
    "producers_df[\"fluxes\"] = producers_df[\"fluxes\"].abs()\n",
    "#Remove reactions with zero flux\n",
    "producers_df = producers_df[(producers_df.T != 0).all()]\n",
    "\n",
    "\n",
    "#Get flux values from the simulation for metabolite consuming/producing reactions (correct list)\n",
    "consumers_df = solution_frame.loc[consumers,:]\n",
    "#Make all values positive (disregard directionality)\n",
    "consumers_df[\"fluxes\"]  = consumers_df[\"fluxes\"].abs()\n",
    "#Remove reactions with zero flux3_P_SERINE_\n",
    "consumers_df = consumers_df[(consumers_df.T != 0).all()]\n",
    "\n",
    "\n",
    "producers_df[\"Status\"] = \"Producer\"\n",
    "consumers_df[\"Status\"] = \"Consumer\"\n",
    "\n",
    "frame = [producers_df, consumers_df]\n",
    "\n",
    "all_reactions = pd.concat(frame)\n",
    "\n",
    "all_reactions[\"label\"] = all_reactions.index\n",
    "print(all_reactions)\n",
    "\n",
    "\n",
    "#Correct Budget stoichiometry\n",
    "met_stoi=[]\n",
    "for i in all_reactions['label']:\n",
    "    for met in budget_metabolites:\n",
    "        try:\n",
    "            rxn=c3_model.reactions.get_by_id(i).get_coefficient(met)\n",
    "            met_stoi.append(abs(rxn))\n",
    "        except KeyError:\n",
    "            continue\n",
    "\n",
    "new_flux = all_reactions[\"fluxes\"] * met_stoi\n",
    "\n",
    "all_reactions.insert(3,'coefficient', met_stoi)\n",
    "all_reactions.insert(4,'new_flux', new_flux)\n",
    "\n",
    "#Sum the flux values\n",
    "#print(\"Sum of fluxes: {}\".format(all_reactions.groupby([\"Status\"]).new_flux.sum()))\n",
    "print(len(all_reactions.index))"
   ]
  },
  {
   "cell_type": "code",
   "execution_count": 16,
   "metadata": {},
   "outputs": [],
   "source": [
    "import random\n",
    "import matplotlib.pyplot as plt\n",
    "#Getting a list of colors\n",
    "random.seed(255)\n",
    "color = [\"#\"+''.join([random.choice('0123456789ABCDEF') for j in range(6)])\n",
    "            for i in range(22)]\n",
    "color_save=color[11:]\n",
    "color_rev_save=color[:11]"
   ]
  },
  {
   "cell_type": "code",
   "execution_count": 17,
   "metadata": {},
   "outputs": [
    {
     "name": "stdout",
     "output_type": "stream",
     "text": [
      "{'Beta_Oxidation_x': '#1A1B48', 'CATAL_RXN_x': '#C9E5E9', 'H2O2_c_demand': '#D24B96', 'H2O2_p_demand': '#EAEC46', 'L_ASCORBATE_PEROXIDASE_RXN_p': '#8B6DD7', 'RS_Plant_2_P': '#2C398F', 'RS_Plant_CAT_M': '#C65937', 'RXN_969_x': '#978DDB', 'SULFITE_OXIDASE_RXN_m': '#5B81D3', 'SUPEROX_DISMUT_RXN_c': '#EAD0CC', 'SUPEROX_DISMUT_RXN_p': '#E68FE9'}\n"
     ]
    }
   ],
   "source": [
    "#Defining the nº of colors\n",
    "number_of_colors = len(all_reactions.index)\n",
    "#Getting list of reactions\n",
    "reaction_list = list(all_reactions.index)\n",
    "reaction_list.sort()\n",
    "#Build color dictionary\n",
    "color_dict = {}\n",
    "for i in range(len(reaction_list)):\n",
    "    #if reaction_list[i] in reaction_list_save:\n",
    "        color_dict[reaction_list[i]] = color[i]\n",
    "    #else:\n",
    "        #color_dict[reaction_list[i]] = color_rev[i]\n",
    "print(color_dict)"
   ]
  },
  {
   "cell_type": "code",
   "execution_count": 18,
   "metadata": {},
   "outputs": [],
   "source": [
    "color=color_save\n",
    "color_rev=color_rev_save\n",
    "reaction_list_save=reaction_list"
   ]
  },
  {
   "cell_type": "code",
   "execution_count": 19,
   "metadata": {},
   "outputs": [
    {
     "data": {
      "text/plain": [
       "<Figure size 7200x5040 with 0 Axes>"
      ]
     },
     "metadata": {},
     "output_type": "display_data"
    },
    {
     "data": {
      "image/png": "[encoded data removed]",
      "text/plain": [
       "<Figure size 432x288 with 1 Axes>"
      ]
     },
     "metadata": {
      "needs_background": "light"
     },
     "output_type": "display_data"
    }
   ],
   "source": [
    "fig = plt.figure()\n",
    "plt.style.use('fast')\n",
    "chart = all_reactions.pivot_table(index=\"Status\", columns=\"label\", values=\"new_flux\")\n",
    "chart.plot.bar(rot = 0, stacked = True, legend = True, ylabel = \"Flux\", color = color_dict)\n",
    "plt.legend(loc='best', bbox_to_anchor=(1.0, 0.5, 0.5, 0.5), ncol = 2)\n",
    "#plt.title(\"Platoquinone Turnover in the Bundle Sheath Cell\")\n",
    "figsize = [15, 20] #To prevent the cropping of the image\n",
    "fig.set_size_inches(w=100,h=70)\n",
    "fig.tight_layout()\n",
    "#plt.savefig('full_max_o2s.pdf')"
   ]
  },
  {
   "cell_type": "code",
   "execution_count": 28,
   "metadata": {},
   "outputs": [
    {
     "name": "stdout",
     "output_type": "stream",
     "text": [
      "{'CATAL_RXN_x': '#C9E5E9', 'H2O2_c_demand': '#D24B96', 'H2O2_p_demand': '#EAEC46', 'L_ASCORBATE_PEROXIDASE_RXN_p': '#8B6DD7', 'RS_Plant_CAT_M': '#C65937', 'RXN_969_x': '#978DDB', 'SULFITE_OXIDASE_RXN_m': '#5B81D3', 'SUPEROX_DISMUT_RXN_c': '#EAD0CC', 'SUPEROX_DISMUT_RXN_p': '#E68FE9'}\n"
     ]
    }
   ],
   "source": [
    "#Defining the nº of colors\n",
    "number_of_colors = len(all_reactions.index)\n",
    "#Getting list of reactions\n",
    "reaction_list_new = list(all_reactions.index)\n",
    "reaction_list_new.sort()\n",
    "#Build color dictionary\n",
    "color_dict_new = {}\n",
    "for i in reaction_list_new:\n",
    "    if i in reaction_list_save:\n",
    "        color_dict_new[i] = color_dict[i]\n",
    "    else:\n",
    "        j=0\n",
    "        color_dict_new[i] = color_rev[j]\n",
    "        j+1\n",
    "print(color_dict_new)"
   ]
  },
  {
   "cell_type": "code",
   "execution_count": 29,
   "metadata": {},
   "outputs": [
    {
     "data": {
      "text/plain": [
       "<Figure size 7200x5040 with 0 Axes>"
      ]
     },
     "metadata": {},
     "output_type": "display_data"
    },
    {
     "data": {
      "image/png": "[encoded data removed]",
      "text/plain": [
       "<Figure size 432x288 with 1 Axes>"
      ]
     },
     "metadata": {
      "needs_background": "light"
     },
     "output_type": "display_data"
    },
    {
     "data": {
      "text/html": [
       "<div>\n",
       "<style scoped>\n",
       "    .dataframe tbody tr th:only-of-type {\n",
       "        vertical-align: middle;\n",
       "    }\n",
       "\n",
       "    .dataframe tbody tr th {\n",
       "        vertical-align: top;\n",
       "    }\n",
       "\n",
       "    .dataframe thead th {\n",
       "        text-align: right;\n",
       "    }\n",
       "</style>\n",
       "<table border=\"1\" class=\"dataframe\">\n",
       "  <thead>\n",
       "    <tr style=\"text-align: right;\">\n",
       "      <th>label</th>\n",
       "      <th>CATAL_RXN_x</th>\n",
       "      <th>H2O2_c_demand</th>\n",
       "      <th>H2O2_p_demand</th>\n",
       "      <th>L_ASCORBATE_PEROXIDASE_RXN_p</th>\n",
       "      <th>RS_Plant_CAT_M</th>\n",
       "      <th>RXN_969_x</th>\n",
       "      <th>SULFITE_OXIDASE_RXN_m</th>\n",
       "      <th>SUPEROX_DISMUT_RXN_c</th>\n",
       "      <th>SUPEROX_DISMUT_RXN_p</th>\n",
       "    </tr>\n",
       "    <tr>\n",
       "      <th>Status</th>\n",
       "      <th></th>\n",
       "      <th></th>\n",
       "      <th></th>\n",
       "      <th></th>\n",
       "      <th></th>\n",
       "      <th></th>\n",
       "      <th></th>\n",
       "      <th></th>\n",
       "      <th></th>\n",
       "    </tr>\n",
       "  </thead>\n",
       "  <tbody>\n",
       "    <tr>\n",
       "      <th>Consumer</th>\n",
       "      <td>10.176113</td>\n",
       "      <td>7.490006</td>\n",
       "      <td>7.485906</td>\n",
       "      <td>0.0041</td>\n",
       "      <td>4.357005</td>\n",
       "      <td>NaN</td>\n",
       "      <td>NaN</td>\n",
       "      <td>NaN</td>\n",
       "      <td>NaN</td>\n",
       "    </tr>\n",
       "    <tr>\n",
       "      <th>Producer</th>\n",
       "      <td>NaN</td>\n",
       "      <td>NaN</td>\n",
       "      <td>NaN</td>\n",
       "      <td>NaN</td>\n",
       "      <td>NaN</td>\n",
       "      <td>10.176113</td>\n",
       "      <td>4.357005</td>\n",
       "      <td>7.490006</td>\n",
       "      <td>7.490006</td>\n",
       "    </tr>\n",
       "  </tbody>\n",
       "</table>\n",
       "</div>"
      ],
      "text/plain": [
       "label     CATAL_RXN_x  H2O2_c_demand  H2O2_p_demand  \\\n",
       "Status                                                \n",
       "Consumer    10.176113       7.490006       7.485906   \n",
       "Producer          NaN            NaN            NaN   \n",
       "\n",
       "label     L_ASCORBATE_PEROXIDASE_RXN_p  RS_Plant_CAT_M  RXN_969_x  \\\n",
       "Status                                                              \n",
       "Consumer                        0.0041        4.357005        NaN   \n",
       "Producer                           NaN             NaN  10.176113   \n",
       "\n",
       "label     SULFITE_OXIDASE_RXN_m  SUPEROX_DISMUT_RXN_c  SUPEROX_DISMUT_RXN_p  \n",
       "Status                                                                       \n",
       "Consumer                    NaN                   NaN                   NaN  \n",
       "Producer               4.357005              7.490006              7.490006  "
      ]
     },
     "execution_count": 29,
     "metadata": {},
     "output_type": "execute_result"
    }
   ],
   "source": [
    "fig = plt.figure()\n",
    "plt.style.use('fast')\n",
    "chart = all_reactions.pivot_table(index=\"Status\", columns=\"label\", values=\"new_flux\")\n",
    "chart.plot.bar(rot = 0, stacked = True, legend = True, ylabel = \"Flux\", color = color_dict_new)\n",
    "plt.legend(loc='best', bbox_to_anchor=(1.0, 0.5, 0.5, 0.5), ncol = 2)\n",
    "#plt.title(\"Platoquinone Turnover in the Bundle Sheath Cell\")\n",
    "figsize = [15, 20] #To prevent the cropping of the image\n",
    "fig.set_size_inches(w=100,h=70)\n",
    "fig.tight_layout()\n",
    "#plt.savefig('full_max_o2s.pdf')\n",
    "plt.show()\n",
    "chart"
   ]
  }
 ],
 "metadata": {
  "kernelspec": {
   "display_name": "Python 3",
   "language": "python",
   "name": "python3"
  },
  "language_info": {
   "codemirror_mode": {
    "name": "ipython",
    "version": 3
   },
   "file_extension": ".py",
   "mimetype": "text/x-python",
   "name": "python",
   "nbconvert_exporter": "python",
   "pygments_lexer": "ipython3",
   "version": "3.8.8"
  },
  "orig_nbformat": 4
 },
 "nbformat": 4,
 "nbformat_minor": 2
}
