import cobra
import numpy as np
import pandas as pd
import matplotlib.pyplot as plt
from cobra.flux_analysis import production_envelope
from cobra import Model, Reaction, Metabolite
from cobra.flux_analysis import flux_variability_analysis
import matplotlib.pyplot as plt
from cobra.io import load_json_model, save_json_model, load_matlab_model, save_matlab_model, read_sbml_model, write_sbml_model
import os
from os.path import join

model_rs = cobra.io.load_matlab_model(join('/Users/subasrees/Desktop/RSmodule/September 24/Sep 16, 2024/Upload_Final/September 28/New Folder/Plant RS/new_day_RS_DM.mat'))
core_model=model_rs
with core_model:
    core_model.reactions.get_by_id('DM_HYDROGEN_PEROXIDE_cell[cell]').bounds = (0, 0)
    fva_0_rs=flux_variability_analysis(core_model, core_model.reactions)

with core_model:
    core_model.reactions.get_by_id('DM_HYDROGEN_PEROXIDE_cell[cell]').bounds = (75, 75)
    fva_half_rs=flux_variability_analysis(core_model, core_model.reactions)
with core_model:
    core_model.reactions.get_by_id('DM_HYDROGEN_PEROXIDE_cell[cell]').bounds = (150, 150)
    fva_max_rs=flux_variability_analysis(core_model, core_model.reactions)
##
model = cobra.io.load_matlab_model(join('/Users/subasrees/Desktop/RSmodule/September 24/Sep 16, 2024/Upload_Final/September 28/New Folder/Plant RS/new_day_DM.mat'))
core_model=model
with core_model:
    core_model.reactions.get_by_id('DM_HYDROGEN_PEROXIDE_cell[cell]').bounds = (0, 0)
    fva_0=flux_variability_analysis(core_model, core_model.reactions)
with core_model:
    core_model.reactions.get_by_id('DM_HYDROGEN_PEROXIDE_cell[cell]').bounds = (37.5, 37.5)
    fva_half=flux_variability_analysis(core_model, core_model.reactions)
with core_model:
    core_model.reactions.get_by_id('DM_HYDROGEN_PEROXIDE_cell[cell]').bounds = (75,75)
    fva_max=flux_variability_analysis(core_model, core_model.reactions)
