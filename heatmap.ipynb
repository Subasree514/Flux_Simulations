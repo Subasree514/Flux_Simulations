{
 "cells": [
  {
   "cell_type": "code",
   "execution_count": 8,
   "metadata": {},
   "outputs": [],
   "source": [
    "from __future__ import division, print_function, absolute_import\n",
    "import csv\n",
    "import pandas\n",
    "from cobra.flux_analysis import (\n",
    "    single_gene_deletion, single_reaction_deletion, double_gene_deletion,\n",
    "    double_reaction_deletion)\n",
    "import os\n",
    "import xml.etree.ElementTree as etree\n",
    "import cobra\n",
    "import numpy as np\n",
    "from itertools import chain\n",
    "from cobra.util import solver as sutil\n",
    "from cobra.core.solution import get_solution\n",
    "from optlang.symbolics import add, Zero\n",
    "import pandas as pd\n",
    "import os\n",
    "from os.path import join\n",
    "import matplotlib.pyplot as plt\n",
    "from cobra.medium import minimal_medium\n",
    "# Press ⌃R to execute it or replace it with your code.\n",
    "# Press Double ⇧ to search everywhere for classes, files, tool windows, actions, and settings.\n",
    "from cobra.flux_analysis import production_envelope\n",
    "from cobra import Model, Reaction, Metabolite\n",
    "from cobra.flux_analysis import flux_variability_analysis\n",
    "import matplotlib.pyplot as plt\n",
    "from cobra.io import load_json_model, save_json_model, load_matlab_model, save_matlab_model, read_sbml_model, write_sbml_model\n",
    "import math\n",
    "import seaborn as sns"
   ]
  },
  {
   "cell_type": "code",
   "execution_count": 9,
   "metadata": {},
   "outputs": [],
   "source": [
    "## pareto\n",
    "objective1={''}\n",
    "objective2={''}\n",
    "pareto_range = (0.0, 1.001)  # for some reason you need to pick a number higher than 1).\n",
    "pareto_step_size = 0.01\n",
    "analysis_type = 'pareto'\n",
    "metric = 'manhattan'\n",
    "rxn2avoid = {''}\n",
    "primary=[]\n",
    "solver='gurobi'\n",
    "constants = {'deltaC_CO2': 0.0055, 'D_H2O_0': 2.13E-05, 'D_CO2_0': 1.33E-05, 'mid_day': 6, 'deltaT': 2,\n",
    "             'FeasTol': 1e-03, 'OptTol': 1e-03}\n",
    "def pareto_analysis(model, objective1=objective1, objective2=objective2, pareto_range=pareto_range, metric=metric,primary=primary):\n",
    "    reaction_obj1 = model.reactions.get_by_id(objective1)\n",
    "    reaction_obj2 = model.reactions.get_by_id(objective2)\n",
    "    result_list = []\n",
    "    solution_primary=[]\n",
    "    model.objective = {}\n",
    "    reaction_obj1.objective_coefficient = 1\n",
    "    solution = model.optimize()\n",
    "    print(\"\\nSolving model (FBA) for determining objective 1 flux...\")\n",
    "    max_obj1 = dict(solution.fluxes)[objective1]\n",
    "    print(\"Max {0}: {1}\".format(objective1, max_obj1))\n",
    "    # change objective\n",
    "    reaction_obj1.objective_coefficient = 0\n",
    "    reaction_obj2.objective_coefficient = 1\n",
    "    print(\"\\nSolving all iterations for Pareto frontier (FBA)...\")\n",
    "    for pareto in np.arange(pareto_range[0], pareto_range[1], pareto_step_size):\n",
    "        if pareto == 1:\n",
    "            reaction_obj1.lower_bound = max_obj1 * pareto  # * 0.999 # we need to add a bit of slack as the quadratic optimization is less accurate than the linear couterpart\n",
    "        else:\n",
    "            reaction_obj1.lower_bound = max_obj1 * pareto  # * 0.9999\n",
    "        sol = model.optimize(objective_sense='maximize')\n",
    "        # fix this minimal water loss value\n",
    "        reaction_obj2.bounds = (sol.get_primal_by_id(objective2), sol.get_primal_by_id(objective2))\n",
    "        if metric == 'manhattan':\n",
    "            solution = cobra.flux_analysis.pfba(model)\n",
    "            primary_dark=[]\n",
    "            for i in model.reactions:\n",
    "                primary_dark.append(i.id)\n",
    "            solution_primary.append(solution.fluxes[primary_dark])\n",
    "            reaction_obj2.bounds = (0, 1000.0)\n",
    "        elif metric == 'euclidean':\n",
    "\n",
    "            # make copy because that is easier that reverting all the solver settings\n",
    "            copy_model = model.copy()\n",
    "            model.solver = solver\n",
    "\n",
    "            FeasTol = float(constants['FeasTol'])\n",
    "            OptTol = float(constants['OptTol'])\n",
    "\n",
    "            copy_model.solver.configuration.tolerances.feasibility = FeasTol\n",
    "            copy_model.solver.configuration.tolerances.optimality = OptTol\n",
    "\n",
    "            rxnlist = [r for r in copy_model.reactions if r.id not in rxn2avoid]\n",
    "\n",
    "            obj_vars = chain.from_iterable([r.flux_expression ** 2] for r in rxnlist)\n",
    "            copy_model.objective = copy_model.problem.Objective(add(obj_vars), direction='min')\n",
    "\n",
    "            print('\\nSolving quadratic minimisation of sum of fluxes')\n",
    "            #print(solver)\n",
    "            solution = copy_model.optimize(objective_sense=None)\n",
    "            #result_list.append([pareto, solution[objective1], solution[objective2]])\n",
    "        reaction_obj2.bounds = (0, 1000.0)\n",
    "    #return result_list\n",
    "    return solution_primary"
   ]
  },
  {
   "cell_type": "code",
   "execution_count": 10,
   "metadata": {},
   "outputs": [],
   "source": [
    "## Plots\n",
    "#model = cobra.io.load_matlab_model(join('/home/subasree/Desktop/Models_to_work/alpha_day_DM.mat'))\n",
    "model_rs = cobra.io.load_matlab_model(join('alpha_day_RS_DM.mat'))\n",
    "core_model=model_rs\n",
    "#core_model.add_boundary(core_model.metabolites.get_by_id(\"DNA_damage_cost_c\"), type=\"demand\")\n",
    "#core_model.add_boundary(core_model.metabolites.get_by_id('Protein_oxidation_cost_c'), type=\"demand\")\n",
    "#core_model.add_boundary(core_model.metabolites.get_by_id('Aminoacid_oxidation_cost_c'), type=\"demand\")\n",
    "#core_model.reactions.get_by_id('DM_CPD-12377_cell').add_metabolites({'DNA_damage_cost_c':1.0,'Protein_oxidation_cost_c':1.0})\n",
    "#core_model.reactions.get_by_id('DM_CPD0-1395_cell').add_metabolites({'DNA_damage_cost_c':1.0})\n",
    "\n",
    "##Constraints\n",
    "rubisco = core_model.problem.Constraint(3 * core_model.reactions.get_by_id(\"RXN_961_p\").flux_expression - core_model.reactions.get_by_id(\"RIBULOSE_BISPHOSPHATE_CARBOXYLASE_RXN_p\").flux_expression,lb=0, ub=0,)\n",
    "core_model.add_cons_vars([rubisco])\n",
    "\n",
    "atp = core_model.problem.Constraint(0.0049*core_model.reactions.get_by_id(\"Photon_tx\").flux_expression+2.7851-core_model.reactions.get_by_id(\"ATPase_tx\").flux_expression, lb=0, ub=0)\n",
    "core_model.add_cons_vars(atp)\n",
    "\n",
    "atp_nadph_03 = core_model.problem.Constraint(3 * (core_model.reactions.get_by_id(\"NADPHoxm_tx\").flux_expression + core_model.reactions.get_by_id(\"NADPHoxc_tx\").flux_expression + core_model.reactions.get_by_id(\"NADPHoxp_tx\").flux_expression) - core_model.reactions.get_by_id(\"ATPase_tx\").flux_expression, lb=0, ub=0)\n",
    "core_model.add_cons_vars(atp_nadph_03)"
   ]
  },
  {
   "cell_type": "code",
   "execution_count": 11,
   "metadata": {},
   "outputs": [],
   "source": [
    "k=[]\n",
    "for i in core_model.reactions:\n",
    "    r=core_model.get_associated_groups(i)\n",
    "    k.append(r)"
   ]
  },
  {
   "cell_type": "code",
   "execution_count": 12,
   "metadata": {},
   "outputs": [
    {
     "name": "stdout",
     "output_type": "stream",
     "text": [
      "\n",
      "Solving model (FBA) for determining objective 1 flux...\n",
      "Max DM_HYDROGEN_PEROXIDE_cell: 147.16326666666666\n",
      "\n",
      "Solving all iterations for Pareto frontier (FBA)...\n",
      "363\n"
     ]
    }
   ],
   "source": [
    "## plot pareto plot\n",
    "objective1 =  'DM_HYDROGEN_PEROXIDE_cell' #ho2_rad_p_demand AraCore_Biomass_tx DM_HS_cell DM_CPD0-1395_cell'DM_SUPER_OXIDE_cell'#'DM_NITRIC-OXIDE_cell'#'DM_CPD-12377_cell'#'DM_HYDROGEN_PEROXIDE_cell'\n",
    "objective2 =  'AraCore_Biomass_tx'\n",
    "solution_primary=pareto_analysis(core_model, objective1 = objective1, objective2=objective2, pareto_range = pareto_range, metric = metric)\n",
    "#pd.DataFrame(result_list).to_excel('results.xlsx')\n",
    "data=pd.DataFrame(solution_primary)\n",
    "data_t=data.T\n",
    "#print(data_t.head())\n",
    "index_len=np.arange(0,len(data_t.index),1)\n",
    "indices=data_t.index\n",
    "data_new=pd.DataFrame([data_t.iloc[:,0],data_t.iloc[:,50],data_t.iloc[:,100]])\n",
    "df_new=data_new.T\n",
    "df_new.columns=['zero','half_max','full_max']\n",
    "df_new['maximum']=abs(df_new).max(1)\n",
    "df_new['formulas']=core_model.reactions\n",
    "df_new['groups']=k\n",
    "df=df_new[(df_new['maximum']!=0)]\n",
    "col=['zero','half_max','full_max']\n",
    "data_new = pd.DataFrame()\n",
    "data_new.index=df.index\n",
    "#data_new.columns=col\n",
    "data_new['zero']=df['zero']/df['maximum']\n",
    "data_new['half_max']=df['half_max']/df['maximum']\n",
    "data_new['full_max']=df['full_max']/df['maximum']\n",
    "data_new['formulas']=df['formulas']\n",
    "data_new['groups']=df['groups']\n",
    "data_new=data_new.sort_values(by=['full_max','half_max'],ascending=False)\n",
    "print(len(data_new))\n",
    "\n"
   ]
  },
  {
   "cell_type": "code",
   "execution_count": 13,
   "metadata": {},
   "outputs": [
    {
     "data": {
      "image/png": "[encoded data removed]",
      "text/plain": [
       "<Figure size 432x288 with 2 Axes>"
      ]
     },
     "metadata": {
      "needs_background": "light"
     },
     "output_type": "display_data"
    }
   ],
   "source": [
    "fig=figsize=(25, 20)\n",
    "ax = sns.heatmap(data_new.iloc[:,0:3],yticklabels=15,cmap=\"coolwarm\")#DM_HS_cell=17 02S=16\n",
    "ax.set(xlabel=\"\", ylabel=\"\")\n",
    "ax.xaxis.tick_top()"
   ]
  },
  {
   "cell_type": "code",
   "execution_count": 14,
   "metadata": {},
   "outputs": [
    {
     "name": "stderr",
     "output_type": "stream",
     "text": [
      "<ipython-input-14-ab7f0a069038>:1: UserWarning: Pandas requires version '1.4.3' or newer of 'xlsxwriter' (version '1.3.8' currently installed).\n",
      "  data_new.to_excel('/Users/subasrees/Desktop/FluxMap_Workshop/heatmaps_and_budgets/heatmap_h202_rs.xlsx')\n"
     ]
    }
   ],
   "source": [
    "data_new.to_excel('/Users/subasrees/Desktop/FluxMap_Workshop/heatmaps_and_budgets/heatmap_h202_rs.xlsx')"
   ]
  }
 ],
 "metadata": {
  "kernelspec": {
   "display_name": "base",
   "language": "python",
   "name": "python3"
  },
  "language_info": {
   "codemirror_mode": {
    "name": "ipython",
    "version": 3
   },
   "file_extension": ".py",
   "mimetype": "text/x-python",
   "name": "python",
   "nbconvert_exporter": "python",
   "pygments_lexer": "ipython3",
   "version": "3.8.8"
  },
  "orig_nbformat": 4
 },
 "nbformat": 4,
 "nbformat_minor": 2
}
