{
 "cells": [
  {
   "cell_type": "markdown",
   "metadata": {},
   "source": []
  },
  {
   "cell_type": "code",
   "execution_count": 2,
   "metadata": {},
   "outputs": [],
   "source": [
    "from __future__ import division, print_function, absolute_import\n",
    "import csv\n",
    "import pandas\n",
    "from cobra.flux_analysis import (\n",
    "    single_gene_deletion, single_reaction_deletion, double_gene_deletion,\n",
    "    double_reaction_deletion)\n",
    "import os\n",
    "import xml.etree.ElementTree as etree\n",
    "import cobra\n",
    "import numpy as np\n",
    "from itertools import chain\n",
    "from cobra.util import solver as sutil\n",
    "from cobra.core.solution import get_solution\n",
    "from optlang.symbolics import add, Zero\n",
    "import pandas as pd\n",
    "import os\n",
    "from os.path import join\n",
    "import matplotlib.pyplot as plt\n",
    "from cobra.medium import minimal_medium\n",
    "# Press ⌃R to execute it or replace it with your code.\n",
    "# Press Double ⇧ to search everywhere for classes, files, tool windows, actions, and settings.\n",
    "from cobra.flux_analysis import production_envelope\n",
    "from cobra import Model, Reaction, Metabolite\n",
    "from cobra.flux_analysis import flux_variability_analysis\n",
    "import matplotlib.pyplot as plt\n",
    "from cobra.io import load_json_model, save_json_model, load_matlab_model, save_matlab_model, read_sbml_model, write_sbml_model\n",
    "\n"
   ]
  },
  {
   "cell_type": "code",
   "execution_count": 3,
   "metadata": {},
   "outputs": [],
   "source": [
    "## Pareto function\n",
    "# Pareto\n",
    "objective1={''}\n",
    "objective2={''}\n",
    "pareto_range = (0.0, 1.001)  # for some reason you need to pick a number higher than 1).\n",
    "pareto_step_size = 0.01\n",
    "analysis_type = 'pareto'\n",
    "metric = 'manhattan'\n",
    "rxn2avoid = {''}\n",
    "solver='gurobi'\n",
    "constants = {'deltaC_CO2': 0.0055, 'D_H2O_0': 2.13E-05, 'D_CO2_0': 1.33E-05, 'mid_day': 6, 'deltaT': 2,\n",
    "             'FeasTol': 1e-03, 'OptTol': 1e-03}\n",
    "def pareto_analysis(model, objective1=objective1, objective2=objective2, pareto_range=pareto_range, metric=metric):\n",
    "    reaction_obj1 = model.reactions.get_by_id(objective1)\n",
    "    reaction_obj2 = model.reactions.get_by_id(objective2)\n",
    "    result_list = []\n",
    "    model.objective = {}\n",
    "    reaction_obj1.objective_coefficient = 1\n",
    "    solution = model.optimize()\n",
    "    print(\"\\nSolving model (FBA) for determining objective 1 flux...\")\n",
    "    max_obj1 = dict(solution.fluxes)[objective1]\n",
    "    print(\"Max {0}: {1}\".format(objective1, max_obj1))\n",
    "    # change objective\n",
    "    reaction_obj1.objective_coefficient = 0\n",
    "    reaction_obj2.objective_coefficient = 1\n",
    "    print(\"\\nSolving all iterations for Pareto frontier (FBA)...\")\n",
    "    for pareto in np.arange(pareto_range[0], pareto_range[1], pareto_step_size):\n",
    "        if pareto == 1:\n",
    "            reaction_obj1.lower_bound = max_obj1 * pareto  # * 0.999 # we need to add a bit of slack as the quadratic optimization is less accurate than the linear couterpart\n",
    "        else:\n",
    "            reaction_obj1.lower_bound = max_obj1 * pareto  # * 0.9999\n",
    "        sol = model.optimize(objective_sense='maximize')\n",
    "        # fix this minimal water loss value\n",
    "        reaction_obj2.bounds = (sol.get_primal_by_id(objective2), sol.get_primal_by_id(objective2))\n",
    "        if metric == 'manhattan':\n",
    "            solution = cobra.flux_analysis.pfba(model)\n",
    "            # print({'proline sink': solution['SK_PRO_c_06'], 'biomass 05': solution['Leaf_biomass_tx_05'], 'biomass 06': solution['Leaf_biomass_tx_06']})\n",
    "            # solution.fluxes.to_excel(f'pareto_no_{pareto}.xlsx')\n",
    "            result_list.append([pareto, solution[objective1], solution[objective2]])\n",
    "            reaction_obj2.bounds = (0, 1000.0)\n",
    "        elif metric == 'euclidean':\n",
    "\n",
    "            # make copy because that is easier that reverting all the solver settings\n",
    "            copy_model = model.copy()\n",
    "            model.solver = solver\n",
    "\n",
    "            FeasTol = float(constants['FeasTol'])\n",
    "            OptTol = float(constants['OptTol'])\n",
    "\n",
    "            copy_model.solver.configuration.tolerances.feasibility = FeasTol\n",
    "            copy_model.solver.configuration.tolerances.optimality = OptTol\n",
    "\n",
    "            rxnlist = [r for r in copy_model.reactions if r.id not in rxn2avoid]\n",
    "\n",
    "            obj_vars = chain.from_iterable([r.flux_expression ** 2] for r in rxnlist)\n",
    "            copy_model.objective = copy_model.problem.Objective(add(obj_vars), direction='min')\n",
    "\n",
    "            print('\\nSolving quadratic minimisation of sum of fluxes')\n",
    "            #print(solver)\n",
    "            solution = copy_model.optimize(objective_sense=None)\n",
    "            result_list.append([pareto, solution[objective1], solution[objective2]])\n",
    "        reaction_obj2.bounds = (0, 1000.0)\n",
    "    return result_list"
   ]
  },
  {
   "cell_type": "code",
   "execution_count": 4,
   "metadata": {},
   "outputs": [
    {
     "name": "stdout",
     "output_type": "stream",
     "text": [
      "Set parameter Username\n",
      "Academic license - for non-commercial use only - expires 2025-08-16\n",
      "Objective\n",
      "=========\n",
      "1.0 AraCore_Biomass_tx = 759.8992379743938\n",
      "\n",
      "Uptake\n",
      "------\n",
      "      Metabolite   Reaction    Flux  C-Number  C-Flux\n",
      "CARBON_DIOXIDE_e     CO2_tx   28.67         1 100.00%\n",
      "          CAII_e      Ca_tx  0.2912         0   0.00%\n",
      "         WATER_e     H2O_tx   24.59         0   0.00%\n",
      "            KI_e       K_tx  0.5956         0   0.00%\n",
      "          MGII_e      Mg_tx  0.1919         0   0.00%\n",
      "       NITRATE_e Nitrate_tx   2.515         0   0.00%\n",
      "        Photon_e  Photon_tx     300         0   0.00%\n",
      "            Pi_e      Pi_tx  0.1166         0   0.00%\n",
      "       SULFATE_e     SO4_tx 0.03596         0   0.00%\n",
      "\n",
      "Secretion\n",
      "---------\n",
      "       Metabolite Reaction   Flux  C-Number C-Flux\n",
      "         PROTON_e     H_tx -1.007         0  0.00%\n",
      "OXYGEN_MOLECULE_e    O2_tx -35.36         0  0.00%\n",
      "\n"
     ]
    },
    {
     "data": {
      "text/plain": [
       "[<Metabolite ASCORBATE_m at 0x1823756a0>,\n",
       " <Metabolite ASCORBATE_p at 0x182377710>,\n",
       " <Metabolite L_DEHYDRO_ASCORBATE_m at 0x182374b00>,\n",
       " <Metabolite L_DEHYDRO_ASCORBATE_p at 0x181ec6cc0>,\n",
       " <Metabolite ASCORBATE_c at 0x18241cb30>]"
      ]
     },
     "execution_count": 4,
     "metadata": {},
     "output_type": "execute_result"
    }
   ],
   "source": [
    "model = read_sbml_model('beta_day_DM_new.xml')\n",
    "core_model=model\n",
    "#core_model.reactions.get_by_id('Photon_tx').bounds = (0,29.96568)\n",
    "sol = core_model.optimize()\n",
    "print(core_model.summary(sol))\n",
    "\n",
    "core_model.metabolites.query('ASCORBATE')\n",
    "#core_model.metabolites.get_by_id('OXIDIZED_GLUTATHIONE_m')"
   ]
  },
  {
   "cell_type": "code",
   "execution_count": 5,
   "metadata": {},
   "outputs": [],
   "source": [
    "##Constraints\n",
    "rubisco = core_model.problem.Constraint(3 * core_model.reactions.get_by_id(\"RXN_961_p\").flux_expression - core_model.reactions.get_by_id(\"RIBULOSE_BISPHOSPHATE_CARBOXYLASE_RXN_p\").flux_expression,lb=0, ub=0,)\n",
    "core_model.add_cons_vars([rubisco])\n",
    "## \n",
    "atp = core_model.problem.Constraint((0.0049*core_model.reactions.get_by_id(\"Photon_tx\").flux_expression+2.7851)-core_model.reactions.get_by_id(\"ATPase_tx\").flux_expression, lb=0, ub=0)\n",
    "core_model.add_cons_vars(atp)\n",
    "##\n",
    "atp_nadph_03 = core_model.problem.Constraint(3 * (core_model.reactions.get_by_id(\"NADPHoxm_tx\").flux_expression + core_model.reactions.get_by_id(\"NADPHoxc_tx\").flux_expression + core_model.reactions.get_by_id(\"NADPHoxp_tx\").flux_expression) - core_model.reactions.get_by_id(\"ATPase_tx\").flux_expression, lb=0, ub=0)\n",
    "core_model.add_cons_vars(atp_nadph_03)"
   ]
  },
  {
   "cell_type": "code",
   "execution_count": 63,
   "metadata": {},
   "outputs": [],
   "source": [
    "## biotic\n",
    "#h2o2_biotic = core_model.problem.Constraint(core_model.reactions.get_by_id(\"H2O2_p_demand\").flux_expression + core_model.reactions.get_by_id(\"H2O2_m_demand\").flux_expression + core_model.reactions.get_by_id(\"H2O2_x_demand\").flux_expression + core_model.reactions.get_by_id(\"H2O2_e_demand\").flux_expression, lb=0, ub=0.002339457096)\n",
    "#core_model.add_cons_vars(h2o2_biotic)\n",
    "#\n",
    "#o2s_biotic = core_model.problem.Constraint(core_model.reactions.get_by_id(\"Super_oxide_p_demand\").flux_expression + core_model.reactions.get_by_id(\"Super_oxide_m_demand\").flux_expression + core_model.reactions.get_by_id(\"Super_oxide_x_demand\").flux_expression, lb=0, ub=0.00440746474)\n",
    "#core_model.add_cons_vars(o2s_biotic)\n",
    "\n",
    "## drought\n",
    "#h2o2_drought = core_model.problem.Constraint(core_model.reactions.get_by_id(\"H2O2_p_demand\").flux_expression + core_model.reactions.get_by_id(\"H2O2_m_demand\").flux_expression + core_model.reactions.get_by_id(\"H2O2_x_demand\").flux_expression + core_model.reactions.get_by_id(\"H2O2_e_demand\").flux_expression, lb=0, ub=13.24)\n",
    "#core_model.add_cons_vars(h2o2_drought)\n",
    "\n",
    "##\n",
    "#h2o2_uvb = core_model.problem.Constraint(core_model.reactions.get_by_id(\"H2O2_e_demand\").flux_expression + core_model.reactions.get_by_id(\"H2O2_c_demand\").flux_expression, lb=0, ub=7.476968447)\n",
    "#core_model.add_cons_vars(h2o2_uvb)\n",
    "#\n",
    "#o2s_uvb = core_model.problem.Constraint(core_model.reactions.get_by_id(\"Super_oxide_c_demand\").flux_expression, lb=0, ub=0.0001540487974)\n",
    "#core_model.add_cons_vars(o2s_uvb)\n",
    "\n",
    "## ellicitors\n",
    "#h2o2_ell = core_model.problem.Constraint(core_model.reactions.get_by_id(\"H2O2_p_demand\").flux_expression + core_model.reactions.get_by_id(\"H2O2_m_demand\").flux_expression + core_model.reactions.get_by_id(\"H2O2_x_demand\").flux_expression + core_model.reactions.get_by_id(\"H2O2_e_demand\").flux_expression, lb=0, ub=0.03415905925)\n",
    "#core_model.add_cons_vars(h2o2_ell)\n",
    "#\n",
    "#o2s_ell = core_model.problem.Constraint(core_model.reactions.get_by_id(\"Super_oxide_p_demand\").flux_expression + core_model.reactions.get_by_id(\"Super_oxide_m_demand\").flux_expression + core_model.reactions.get_by_id(\"Super_oxide_x_demand\").flux_expression, lb=0, ub=0.00585384449)\n",
    "#core_model.add_cons_vars(o2s_ell)\n",
    "\n",
    "## Nitric oxide\n",
    "#h2o2_demand = core_model.problem.Constraint(core_model.reactions.get_by_id(\"DM_NITRIC-OXIDE_cell\").flux_expression, lb=0.0001802061558, ub=1000)\n",
    "#core_model.add_cons_vars(h2o2_demand)\n",
    "\n",
    "## Hypoxia\n",
    "#h2o2_hypoxia = core_model.problem.Constraint(core_model.reactions.get_by_id(\"DM_HYDROGEN_PEROXIDE_cell\").flux_expression, lb=0, ub=0.11)#0.11,0.35\n",
    "#core_model.add_cons_vars(h2o2_hypoxia)\n",
    "#\n",
    "#o2s_hypoxia = core_model.problem.Constraint(core_model.reactions.get_by_id(\"DM_SUPER_OXIDE_cell\").flux_expression, lb=0, ub=0.56)# 0.56,10.1\n",
    "#core_model.add_cons_vars(o2s_hypoxia)\n"
   ]
  },
  {
   "cell_type": "code",
   "execution_count": 6,
   "metadata": {},
   "outputs": [],
   "source": [
    "## Initialize demand metabolites for all RS\n",
    "core_model.add_metabolites([\n",
    "    Metabolite(\n",
    "    'GLUTATHIONE_cell',\n",
    "    name='GLUTATHIONE',\n",
    "    compartment='cell',\n",
    "    formula='C10H16N3O6S',\n",
    "    charge=-1\n",
    "    ),\n",
    "    Metabolite('ASCORBATE_cell',\n",
    "    name='ASCORBATE',\n",
    "    compartment='cell',\n",
    "    formula='C6H7O6',\n",
    "    charge=-1\n",
    "    ),\n",
    "    Metabolite('L_DEHYDRO_ASCORBATE_cell',\n",
    "    name='L_DEHYDRO_ASCORBATE',\n",
    "    compartment='cell',\n",
    "    formula='C6H5O6',\n",
    "    charge=-1\n",
    "    ),\n",
    "    Metabolite('OXIDIZED_GLUTATHIONE_cell',\n",
    "    name='OXIDIZED_GLUTATHIONE',\n",
    "    compartment='cell',\n",
    "    formula='C20H30N6O12S2',\n",
    "    charge=-2\n",
    "    )\n",
    "    ])"
   ]
  },
  {
   "cell_type": "code",
   "execution_count": 7,
   "metadata": {},
   "outputs": [
    {
     "name": "stdout",
     "output_type": "stream",
     "text": [
      "GLUTATHIONE_p --> GLUTATHIONE_cell\n",
      "GLUTATHIONE_m --> GLUTATHIONE_cell\n",
      "GLUTATHIONE_c --> GLUTATHIONE_cell\n"
     ]
    }
   ],
   "source": [
    "## Glutathione\n",
    "reaction = Reaction('Glutathione_p_demand')\n",
    "reaction.name = 'GLUTATHIONE plastid demand'\n",
    "reaction.subsystem = 'RS demand'\n",
    "reaction.lower_bound =0.  # This is the default\n",
    "reaction.upper_bound = 1000.  # This is the default\n",
    "reaction.add_metabolites({core_model.metabolites.get_by_id('GLUTATHIONE_p'): -1.0,core_model.metabolites.get_by_id('GLUTATHIONE_cell'): 1.0})\n",
    "core_model.add_reactions([reaction])\n",
    "print(reaction.reaction) \n",
    "##\n",
    "reaction = Reaction('Glutathione_m_demand')\n",
    "reaction.name = 'GLUTATHIONE mitochondrial demand'\n",
    "reaction.subsystem = 'RS demand'\n",
    "reaction.lower_bound =0.  # This is the default\n",
    "reaction.upper_bound = 1000.  # This is the default\n",
    "reaction.add_metabolites({core_model.metabolites.get_by_id('GLUTATHIONE_m'): -1.0,core_model.metabolites.get_by_id('GLUTATHIONE_cell'): 1.0})\n",
    "print(reaction.reaction) \n",
    "core_model.add_reactions([reaction])\n",
    "##\n",
    "reaction = Reaction('Glutathione_c_demand')\n",
    "reaction.name = 'GLUTATHIONE cytosolic transport'\n",
    "reaction.subsystem = 'RS demand'\n",
    "reaction.lower_bound =0.  # This is the default\n",
    "reaction.upper_bound = 1000.  # This is the default\n",
    "reaction.add_metabolites({core_model.metabolites.get_by_id ('GLUTATHIONE_c'): -1.0,core_model.metabolites.get_by_id('GLUTATHIONE_cell'): 1.0})\n",
    "print(reaction.reaction) \n",
    "core_model.add_reactions([reaction])"
   ]
  },
  {
   "cell_type": "code",
   "execution_count": 8,
   "metadata": {},
   "outputs": [
    {
     "name": "stdout",
     "output_type": "stream",
     "text": [
      "OXIDIZED_GLUTATHIONE_p --> OXIDIZED_GLUTATHIONE_cell\n",
      "OXIDIZED_GLUTATHIONE_m --> OXIDIZED_GLUTATHIONE_cell\n"
     ]
    }
   ],
   "source": [
    "## OXIDIZED_GLUTATHIONE\n",
    "reaction = Reaction('OXIDIZED_GLUTATHIONE_p_demand')\n",
    "reaction.name = 'OXIDIZED_GLUTATHIONE plastid demand'\n",
    "reaction.subsystem = 'RS demand'\n",
    "reaction.lower_bound =0.  # This is the default\n",
    "reaction.upper_bound = 1000.  # This is the default\n",
    "reaction.add_metabolites({core_model.metabolites.get_by_id('OXIDIZED_GLUTATHIONE_p'): -1.0,core_model.metabolites.get_by_id('OXIDIZED_GLUTATHIONE_cell'): 1.0})\n",
    "core_model.add_reactions([reaction])\n",
    "print(reaction.reaction) \n",
    "##\n",
    "reaction = Reaction('OXIDIZED_GLUTATHIONE_m_demand')\n",
    "reaction.name = 'OXIDIZED_GLUTATHIONE mitochondrial demand'\n",
    "reaction.subsystem = 'RS demand'\n",
    "reaction.lower_bound =0.  # This is the default\n",
    "reaction.upper_bound = 1000.  # This is the default\n",
    "reaction.add_metabolites({core_model.metabolites.get_by_id('OXIDIZED_GLUTATHIONE_m'): -1.0,core_model.metabolites.get_by_id('OXIDIZED_GLUTATHIONE_cell'): 1.0})\n",
    "print(reaction.reaction) \n",
    "core_model.add_reactions([reaction])\n"
   ]
  },
  {
   "cell_type": "code",
   "execution_count": 9,
   "metadata": {},
   "outputs": [
    {
     "name": "stdout",
     "output_type": "stream",
     "text": [
      "ASCORBATE_p --> ASCORBATE_cell\n",
      "ASCORBATE_m --> ASCORBATE_cell\n",
      "ASCORBATE_c --> ASCORBATE_cell\n"
     ]
    }
   ],
   "source": [
    "## ASCORBATE\n",
    "reaction = Reaction('ASCORBATE_p_demand')\n",
    "reaction.name = 'ASCORBATE plastid demand'\n",
    "reaction.subsystem = 'RS demand'\n",
    "reaction.lower_bound =0.  # This is the default\n",
    "reaction.upper_bound = 1000.  # This is the default\n",
    "reaction.add_metabolites({core_model.metabolites.get_by_id('ASCORBATE_p'): -1.0,core_model.metabolites.get_by_id('ASCORBATE_cell'): 1.0})\n",
    "core_model.add_reactions([reaction])\n",
    "print(reaction.reaction) \n",
    "##\n",
    "reaction = Reaction('ASCORBATE_m_demand')\n",
    "reaction.name = 'ASCORBATE mitochondrial demand'\n",
    "reaction.subsystem = 'RS demand'\n",
    "reaction.lower_bound =0.  # This is the default\n",
    "reaction.upper_bound = 1000.  # This is the default\n",
    "reaction.add_metabolites({core_model.metabolites.get_by_id('ASCORBATE_m'): -1.0,core_model.metabolites.get_by_id('ASCORBATE_cell'): 1.0})\n",
    "print(reaction.reaction) \n",
    "core_model.add_reactions([reaction])\n",
    "##\n",
    "reaction = Reaction('ASCORBATE_c_demand')\n",
    "reaction.name = 'ASCORBATE cytosolic transport'\n",
    "reaction.subsystem = 'RS demand'\n",
    "reaction.lower_bound =0.  # This is the default\n",
    "reaction.upper_bound = 1000.  # This is the default\n",
    "reaction.add_metabolites({core_model.metabolites.get_by_id ('ASCORBATE_c'): -1.0,core_model.metabolites.get_by_id('ASCORBATE_cell'): 1.0})\n",
    "print(reaction.reaction) \n",
    "core_model.add_reactions([reaction])"
   ]
  },
  {
   "cell_type": "code",
   "execution_count": 10,
   "metadata": {},
   "outputs": [
    {
     "name": "stdout",
     "output_type": "stream",
     "text": [
      "L_DEHYDRO_ASCORBATE_p --> L_DEHYDRO_ASCORBATE_cell\n",
      "L_DEHYDRO_ASCORBATE_m --> L_DEHYDRO_ASCORBATE_cell\n"
     ]
    }
   ],
   "source": [
    "## L_DEHYDRO_ASCORBATE\n",
    "reaction = Reaction('L_DEHYDRO_ASCORBATE_p_demand')\n",
    "reaction.name = 'L_DEHYDRO_ASCORBATE plastid demand'\n",
    "reaction.subsystem = 'RS demand'\n",
    "reaction.lower_bound =0.  # This is the default\n",
    "reaction.upper_bound = 1000.  # This is the default\n",
    "reaction.add_metabolites({core_model.metabolites.get_by_id('L_DEHYDRO_ASCORBATE_p'): -1.0,core_model.metabolites.get_by_id('L_DEHYDRO_ASCORBATE_cell'): 1.0})\n",
    "core_model.add_reactions([reaction])\n",
    "print(reaction.reaction) \n",
    "##\n",
    "reaction = Reaction('L_DEHYDRO_ASCORBATE_m_demand')\n",
    "reaction.name = 'L_DEHYDRO_ASCORBATE mitochondrial demand'\n",
    "reaction.subsystem = 'RS demand'\n",
    "reaction.lower_bound =0.  # This is the default\n",
    "reaction.upper_bound = 1000.  # This is the default\n",
    "reaction.add_metabolites({core_model.metabolites.get_by_id('L_DEHYDRO_ASCORBATE_m'): -1.0,core_model.metabolites.get_by_id('L_DEHYDRO_ASCORBATE_cell'): 1.0})\n",
    "print(reaction.reaction) \n",
    "core_model.add_reactions([reaction])"
   ]
  },
  {
   "cell_type": "code",
   "execution_count": 11,
   "metadata": {},
   "outputs": [],
   "source": [
    "core_model.add_boundary(core_model.metabolites.get_by_id(\"L_DEHYDRO_ASCORBATE_cell\"), type=\"demand\")\n",
    "core_model.reactions.get_by_id('DM_L_DEHYDRO_ASCORBATE_cell').bounds=(0.0041,1000)#0.0003739837398 0.0041\n",
    "\n",
    "core_model.add_boundary(core_model.metabolites.get_by_id(\"ASCORBATE_cell\"), type=\"demand\")\n",
    "core_model.reactions.get_by_id('DM_ASCORBATE_cell').bounds=(0.0088,1000) #0.0008057813911 0.0088\n",
    "\n",
    "core_model.add_boundary(core_model.metabolites.get_by_id(\"GLUTATHIONE_cell\"), type=\"demand\")\n",
    "core_model.reactions.get_by_id('DM_GLUTATHIONE_cell').bounds=(0.003,1000)#0.00027100271 0.003\n",
    "\n",
    "core_model.add_boundary(core_model.metabolites.get_by_id(\"OXIDIZED_GLUTATHIONE_cell\"), type=\"demand\")\n",
    "core_model.reactions.get_by_id('DM_OXIDIZED_GLUTATHIONE_cell').bounds=(0.00083,1000)#0.00007588075881 0.00083"
   ]
  },
  {
   "cell_type": "code",
   "execution_count": 70,
   "metadata": {},
   "outputs": [],
   "source": [
    "# superoxide dismutase\n",
    "#core_model.reactions.get_by_id('RS_Plant_SOD_X').bounds=(7.5,1000)\n",
    "#core_model.reactions.get_by_id('RS_Plant_SOD_M').bounds=(7.5,1000)\n",
    "#core_model.reactions.get_by_id('RS_Plant_SOD_A').bounds=(7.5,1000)\n",
    "#core_model.reactions.get_by_id('RS_Plant_SOD_N').bounds=(7.5,1000)\n",
    "#core_model.reactions.get_by_id('RS_Plant_SOD_V').bounds=(7.5,1000) loop\n",
    "core_model.reactions.get_by_id('SUPEROX_DISMUT_RXN_p').bounds=(7.490005839,1000)#7.490005839 0.4880487805\n",
    "core_model.reactions.get_by_id('SUPEROX_DISMUT_RXN_c').bounds=(7.490005839,1000)#7.490005839 0.4880487805"
   ]
  },
  {
   "cell_type": "code",
   "execution_count": 12,
   "metadata": {},
   "outputs": [],
   "source": [
    "core_model.reactions.get_by_id('CATAL_RXN_x').bounds=(2.178502448,1000)#2.178502448 0.06951219512\n",
    "#core_model.reactions.get_by_id('RS_Plant_CAT_M').bounds=(2.178502448,1000)#2.178502448 0.06951219512\n",
    "##\n",
    "#core_model.reactions.get_by_id('RS_Plant_Per3_V').bounds=(9.461943584,1000)\n",
    "##\n",
    "#core_model.reactions.get_by_id('L_ASCORBATE_PEROXIDASE_RXN_m').bounds=(31.04927458,1000)\n",
    "#core_model.reactions.get_by_id('L_ASCORBATE_PEROXIDASE_RXN_p').bounds=(31.04927458,1000)\n",
    "#core_model.reactions.get_by_id('RXN_3521_p').bounds=(31.04927458,1000)\n",
    "#core_model.reactions.get_by_id('RS_Plant_APX_X').bounds=(0,31.05)\n",
    "#core_model.reactions.get_by_id('RS_Plant_APX_C').bounds=(0,31.05)#loop\n",
    "#core_model.reactions.get_by_id('RS_Plant_APX_A').bounds=(0,31.05)\n",
    "#core_model.reactions.get_by_id('RS_Plant_APX_G').bounds=(0,31.05)\n",
    "beta_antiox_core_dm=core_model\n",
    "write_sbml_model(beta_antiox_core_dm,'beta_antiox_core_dm.xml')\n",
    "\n"
   ]
  },
  {
   "cell_type": "code",
   "execution_count": 13,
   "metadata": {},
   "outputs": [
    {
     "name": "stdout",
     "output_type": "stream",
     "text": [
      "Objective\n",
      "=========\n",
      "1.0 AraCore_Biomass_tx = 491.22805919609715\n",
      "\n",
      "Uptake\n",
      "------\n",
      "      Metabolite   Reaction    Flux  C-Number  C-Flux\n",
      "CARBON_DIOXIDE_e     CO2_tx   18.66         1 100.00%\n",
      "          CAII_e      Ca_tx  0.1882         0   0.00%\n",
      "         WATER_e     H2O_tx   18.78         0   0.00%\n",
      "            KI_e       K_tx   0.385         0   0.00%\n",
      "          MGII_e      Mg_tx  0.1241         0   0.00%\n",
      "       NITRATE_e Nitrate_tx    1.64         0   0.00%\n",
      "        Photon_e  Photon_tx     300         0   0.00%\n",
      "            Pi_e      Pi_tx  0.0754         0   0.00%\n",
      "       SULFATE_e     SO4_tx 0.02791         0   0.00%\n",
      "\n",
      "Secretion\n",
      "---------\n",
      "               Metabolite                     Reaction     Flux  C-Number C-Flux\n",
      "           ASCORBATE_cell            DM_ASCORBATE_cell  -0.0088         6 42.58%\n",
      "         GLUTATHIONE_cell          DM_GLUTATHIONE_cell   -0.003        10 24.19%\n",
      "   HYDROGEN_PEROXIDE_cell    DM_HYDROGEN_PEROXIDE_cell   -2.809         0  0.00%\n",
      " L_DEHYDRO_ASCORBATE_cell  DM_L_DEHYDRO_ASCORBATE_cell  -0.0041         6 19.84%\n",
      "OXIDIZED_GLUTATHIONE_cell DM_OXIDIZED_GLUTATHIONE_cell -0.00083        20 13.39%\n",
      "                 PROTON_e                         H_tx  -0.6455         0  0.00%\n",
      "        OXYGEN_MOLECULE_e                        O2_tx   -21.59         0  0.00%\n",
      "\n"
     ]
    }
   ],
   "source": [
    "sol = core_model.optimize()\n",
    "print(core_model.summary(sol))"
   ]
  },
  {
   "cell_type": "code",
   "execution_count": 14,
   "metadata": {},
   "outputs": [
    {
     "name": "stdout",
     "output_type": "stream",
     "text": [
      "\n",
      "Solving model (FBA) for determining objective 1 flux...\n",
      "Max DM_HYDROGEN_PEROXIDE_cell: 68.83020643733339\n",
      "\n",
      "Solving all iterations for Pareto frontier (FBA)...\n",
      "        0          1           2\n",
      "0    0.00   0.000000  491.228059\n",
      "1    0.01   0.688302  491.228059\n",
      "2    0.02   1.376604  491.228059\n",
      "3    0.03   2.064906  491.228059\n",
      "4    0.04   2.753208  491.228059\n",
      "..    ...        ...         ...\n",
      "96   0.96  66.076998   22.560424\n",
      "97   0.97  66.765300   16.920318\n",
      "98   0.98  67.453602   11.280212\n",
      "99   0.99  68.141904    5.640106\n",
      "100  1.00  68.830206    0.000000\n",
      "\n",
      "[101 rows x 3 columns]\n"
     ]
    },
    {
     "data": {
      "image/png": "[encoded data removed]",
      "text/plain": [
       "<Figure size 640x480 with 1 Axes>"
      ]
     },
     "metadata": {},
     "output_type": "display_data"
    }
   ],
   "source": [
    "## plot pareto plot\n",
    "objective1 =  'DM_HYDROGEN_PEROXIDE_cell'\n",
    "objective2 =  'AraCore_Biomass_tx'#Arabidopsis_biomass_tx AraCore_Biomass_tx\n",
    "solution_primary=pareto_analysis(core_model, objective1 = objective1, objective2=objective2, pareto_range = pareto_range, metric = metric)\n",
    "#pd.DataFrame(result_list).to_excel('results.xlsx')\n",
    "data=pd.DataFrame(solution_primary)\n",
    "print(data)\n",
    "plt.plot(data[1][:20],data[2][:20]) \n",
    "#plt.ylim([0.2152,0.2153])\n",
    "#plt.xlim([0,0.03])\n",
    "plt.show()###objs_rs=[AraCore_Biomass_tx 'Phloem_output_tx','DM_NITRIC-OXIDE_cell','DM_HS_cell','DM_SUPER_OXIDE_cell','DM_HC00250_cell','DM_CPD0-1395_cell','DM_SO3_cell','DM_CPD-12377_cell','DM_HYDROGEN_PEROXIDE_cell','DM_ho2_rad_cell']\n"
   ]
  }
 ],
 "metadata": {
  "kernelspec": {
   "display_name": "base",
   "language": "python",
   "name": "python3"
  },
  "language_info": {
   "codemirror_mode": {
    "name": "ipython",
    "version": 3
   },
   "file_extension": ".py",
   "mimetype": "text/x-python",
   "name": "python",
   "nbconvert_exporter": "python",
   "pygments_lexer": "ipython3",
   "version": "3.12.2"
  },
  "orig_nbformat": 4
 },
 "nbformat": 4,
 "nbformat_minor": 2
}
