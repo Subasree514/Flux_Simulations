{
 "cells": [
  {
   "cell_type": "markdown",
   "id": "97a4594d",
   "metadata": {},
   "source": [
    "# Constraint-based modelling with COBRApy\n",
    "## PART II\n",
    "#### Tiago Machado & Nadine Topfer"
   ]
  },
  {
   "cell_type": "markdown",
   "id": "f4278467",
   "metadata": {},
   "source": [
    "## Question 1 - *Escherichia coli* model loading and initial exploration "
   ]
  },
  {
   "cell_type": "markdown",
   "id": "74294c42",
   "metadata": {},
   "source": [
    "### 1 - Load the iJO1366 E.Coli model directly through COBRApy."
   ]
  },
  {
   "cell_type": "markdown",
   "id": "e394ee1f",
   "metadata": {},
   "source": [
    "### 1.1 What is the objective function? How many compartments are contained within the model and what are their names?"
   ]
  },
  {
   "cell_type": "code",
   "execution_count": 1,
   "id": "3463e8bd",
   "metadata": {},
   "outputs": [],
   "source": [
    "import cobra\n",
    "from cobra.io import load_model\n",
    "\n",
    "model = load_model(\"iJO1366\")"
   ]
  },
  {
   "cell_type": "code",
   "execution_count": 2,
   "id": "8f2ce111",
   "metadata": {},
   "outputs": [
    {
     "data": {
      "text/html": [
       "\n",
       "        <table>\n",
       "            <tr>\n",
       "                <td><strong>Name</strong></td>\n",
       "                <td>iJO1366</td>\n",
       "            </tr><tr>\n",
       "                <td><strong>Memory address</strong></td>\n",
       "                <td>7fe3d11768d0</td>\n",
       "            </tr><tr>\n",
       "                <td><strong>Number of metabolites</strong></td>\n",
       "                <td>1805</td>\n",
       "            </tr><tr>\n",
       "                <td><strong>Number of reactions</strong></td>\n",
       "                <td>2583</td>\n",
       "            </tr><tr>\n",
       "                <td><strong>Number of genes</strong></td>\n",
       "                <td>1367</td>\n",
       "            </tr><tr>\n",
       "                <td><strong>Number of groups</strong></td>\n",
       "                <td>37</td>\n",
       "            </tr><tr>\n",
       "                <td><strong>Objective expression</strong></td>\n",
       "                <td>1.0*BIOMASS_Ec_iJO1366_core_53p95M - 1.0*BIOMASS_Ec_iJO1366_core_53p95M_reverse_5c8b1</td>\n",
       "            </tr><tr>\n",
       "                <td><strong>Compartments</strong></td>\n",
       "                <td>cytosol, extracellular space, periplasm</td>\n",
       "            </tr>\n",
       "          </table>"
      ],
      "text/plain": [
       "<Model iJO1366 at 0x7fe3d11768d0>"
      ]
     },
     "execution_count": 2,
     "metadata": {},
     "output_type": "execute_result"
    }
   ],
   "source": [
    "model"
   ]
  },
  {
   "cell_type": "code",
   "execution_count": 3,
   "id": "e496da23",
   "metadata": {},
   "outputs": [
    {
     "name": "stdout",
     "output_type": "stream",
     "text": [
      "The ID of the objective funtion reaction is BIOMASS_Ec_iJO1366_core_53p95M.\n",
      "The model contains 3 compartments. The compartments are the cytosol, extracellular space and periplasm.\n"
     ]
    }
   ],
   "source": [
    "objective_name = list(cobra.util.linear_reaction_coefficients(model).keys())[0].id\n",
    "print(\"The ID of the objective funtion reaction is {}.\".format(objective_name))\n",
    "#print(\"The model contains {} metabolites.\".format(len(model.metabolites)))\n",
    "#print(\"The model contains {} reactions.\".format(len(model.reactions)))\n",
    "print(\"The model contains {} compartments. The compartments are the {}, {} and {}.\".format(len(list(model.compartments.keys())), list(model.compartments.values())[0], list(model.compartments.values())[1], list(model.compartments.values())[2]))"
   ]
  },
  {
   "cell_type": "markdown",
   "id": "9cea6d3a",
   "metadata": {},
   "source": [
    "### 1.2 What metabolites are used as a reactant in the 'Adenylate kinase' reaction? And as products? What are their stoichiometries? Is this reaction mass-balanced?"
   ]
  },
  {
   "cell_type": "code",
   "execution_count": 4,
   "id": "2d3a3400",
   "metadata": {},
   "outputs": [
    {
     "name": "stdout",
     "output_type": "stream",
     "text": [
      "Adenylate kinase amp_c + atp_c <=> 2.0 adp_c\n"
     ]
    }
   ],
   "source": [
    "test_reaction = model.reactions.query('Adenylate kinase', 'name')[0]\n",
    "print(test_reaction.name,test_reaction.build_reaction_string())"
   ]
  },
  {
   "cell_type": "code",
   "execution_count": 5,
   "id": "e6362313",
   "metadata": {},
   "outputs": [
    {
     "name": "stdout",
     "output_type": "stream",
     "text": [
      "The Adenylate kinase reaction has the metabolites AMP C10H12N5O7P and ATP C10H12N5O13P3 as reactants, and the metabolite ADP C10H12N5O10P2 as a product.\n"
     ]
    }
   ],
   "source": [
    "print(f\"The {test_reaction.name} reaction has the metabolites {test_reaction.reactants[0].name} and {test_reaction.reactants[1].name} as reactants, and the metabolite {test_reaction.products[0].name} as a product.\")"
   ]
  },
  {
   "cell_type": "code",
   "execution_count": 6,
   "id": "949444b9",
   "metadata": {},
   "outputs": [
    {
     "name": "stdout",
     "output_type": "stream",
     "text": [
      "The stoichiometric coefficient for AMP C10H12N5O7P is -1.0, for ATP C10H12N5O13P3 is -1.0 and for ADP C10H12N5O10P2 is 2.0\n"
     ]
    }
   ],
   "source": [
    "print(f'The stoichiometric coefficient for {test_reaction.reactants[0].name} is {test_reaction.get_coefficient(test_reaction.reactants[0].id)}, for {test_reaction.reactants[1].name} is {test_reaction.get_coefficient(test_reaction.reactants[1].id)} and for {test_reaction.products[0].name} is {test_reaction.get_coefficient(test_reaction.products[0].id)}')"
   ]
  },
  {
   "cell_type": "code",
   "execution_count": 7,
   "id": "8b1c0926",
   "metadata": {},
   "outputs": [
    {
     "name": "stdout",
     "output_type": "stream",
     "text": [
      "The reaction is balanced\n"
     ]
    }
   ],
   "source": [
    "mass_balance_test = test_reaction.check_mass_balance()\n",
    "\n",
    "if mass_balance_test == {}:\n",
    "    print('The reaction is balanced')\n",
    "else:\n",
    "    print('The reactions is unbalanced')"
   ]
  },
  {
   "cell_type": "markdown",
   "id": "0d6b8b79",
   "metadata": {},
   "source": [
    "### 1.3 What are the names of the reactions in the model that have the metabolite with the formula 'C4H2O5' as a substrate? And as a product?"
   ]
  },
  {
   "cell_type": "code",
   "execution_count": 8,
   "id": "416ff126",
   "metadata": {},
   "outputs": [
    {
     "data": {
      "text/html": [
       "\n",
       "        <table>\n",
       "            <tr>\n",
       "                <td><strong>Metabolite identifier</strong></td><td>oaa_c</td>\n",
       "            </tr><tr>\n",
       "                <td><strong>Name</strong></td><td>Oxaloacetate</td>\n",
       "            </tr><tr>\n",
       "                <td><strong>Memory address</strong></td>\n",
       "                <td>0x7fe4114a5210</td>\n",
       "            </tr><tr>\n",
       "                <td><strong>Formula</strong></td><td>C4H2O5</td>\n",
       "            </tr><tr>\n",
       "                <td><strong>Compartment</strong></td><td>c</td>\n",
       "            </tr><tr>\n",
       "                <td><strong>In 13 reaction(s)</strong></td><td>\n",
       "                    MDH, CITL, PPCK, DTARTD, MDH3, MDH2, OAADC, ASPTA, PPC, TARTD, MOX, CS, MCITS\n",
       "                    </td>\n",
       "            </tr>\n",
       "        </table>"
      ],
      "text/plain": [
       "<Metabolite oaa_c at 0x7fe4114a5210>"
      ]
     },
     "execution_count": 8,
     "metadata": {},
     "output_type": "execute_result"
    }
   ],
   "source": [
    "oaa = model.metabolites.query('C4H2O5', 'formula')[0]\n",
    "oaa"
   ]
  },
  {
   "cell_type": "code",
   "execution_count": 9,
   "id": "6e974fcd",
   "metadata": {},
   "outputs": [
    {
     "name": "stdout",
     "output_type": "stream",
     "text": [
      "MDH: mal__L_c + nad_c <=> h_c + nadh_c + oaa_c\n",
      "CITL: cit_c --> ac_c + oaa_c\n",
      "PPCK: atp_c + oaa_c --> adp_c + co2_c + pep_c\n",
      "DTARTD: tartr__D_c --> h2o_c + oaa_c\n",
      "MDH3: mal__L_c + mqn8_c --> mql8_c + oaa_c\n",
      "MDH2: mal__L_c + q8_c --> oaa_c + q8h2_c\n",
      "OAADC: h_c + oaa_c --> co2_c + pyr_c\n",
      "ASPTA: akg_c + asp__L_c <=> glu__L_c + oaa_c\n",
      "PPC: co2_c + h2o_c + pep_c --> h_c + oaa_c + pi_c\n",
      "TARTD: tartr__L_c --> h2o_c + oaa_c\n",
      "MOX: mal__L_c + o2_c <=> h2o2_c + oaa_c\n",
      "CS: accoa_c + h2o_c + oaa_c --> cit_c + coa_c + h_c\n",
      "MCITS: h2o_c + oaa_c + ppcoa_c --> 2mcit_c + coa_c + h_c\n"
     ]
    }
   ],
   "source": [
    "for reaction in oaa.reactions:\n",
    "    print(reaction)"
   ]
  },
  {
   "cell_type": "code",
   "execution_count": 10,
   "id": "287a8676",
   "metadata": {},
   "outputs": [
    {
     "name": "stdout",
     "output_type": "stream",
     "text": [
      "There are 9 oxaloacetate producing reactions\n",
      "['Malate dehydrogenase', 'Citrate lyase', 'D(-)-tartrate dehydratase', 'Malate dehydrogenase (menaquinone 8 as acceptor)', 'Malate dehydrogenase (ubiquinone 8 as acceptor)', 'Aspartate transaminase', 'Phosphoenolpyruvate carboxylase', 'L(+)-tartrate dehydratase', 'Malate oxidase']\n",
      "\n",
      "There are 4 oxaloacetate consuming reactions\n",
      "['Phosphoenolpyruvate carboxykinase', 'Oxaloacetate decarboxylase', 'Citrate synthase', '2-methylcitrate synthase']\n",
      "\n",
      "There are 0 reactions that both consume and produce oxaloacetate\n",
      "[]\n"
     ]
    }
   ],
   "source": [
    "consumers = []\n",
    "producers = []\n",
    "both = []\n",
    "\n",
    "for reaction in oaa.reactions:\n",
    "    if oaa in reaction.products:\n",
    "        producers.append(reaction.name)\n",
    "    elif oaa in reaction.reactants:\n",
    "        consumers.append(reaction.name)\n",
    "    else: both.append(reaction.name)\n",
    "\n",
    "print(f'There are {len(producers)} oxaloacetate producing reactions')\n",
    "print(producers)\n",
    "print()\n",
    "print(f'There are {len(consumers)} oxaloacetate consuming reactions')\n",
    "print(consumers)\n",
    "print()\n",
    "print(f'There are {len(both)} reactions that both consume and produce oxaloacetate')\n",
    "print(both)\n"
   ]
  },
  {
   "cell_type": "code",
   "execution_count": 11,
   "id": "ffefeec0",
   "metadata": {},
   "outputs": [
    {
     "name": "stdout",
     "output_type": "stream",
     "text": [
      "The reactions that have oxaloacetate as a substrate are ['Phosphoenolpyruvate carboxykinase', 'Oxaloacetate decarboxylase', 'Citrate synthase', '2-methylcitrate synthase'] .\n",
      "\n",
      "The reactions that have oxaloacetate as a product are ['Malate dehydrogenase', 'Citrate lyase', 'D(-)-tartrate dehydratase', 'Malate dehydrogenase (menaquinone 8 as acceptor)', 'Malate dehydrogenase (ubiquinone 8 as acceptor)', 'Aspartate transaminase', 'Phosphoenolpyruvate carboxylase', 'L(+)-tartrate dehydratase', 'Malate oxidase'] .\n"
     ]
    }
   ],
   "source": [
    "print(\"The reactions that have oxaloacetate as a substrate are {} .\".format(consumers))\n",
    "print()\n",
    "print(\"The reactions that have oxaloacetate as a product are {} .\".format(producers))"
   ]
  },
  {
   "cell_type": "markdown",
   "id": "5c159d4a",
   "metadata": {},
   "source": [
    "### 1.4 How many pathways are represented within the model? Which is the pathway that agregates the largest number of reactions?"
   ]
  },
  {
   "cell_type": "code",
   "execution_count": 12,
   "id": "c9eaee5a",
   "metadata": {},
   "outputs": [
    {
     "name": "stdout",
     "output_type": "stream",
     "text": [
      "The model contains information about 37 pathways\n"
     ]
    }
   ],
   "source": [
    "print(f'The model contains information about {len(model.groups)} pathways')"
   ]
  },
  {
   "cell_type": "code",
   "execution_count": 13,
   "id": "513eb474",
   "metadata": {},
   "outputs": [],
   "source": [
    "group_len = []\n",
    "group_name = []\n",
    "\n",
    "for x in model.groups:\n",
    "    group_len.append(len(x.members))\n",
    "    group_name.append(x.name)"
   ]
  },
  {
   "cell_type": "code",
   "execution_count": 14,
   "id": "ee8f6bce",
   "metadata": {},
   "outputs": [
    {
     "data": {
      "text/html": [
       "<div>\n",
       "<style scoped>\n",
       "    .dataframe tbody tr th:only-of-type {\n",
       "        vertical-align: middle;\n",
       "    }\n",
       "\n",
       "    .dataframe tbody tr th {\n",
       "        vertical-align: top;\n",
       "    }\n",
       "\n",
       "    .dataframe thead th {\n",
       "        text-align: right;\n",
       "    }\n",
       "</style>\n",
       "<table border=\"1\" class=\"dataframe\">\n",
       "  <thead>\n",
       "    <tr style=\"text-align: right;\">\n",
       "      <th></th>\n",
       "      <th>Lenght</th>\n",
       "      <th>Name</th>\n",
       "    </tr>\n",
       "  </thead>\n",
       "  <tbody>\n",
       "    <tr>\n",
       "      <th>0</th>\n",
       "      <td>332</td>\n",
       "      <td>Transport, Inner Membrane</td>\n",
       "    </tr>\n",
       "    <tr>\n",
       "      <th>1</th>\n",
       "      <td>271</td>\n",
       "      <td>Transport, Outer Membrane Porin</td>\n",
       "    </tr>\n",
       "    <tr>\n",
       "      <th>4</th>\n",
       "      <td>246</td>\n",
       "      <td>Glycerophospholipid Metabolism</td>\n",
       "    </tr>\n",
       "    <tr>\n",
       "      <th>6</th>\n",
       "      <td>219</td>\n",
       "      <td>Cofactor and Prosthetic Group Biosynthesis</td>\n",
       "    </tr>\n",
       "    <tr>\n",
       "      <th>5</th>\n",
       "      <td>195</td>\n",
       "      <td>Alternate Carbon Metabolism</td>\n",
       "    </tr>\n",
       "    <tr>\n",
       "      <th>3</th>\n",
       "      <td>139</td>\n",
       "      <td>Nucleotide Salvage Pathway</td>\n",
       "    </tr>\n",
       "    <tr>\n",
       "      <th>7</th>\n",
       "      <td>134</td>\n",
       "      <td>Cell Envelope Biosynthesis</td>\n",
       "    </tr>\n",
       "    <tr>\n",
       "      <th>21</th>\n",
       "      <td>112</td>\n",
       "      <td>Inorganic Ion Transport and Metabolism</td>\n",
       "    </tr>\n",
       "    <tr>\n",
       "      <th>16</th>\n",
       "      <td>71</td>\n",
       "      <td>Lipopolysaccharide Biosynthesis / Recycling</td>\n",
       "    </tr>\n",
       "    <tr>\n",
       "      <th>28</th>\n",
       "      <td>52</td>\n",
       "      <td>Oxidative Phosphorylation</td>\n",
       "    </tr>\n",
       "    <tr>\n",
       "      <th>2</th>\n",
       "      <td>47</td>\n",
       "      <td>Transport, Outer Membrane</td>\n",
       "    </tr>\n",
       "    <tr>\n",
       "      <th>12</th>\n",
       "      <td>41</td>\n",
       "      <td>Membrane Lipid Metabolism</td>\n",
       "    </tr>\n",
       "    <tr>\n",
       "      <th>11</th>\n",
       "      <td>40</td>\n",
       "      <td>Arginine and Proline Metabolism</td>\n",
       "    </tr>\n",
       "    <tr>\n",
       "      <th>8</th>\n",
       "      <td>38</td>\n",
       "      <td>Murein Recycling</td>\n",
       "    </tr>\n",
       "    <tr>\n",
       "      <th>17</th>\n",
       "      <td>26</td>\n",
       "      <td>Unassigned</td>\n",
       "    </tr>\n",
       "    <tr>\n",
       "      <th>20</th>\n",
       "      <td>25</td>\n",
       "      <td>Purine and Pyrimidine Biosynthesis</td>\n",
       "    </tr>\n",
       "    <tr>\n",
       "      <th>14</th>\n",
       "      <td>23</td>\n",
       "      <td>Tyrosine, Tryptophan, and Phenylalanine Metabo...</td>\n",
       "    </tr>\n",
       "    <tr>\n",
       "      <th>31</th>\n",
       "      <td>22</td>\n",
       "      <td>Glycolysis/Gluconeogenesis</td>\n",
       "    </tr>\n",
       "    <tr>\n",
       "      <th>24</th>\n",
       "      <td>22</td>\n",
       "      <td>tRNA Charging</td>\n",
       "    </tr>\n",
       "    <tr>\n",
       "      <th>25</th>\n",
       "      <td>19</td>\n",
       "      <td>Threonine and Lysine Metabolism</td>\n",
       "    </tr>\n",
       "    <tr>\n",
       "      <th>15</th>\n",
       "      <td>16</td>\n",
       "      <td>Valine, Leucine, and Isoleucine Metabolism</td>\n",
       "    </tr>\n",
       "    <tr>\n",
       "      <th>22</th>\n",
       "      <td>15</td>\n",
       "      <td>Methionine Metabolism</td>\n",
       "    </tr>\n",
       "    <tr>\n",
       "      <th>36</th>\n",
       "      <td>15</td>\n",
       "      <td>Murein Biosynthesis</td>\n",
       "    </tr>\n",
       "    <tr>\n",
       "      <th>29</th>\n",
       "      <td>14</td>\n",
       "      <td>Glycine and Serine Metabolism</td>\n",
       "    </tr>\n",
       "    <tr>\n",
       "      <th>18</th>\n",
       "      <td>14</td>\n",
       "      <td>Citric Acid Cycle</td>\n",
       "    </tr>\n",
       "    <tr>\n",
       "      <th>19</th>\n",
       "      <td>13</td>\n",
       "      <td>Cysteine Metabolism</td>\n",
       "    </tr>\n",
       "    <tr>\n",
       "      <th>9</th>\n",
       "      <td>13</td>\n",
       "      <td>Nitrogen Metabolism</td>\n",
       "    </tr>\n",
       "    <tr>\n",
       "      <th>30</th>\n",
       "      <td>12</td>\n",
       "      <td>Pentose Phosphate Pathway</td>\n",
       "    </tr>\n",
       "    <tr>\n",
       "      <th>13</th>\n",
       "      <td>10</td>\n",
       "      <td>Pyruvate Metabolism</td>\n",
       "    </tr>\n",
       "    <tr>\n",
       "      <th>27</th>\n",
       "      <td>10</td>\n",
       "      <td>Histidine Metabolism</td>\n",
       "    </tr>\n",
       "    <tr>\n",
       "      <th>23</th>\n",
       "      <td>9</td>\n",
       "      <td>Alanine and Aspartate Metabolism</td>\n",
       "    </tr>\n",
       "    <tr>\n",
       "      <th>10</th>\n",
       "      <td>9</td>\n",
       "      <td>Methylglyoxal Metabolism</td>\n",
       "    </tr>\n",
       "    <tr>\n",
       "      <th>32</th>\n",
       "      <td>9</td>\n",
       "      <td>Folate Metabolism</td>\n",
       "    </tr>\n",
       "    <tr>\n",
       "      <th>35</th>\n",
       "      <td>8</td>\n",
       "      <td>Anaplerotic Reactions</td>\n",
       "    </tr>\n",
       "    <tr>\n",
       "      <th>33</th>\n",
       "      <td>6</td>\n",
       "      <td>Glutamate Metabolism</td>\n",
       "    </tr>\n",
       "    <tr>\n",
       "      <th>34</th>\n",
       "      <td>4</td>\n",
       "      <td>Glyoxylate Metabolism</td>\n",
       "    </tr>\n",
       "    <tr>\n",
       "      <th>26</th>\n",
       "      <td>2</td>\n",
       "      <td>Biomass and maintenance functions</td>\n",
       "    </tr>\n",
       "  </tbody>\n",
       "</table>\n",
       "</div>"
      ],
      "text/plain": [
       "    Lenght                                               Name\n",
       "0      332                          Transport, Inner Membrane\n",
       "1      271                    Transport, Outer Membrane Porin\n",
       "4      246                     Glycerophospholipid Metabolism\n",
       "6      219         Cofactor and Prosthetic Group Biosynthesis\n",
       "5      195                        Alternate Carbon Metabolism\n",
       "3      139                         Nucleotide Salvage Pathway\n",
       "7      134                         Cell Envelope Biosynthesis\n",
       "21     112             Inorganic Ion Transport and Metabolism\n",
       "16      71        Lipopolysaccharide Biosynthesis / Recycling\n",
       "28      52                          Oxidative Phosphorylation\n",
       "2       47                          Transport, Outer Membrane\n",
       "12      41                          Membrane Lipid Metabolism\n",
       "11      40                    Arginine and Proline Metabolism\n",
       "8       38                                   Murein Recycling\n",
       "17      26                                         Unassigned\n",
       "20      25                 Purine and Pyrimidine Biosynthesis\n",
       "14      23  Tyrosine, Tryptophan, and Phenylalanine Metabo...\n",
       "31      22                         Glycolysis/Gluconeogenesis\n",
       "24      22                                      tRNA Charging\n",
       "25      19                    Threonine and Lysine Metabolism\n",
       "15      16         Valine, Leucine, and Isoleucine Metabolism\n",
       "22      15                              Methionine Metabolism\n",
       "36      15                                Murein Biosynthesis\n",
       "29      14                      Glycine and Serine Metabolism\n",
       "18      14                                  Citric Acid Cycle\n",
       "19      13                                Cysteine Metabolism\n",
       "9       13                                Nitrogen Metabolism\n",
       "30      12                          Pentose Phosphate Pathway\n",
       "13      10                                Pyruvate Metabolism\n",
       "27      10                               Histidine Metabolism\n",
       "23       9                   Alanine and Aspartate Metabolism\n",
       "10       9                           Methylglyoxal Metabolism\n",
       "32       9                                  Folate Metabolism\n",
       "35       8                              Anaplerotic Reactions\n",
       "33       6                               Glutamate Metabolism\n",
       "34       4                              Glyoxylate Metabolism\n",
       "26       2                  Biomass and maintenance functions"
      ]
     },
     "execution_count": 14,
     "metadata": {},
     "output_type": "execute_result"
    }
   ],
   "source": [
    "import pandas as pd\n",
    "\n",
    "pathways = pd.DataFrame(list(zip(group_len, group_name)), columns=['Lenght', 'Name'])\n",
    "\n",
    "pathways.sort_values('Lenght', inplace=True, ascending=False)\n",
    "\n",
    "pathways"
   ]
  },
  {
   "cell_type": "code",
   "execution_count": 15,
   "id": "c20c1981",
   "metadata": {},
   "outputs": [
    {
     "name": "stdout",
     "output_type": "stream",
     "text": [
      "The pathway in the model with the largest number of reactions is the Transport, Inner Membrane pathway, which contains 332 reactions\n"
     ]
    }
   ],
   "source": [
    "print('The pathway in the model with the largest number of reactions is the {} pathway, which contains {} reactions'.format(pathways.loc[0, 'Name'], pathways.loc[0, 'Lenght']))"
   ]
  },
  {
   "cell_type": "markdown",
   "id": "71bf20ea",
   "metadata": {},
   "source": [
    "## Question 2 - Flux Simulation "
   ]
  },
  {
   "cell_type": "markdown",
   "id": "aaf92344",
   "metadata": {},
   "source": [
    "### 2 - Constrain D-Glucose uptake to 20 mmol/(gDW·h) and obtain an aerobic and anaerobic flux solution using FBA."
   ]
  },
  {
   "cell_type": "code",
   "execution_count": 16,
   "id": "641e50a4",
   "metadata": {},
   "outputs": [],
   "source": [
    "with model:\n",
    "    model.reactions.EX_glc__D_e.lower_bound = -20\n",
    "    aerobic = (model.optimize())\n",
    "    model.reactions.EX_o2_e.lower_bound = 0\n",
    "    anaerobic = (model.optimize())"
   ]
  },
  {
   "cell_type": "code",
   "execution_count": 17,
   "id": "2e7b0513",
   "metadata": {},
   "outputs": [
    {
     "name": "stdout",
     "output_type": "stream",
     "text": [
      "Aerobic Flux Solution: \n",
      "\n"
     ]
    },
    {
     "data": {
      "text/html": [
       "<strong><em>Optimal</em> solution with objective value 1.978</strong><br><div>\n",
       "<style scoped>\n",
       "    .dataframe tbody tr th:only-of-type {\n",
       "        vertical-align: middle;\n",
       "    }\n",
       "\n",
       "    .dataframe tbody tr th {\n",
       "        vertical-align: top;\n",
       "    }\n",
       "\n",
       "    .dataframe thead th {\n",
       "        text-align: right;\n",
       "    }\n",
       "</style>\n",
       "<table border=\"1\" class=\"dataframe\">\n",
       "  <thead>\n",
       "    <tr style=\"text-align: right;\">\n",
       "      <th></th>\n",
       "      <th>fluxes</th>\n",
       "      <th>reduced_costs</th>\n",
       "    </tr>\n",
       "  </thead>\n",
       "  <tbody>\n",
       "    <tr>\n",
       "      <th>DM_4crsol_c</th>\n",
       "      <td>0.000441</td>\n",
       "      <td>0.000000</td>\n",
       "    </tr>\n",
       "    <tr>\n",
       "      <th>DM_5drib_c</th>\n",
       "      <td>0.000445</td>\n",
       "      <td>0.000000</td>\n",
       "    </tr>\n",
       "    <tr>\n",
       "      <th>DM_aacald_c</th>\n",
       "      <td>0.000000</td>\n",
       "      <td>0.000000</td>\n",
       "    </tr>\n",
       "    <tr>\n",
       "      <th>DM_amob_c</th>\n",
       "      <td>0.000004</td>\n",
       "      <td>0.000000</td>\n",
       "    </tr>\n",
       "    <tr>\n",
       "      <th>DM_mththf_c</th>\n",
       "      <td>0.000886</td>\n",
       "      <td>0.000000</td>\n",
       "    </tr>\n",
       "    <tr>\n",
       "      <th>...</th>\n",
       "      <td>...</td>\n",
       "      <td>...</td>\n",
       "    </tr>\n",
       "    <tr>\n",
       "      <th>ZN2abcpp</th>\n",
       "      <td>0.000000</td>\n",
       "      <td>-0.008295</td>\n",
       "    </tr>\n",
       "    <tr>\n",
       "      <th>ZN2t3pp</th>\n",
       "      <td>0.000000</td>\n",
       "      <td>-0.002074</td>\n",
       "    </tr>\n",
       "    <tr>\n",
       "      <th>ZN2tpp</th>\n",
       "      <td>0.000674</td>\n",
       "      <td>0.000000</td>\n",
       "    </tr>\n",
       "    <tr>\n",
       "      <th>ZNabcpp</th>\n",
       "      <td>0.000000</td>\n",
       "      <td>-0.008295</td>\n",
       "    </tr>\n",
       "    <tr>\n",
       "      <th>Zn2tex</th>\n",
       "      <td>0.000674</td>\n",
       "      <td>0.000000</td>\n",
       "    </tr>\n",
       "  </tbody>\n",
       "</table>\n",
       "<p>2583 rows × 2 columns</p>\n",
       "</div>"
      ],
      "text/plain": [
       "<Solution 1.978 at 0x7fe410764e10>"
      ]
     },
     "execution_count": 17,
     "metadata": {},
     "output_type": "execute_result"
    }
   ],
   "source": [
    "print('Aerobic Flux Solution: ')\n",
    "print()\n",
    "aerobic"
   ]
  },
  {
   "cell_type": "code",
   "execution_count": 18,
   "id": "c79278a4",
   "metadata": {},
   "outputs": [
    {
     "name": "stdout",
     "output_type": "stream",
     "text": [
      "Anaerobic Flux Solution: \n",
      "\n"
     ]
    },
    {
     "data": {
      "text/html": [
       "<strong><em>Optimal</em> solution with objective value 0.518</strong><br><div>\n",
       "<style scoped>\n",
       "    .dataframe tbody tr th:only-of-type {\n",
       "        vertical-align: middle;\n",
       "    }\n",
       "\n",
       "    .dataframe tbody tr th {\n",
       "        vertical-align: top;\n",
       "    }\n",
       "\n",
       "    .dataframe thead th {\n",
       "        text-align: right;\n",
       "    }\n",
       "</style>\n",
       "<table border=\"1\" class=\"dataframe\">\n",
       "  <thead>\n",
       "    <tr style=\"text-align: right;\">\n",
       "      <th></th>\n",
       "      <th>fluxes</th>\n",
       "      <th>reduced_costs</th>\n",
       "    </tr>\n",
       "  </thead>\n",
       "  <tbody>\n",
       "    <tr>\n",
       "      <th>DM_4crsol_c</th>\n",
       "      <td>0.000115</td>\n",
       "      <td>0.000000</td>\n",
       "    </tr>\n",
       "    <tr>\n",
       "      <th>DM_5drib_c</th>\n",
       "      <td>0.000347</td>\n",
       "      <td>0.000000</td>\n",
       "    </tr>\n",
       "    <tr>\n",
       "      <th>DM_aacald_c</th>\n",
       "      <td>0.000000</td>\n",
       "      <td>-0.257896</td>\n",
       "    </tr>\n",
       "    <tr>\n",
       "      <th>DM_amob_c</th>\n",
       "      <td>0.000001</td>\n",
       "      <td>0.000000</td>\n",
       "    </tr>\n",
       "    <tr>\n",
       "      <th>DM_mththf_c</th>\n",
       "      <td>0.000232</td>\n",
       "      <td>0.000000</td>\n",
       "    </tr>\n",
       "    <tr>\n",
       "      <th>...</th>\n",
       "      <td>...</td>\n",
       "      <td>...</td>\n",
       "    </tr>\n",
       "    <tr>\n",
       "      <th>ZN2abcpp</th>\n",
       "      <td>0.000000</td>\n",
       "      <td>-0.022105</td>\n",
       "    </tr>\n",
       "    <tr>\n",
       "      <th>ZN2t3pp</th>\n",
       "      <td>0.000000</td>\n",
       "      <td>-0.005526</td>\n",
       "    </tr>\n",
       "    <tr>\n",
       "      <th>ZN2tpp</th>\n",
       "      <td>0.000177</td>\n",
       "      <td>0.000000</td>\n",
       "    </tr>\n",
       "    <tr>\n",
       "      <th>ZNabcpp</th>\n",
       "      <td>0.000000</td>\n",
       "      <td>-0.022105</td>\n",
       "    </tr>\n",
       "    <tr>\n",
       "      <th>Zn2tex</th>\n",
       "      <td>0.000177</td>\n",
       "      <td>0.000000</td>\n",
       "    </tr>\n",
       "  </tbody>\n",
       "</table>\n",
       "<p>2583 rows × 2 columns</p>\n",
       "</div>"
      ],
      "text/plain": [
       "<Solution 0.518 at 0x7fe410771d10>"
      ]
     },
     "execution_count": 18,
     "metadata": {},
     "output_type": "execute_result"
    }
   ],
   "source": [
    "print('Anaerobic Flux Solution: ')\n",
    "print()\n",
    "anaerobic"
   ]
  },
  {
   "cell_type": "markdown",
   "id": "34da21f3",
   "metadata": {},
   "source": [
    "### 2.1 - Provide values for the objective function in each scenario."
   ]
  },
  {
   "cell_type": "code",
   "execution_count": 19,
   "id": "f1ba3876",
   "metadata": {},
   "outputs": [
    {
     "name": "stdout",
     "output_type": "stream",
     "text": [
      "The biomass production flux value in the aerobic scenario is 1.9778087350595441 mmol/(gDW h), while the flux in the anaerobic scenario is 0.5178191281465815 mmol/(gDW h).\n"
     ]
    }
   ],
   "source": [
    "print(f\"The biomass production flux value in the aerobic scenario is {aerobic.objective_value} mmol/(gDW h), while the flux in the anaerobic scenario is {anaerobic.objective_value} mmol/(gDW h).\")"
   ]
  },
  {
   "cell_type": "markdown",
   "id": "a9a634fe",
   "metadata": {},
   "source": [
    "### 2.2 - For the aerobic and anaerobic flux solutions please provide the IDs of the reactions with the 10 lowest reaction fluxes and 10 highest reaction fluxes."
   ]
  },
  {
   "cell_type": "code",
   "execution_count": 20,
   "id": "2b4e99d1",
   "metadata": {},
   "outputs": [],
   "source": [
    "aerobic_data = aerobic.to_frame()\n",
    "reaction_names = []\n",
    "\n",
    "#Get the reaction names\n",
    "for ID in aerobic_data.index:\n",
    "    reaction_names.append(model.reactions.get_by_id(ID).name)\n",
    "\n",
    "aerobic_data.index = reaction_names\n",
    "\n",
    "aerobic_data.sort_values('fluxes', inplace=True)"
   ]
  },
  {
   "cell_type": "code",
   "execution_count": 21,
   "id": "4ece5610",
   "metadata": {},
   "outputs": [
    {
     "name": "stdout",
     "output_type": "stream",
     "text": [
      "The 10 lowest flux solutions in the aerobic scenario are: \n",
      "\n",
      "H2O transport via diffusion (periplasm)                       -91.047606\n",
      "H2O transport via diffusion (extracellular to periplasm)      -91.047606\n",
      "CO2 transporter via diffusion (periplasm)                     -38.814144\n",
      "CO2 transport via diffusion (extracellular to periplasm)      -38.814144\n",
      "O2 exchange                                                   -34.593686\n",
      "Phosphoglycerate kinase                                       -32.446807\n",
      "Phosphoglycerate mutase                                       -29.048591\n",
      "Ammonia exchange                                              -21.361964\n",
      "D-Glucose exchange                                            -20.000000\n",
      "Proton transport via diffusion (extracellular to periplasm)   -18.172566\n",
      "Name: fluxes, dtype: float64\n"
     ]
    }
   ],
   "source": [
    "print('The 10 lowest flux solutions in the aerobic scenario are: ')\n",
    "print()\n",
    "print(aerobic_data['fluxes'][0:10])"
   ]
  },
  {
   "cell_type": "code",
   "execution_count": 22,
   "id": "32cf93cd",
   "metadata": {},
   "outputs": [],
   "source": [
    "anaerobic_data = anaerobic.to_frame()\n",
    "reaction_names = []\n",
    "\n",
    "\n",
    "#Get the reaction names\n",
    "for ID in anaerobic_data.index:\n",
    "    reaction_names.append(model.reactions.get_by_id(ID).name)\n",
    "\n",
    "anaerobic_data.index = reaction_names\n",
    "\n",
    "anaerobic_data.sort_values('fluxes', inplace=True)"
   ]
  },
  {
   "cell_type": "code",
   "execution_count": 23,
   "id": "54433506",
   "metadata": {},
   "outputs": [
    {
     "name": "stdout",
     "output_type": "stream",
     "text": [
      "The 10 lowest flux solutions in the anaerobic scenario are: \n",
      "\n"
     ]
    },
    {
     "data": {
      "text/plain": [
       "Proton transport via diffusion (extracellular to periplasm)    -55.437366\n",
       "Phosphoglycerate kinase                                        -38.753218\n",
       "Phosphoglycerate mutase                                        -37.891791\n",
       "Formate transport via diffusion (extracellular to periplasm)   -34.174990\n",
       "D-Glucose exchange                                             -20.000000\n",
       "Acetate transport via diffusion (extracellular to periplasm)   -16.156867\n",
       "Acetate reversible transport via proton symport (periplasm)    -16.156867\n",
       "Acetaldehyde dehydrogenase (acetylating)                       -15.878206\n",
       "Alcohol dehydrogenase (ethanol)                                -15.878206\n",
       "Ethanol reversible transport via diffusion (periplasm)         -15.878206\n",
       "Name: fluxes, dtype: float64"
      ]
     },
     "execution_count": 23,
     "metadata": {},
     "output_type": "execute_result"
    }
   ],
   "source": [
    "print('The 10 lowest flux solutions in the anaerobic scenario are: ')\n",
    "print()\n",
    "anaerobic_data['fluxes'][0:10]"
   ]
  },
  {
   "cell_type": "markdown",
   "id": "1941801c",
   "metadata": {},
   "source": [
    "### 3 - Perform a pFBA simulation of the *E. coli* core model under aerobic and anaerobic conditions. Provide the flux value for biomass reaction in each scenario."
   ]
  },
  {
   "cell_type": "code",
   "execution_count": 24,
   "id": "537eb66f",
   "metadata": {},
   "outputs": [
    {
     "name": "stdout",
     "output_type": "stream",
     "text": [
      "The biomass production flux value in the aerobic scenario is 1.9778087350595466 mmol/(gDW h), while the flux in the anaerobic scenario is 0.5178191281464756 mmol/(gDW h).\n"
     ]
    }
   ],
   "source": [
    "with model:\n",
    "    model.reactions.EX_glc__D_e.lower_bound = -20\n",
    "    aerobic_pFBA = cobra.flux_analysis.pfba(model)\n",
    "    model.reactions.EX_o2_e.lower_bound = 0\n",
    "    anaerobic_pFBA = cobra.flux_analysis.pfba(model)\n",
    "\n",
    "print(f\"The biomass production flux value in the aerobic scenario is {aerobic_pFBA.fluxes['BIOMASS_Ec_iJO1366_core_53p95M']} mmol/(gDW h), while the flux in the anaerobic scenario is {anaerobic_pFBA.fluxes['BIOMASS_Ec_iJO1366_core_53p95M']} mmol/(gDW h).\")"
   ]
  },
  {
   "cell_type": "markdown",
   "id": "d634e315",
   "metadata": {},
   "source": [
    "### 3.1 - Calculate the sum of absolute fluxes for the flux solutions obtained in question 3."
   ]
  },
  {
   "cell_type": "code",
   "execution_count": 25,
   "id": "2a115214",
   "metadata": {},
   "outputs": [
    {
     "name": "stdout",
     "output_type": "stream",
     "text": [
      "The sum of absolute fluxes in the aerobic scenario is 1386.5673292018391 mmol/(gDW h), while the total absolute sum of fluxes in the anaerobic scenario is 796.6630109941966 mmol/(gDW h).\n"
     ]
    }
   ],
   "source": [
    "print(f\"The sum of absolute fluxes in the aerobic scenario is {aerobic_pFBA.objective_value} mmol/(gDW h), while the total absolute sum of fluxes in the anaerobic scenario is {anaerobic_pFBA.objective_value} mmol/(gDW h).\")"
   ]
  },
  {
   "cell_type": "markdown",
   "id": "eefe701b",
   "metadata": {},
   "source": [
    "### 3.2 - Calculate the sum of absolute fluxes for the flux solutions obtained in question 2. Compare with the values obtained from question 3.1. Which of the two sets has a lower sum of fluxes."
   ]
  },
  {
   "cell_type": "code",
   "execution_count": 26,
   "id": "d349f28b",
   "metadata": {},
   "outputs": [
    {
     "name": "stdout",
     "output_type": "stream",
     "text": [
      "The FBA solution had a total absolute sum of fluxes of 1408.5111621495853 mmol/(gDW h) in the aerobic scenario and 816.1961737487977 in the anaerobic scenario\n"
     ]
    }
   ],
   "source": [
    "FBA_Aerobic_SoF = 0\n",
    "FBA_Anaerobic_SoF = 0\n",
    "\n",
    "#Sum of the absolute value of all fluxes in the flux solution\n",
    "\n",
    "for value in aerobic.fluxes:\n",
    "    FBA_Aerobic_SoF += abs(value)\n",
    "\n",
    "for value in anaerobic.fluxes:\n",
    "    FBA_Anaerobic_SoF += abs(value)\n",
    "\n",
    "print(f\"The FBA solution had a total absolute sum of fluxes of {FBA_Aerobic_SoF} mmol/(gDW h) in the aerobic scenario and {FBA_Anaerobic_SoF} in the anaerobic scenario\")"
   ]
  },
  {
   "cell_type": "markdown",
   "id": "a7eaa9aa",
   "metadata": {},
   "source": [
    "The flux solutions obtained via pFBA have a lower sum of absolute fluxes."
   ]
  },
  {
   "cell_type": "markdown",
   "id": "4b002830",
   "metadata": {},
   "source": [
    "### 4 - Perform Flux Variability Analysis (FVA) for aerobic and anaerobic conditions."
   ]
  },
  {
   "cell_type": "code",
   "execution_count": 27,
   "id": "bbbcfddc",
   "metadata": {},
   "outputs": [],
   "source": [
    "from cobra.flux_analysis import flux_variability_analysis\n",
    "\n",
    "with model:\n",
    "    model.reactions.EX_glc__D_e.lower_bound = -20\n",
    "    aerobic_fva = flux_variability_analysis(model)\n",
    "    model.reactions.EX_o2_e.lower_bound = 0\n",
    "    anaerobic_fva = flux_variability_analysis(model)"
   ]
  },
  {
   "cell_type": "code",
   "execution_count": 28,
   "id": "b75a743a",
   "metadata": {},
   "outputs": [
    {
     "name": "stdout",
     "output_type": "stream",
     "text": [
      "Aerobic Flux Variability Analysis: \n",
      "\n"
     ]
    },
    {
     "data": {
      "text/html": [
       "<div>\n",
       "<style scoped>\n",
       "    .dataframe tbody tr th:only-of-type {\n",
       "        vertical-align: middle;\n",
       "    }\n",
       "\n",
       "    .dataframe tbody tr th {\n",
       "        vertical-align: top;\n",
       "    }\n",
       "\n",
       "    .dataframe thead th {\n",
       "        text-align: right;\n",
       "    }\n",
       "</style>\n",
       "<table border=\"1\" class=\"dataframe\">\n",
       "  <thead>\n",
       "    <tr style=\"text-align: right;\">\n",
       "      <th></th>\n",
       "      <th>minimum</th>\n",
       "      <th>maximum</th>\n",
       "    </tr>\n",
       "  </thead>\n",
       "  <tbody>\n",
       "    <tr>\n",
       "      <th>DM_4crsol_c</th>\n",
       "      <td>0.000441</td>\n",
       "      <td>4.410513e-04</td>\n",
       "    </tr>\n",
       "    <tr>\n",
       "      <th>DM_5drib_c</th>\n",
       "      <td>0.000445</td>\n",
       "      <td>4.450070e-04</td>\n",
       "    </tr>\n",
       "    <tr>\n",
       "      <th>DM_aacald_c</th>\n",
       "      <td>0.000000</td>\n",
       "      <td>0.000000e+00</td>\n",
       "    </tr>\n",
       "    <tr>\n",
       "      <th>DM_amob_c</th>\n",
       "      <td>0.000004</td>\n",
       "      <td>3.955617e-06</td>\n",
       "    </tr>\n",
       "    <tr>\n",
       "      <th>DM_mththf_c</th>\n",
       "      <td>0.000886</td>\n",
       "      <td>8.860583e-04</td>\n",
       "    </tr>\n",
       "    <tr>\n",
       "      <th>...</th>\n",
       "      <td>...</td>\n",
       "      <td>...</td>\n",
       "    </tr>\n",
       "    <tr>\n",
       "      <th>ZN2abcpp</th>\n",
       "      <td>0.000000</td>\n",
       "      <td>8.832174e-13</td>\n",
       "    </tr>\n",
       "    <tr>\n",
       "      <th>ZN2t3pp</th>\n",
       "      <td>0.000000</td>\n",
       "      <td>1.928692e-11</td>\n",
       "    </tr>\n",
       "    <tr>\n",
       "      <th>ZN2tpp</th>\n",
       "      <td>0.000674</td>\n",
       "      <td>6.744328e-04</td>\n",
       "    </tr>\n",
       "    <tr>\n",
       "      <th>ZNabcpp</th>\n",
       "      <td>0.000000</td>\n",
       "      <td>2.790417e-12</td>\n",
       "    </tr>\n",
       "    <tr>\n",
       "      <th>Zn2tex</th>\n",
       "      <td>0.000674</td>\n",
       "      <td>6.744328e-04</td>\n",
       "    </tr>\n",
       "  </tbody>\n",
       "</table>\n",
       "<p>2583 rows × 2 columns</p>\n",
       "</div>"
      ],
      "text/plain": [
       "              minimum       maximum\n",
       "DM_4crsol_c  0.000441  4.410513e-04\n",
       "DM_5drib_c   0.000445  4.450070e-04\n",
       "DM_aacald_c  0.000000  0.000000e+00\n",
       "DM_amob_c    0.000004  3.955617e-06\n",
       "DM_mththf_c  0.000886  8.860583e-04\n",
       "...               ...           ...\n",
       "ZN2abcpp     0.000000  8.832174e-13\n",
       "ZN2t3pp      0.000000  1.928692e-11\n",
       "ZN2tpp       0.000674  6.744328e-04\n",
       "ZNabcpp      0.000000  2.790417e-12\n",
       "Zn2tex       0.000674  6.744328e-04\n",
       "\n",
       "[2583 rows x 2 columns]"
      ]
     },
     "execution_count": 28,
     "metadata": {},
     "output_type": "execute_result"
    }
   ],
   "source": [
    "print('Aerobic Flux Variability Analysis: ')\n",
    "print()\n",
    "aerobic_fva"
   ]
  },
  {
   "cell_type": "code",
   "execution_count": 29,
   "id": "9c85cf19",
   "metadata": {},
   "outputs": [
    {
     "name": "stdout",
     "output_type": "stream",
     "text": [
      "Anaerobic Flux Variability Analysis: \n",
      "\n"
     ]
    },
    {
     "data": {
      "text/html": [
       "<div>\n",
       "<style scoped>\n",
       "    .dataframe tbody tr th:only-of-type {\n",
       "        vertical-align: middle;\n",
       "    }\n",
       "\n",
       "    .dataframe tbody tr th {\n",
       "        vertical-align: top;\n",
       "    }\n",
       "\n",
       "    .dataframe thead th {\n",
       "        text-align: right;\n",
       "    }\n",
       "</style>\n",
       "<table border=\"1\" class=\"dataframe\">\n",
       "  <thead>\n",
       "    <tr style=\"text-align: right;\">\n",
       "      <th></th>\n",
       "      <th>minimum</th>\n",
       "      <th>maximum</th>\n",
       "    </tr>\n",
       "  </thead>\n",
       "  <tbody>\n",
       "    <tr>\n",
       "      <th>DM_4crsol_c</th>\n",
       "      <td>0.000115</td>\n",
       "      <td>1.154737e-04</td>\n",
       "    </tr>\n",
       "    <tr>\n",
       "      <th>DM_5drib_c</th>\n",
       "      <td>0.000347</td>\n",
       "      <td>3.474566e-04</td>\n",
       "    </tr>\n",
       "    <tr>\n",
       "      <th>DM_aacald_c</th>\n",
       "      <td>0.000000</td>\n",
       "      <td>0.000000e+00</td>\n",
       "    </tr>\n",
       "    <tr>\n",
       "      <th>DM_amob_c</th>\n",
       "      <td>0.000001</td>\n",
       "      <td>1.035638e-06</td>\n",
       "    </tr>\n",
       "    <tr>\n",
       "      <th>DM_mththf_c</th>\n",
       "      <td>0.000232</td>\n",
       "      <td>2.319830e-04</td>\n",
       "    </tr>\n",
       "    <tr>\n",
       "      <th>...</th>\n",
       "      <td>...</td>\n",
       "      <td>...</td>\n",
       "    </tr>\n",
       "    <tr>\n",
       "      <th>ZN2abcpp</th>\n",
       "      <td>0.000000</td>\n",
       "      <td>-6.445233e-12</td>\n",
       "    </tr>\n",
       "    <tr>\n",
       "      <th>ZN2t3pp</th>\n",
       "      <td>0.000000</td>\n",
       "      <td>-7.213521e-12</td>\n",
       "    </tr>\n",
       "    <tr>\n",
       "      <th>ZN2tpp</th>\n",
       "      <td>0.000177</td>\n",
       "      <td>1.765763e-04</td>\n",
       "    </tr>\n",
       "    <tr>\n",
       "      <th>ZNabcpp</th>\n",
       "      <td>0.000000</td>\n",
       "      <td>-8.338208e-12</td>\n",
       "    </tr>\n",
       "    <tr>\n",
       "      <th>Zn2tex</th>\n",
       "      <td>0.000177</td>\n",
       "      <td>1.765763e-04</td>\n",
       "    </tr>\n",
       "  </tbody>\n",
       "</table>\n",
       "<p>2583 rows × 2 columns</p>\n",
       "</div>"
      ],
      "text/plain": [
       "              minimum       maximum\n",
       "DM_4crsol_c  0.000115  1.154737e-04\n",
       "DM_5drib_c   0.000347  3.474566e-04\n",
       "DM_aacald_c  0.000000  0.000000e+00\n",
       "DM_amob_c    0.000001  1.035638e-06\n",
       "DM_mththf_c  0.000232  2.319830e-04\n",
       "...               ...           ...\n",
       "ZN2abcpp     0.000000 -6.445233e-12\n",
       "ZN2t3pp      0.000000 -7.213521e-12\n",
       "ZN2tpp       0.000177  1.765763e-04\n",
       "ZNabcpp      0.000000 -8.338208e-12\n",
       "Zn2tex       0.000177  1.765763e-04\n",
       "\n",
       "[2583 rows x 2 columns]"
      ]
     },
     "execution_count": 29,
     "metadata": {},
     "output_type": "execute_result"
    }
   ],
   "source": [
    "print('Anaerobic Flux Variability Analysis: ')\n",
    "print()\n",
    "anaerobic_fva"
   ]
  },
  {
   "cell_type": "markdown",
   "id": "c4ad17c6",
   "metadata": {},
   "source": [
    "### 4.1 - For the aerobic and anaerobic scenarios, indicate the IDs of the 20 reactions with the highest flux variablitiy"
   ]
  },
  {
   "cell_type": "code",
   "execution_count": 30,
   "id": "72a5b43a",
   "metadata": {},
   "outputs": [],
   "source": [
    "#Flux variability can be obtained by summing the absolute values for the minimum and maximum flux value of each reaction\n",
    "\n",
    "aerobic_fva['diff'] = abs(aerobic_fva['minimum']) +  abs(aerobic_fva['maximum'])\n",
    "aerobic_fva.sort_values('diff', inplace=True, ascending=False)\n",
    "\n",
    "anaerobic_fva['diff'] = abs(anaerobic_fva['minimum']) +  abs(anaerobic_fva['maximum'])\n",
    "anaerobic_fva.sort_values('diff', inplace=True, ascending=False)"
   ]
  },
  {
   "cell_type": "code",
   "execution_count": 31,
   "id": "1c601a3c",
   "metadata": {},
   "outputs": [
    {
     "name": "stdout",
     "output_type": "stream",
     "text": [
      "The 20 reactions with highest flux variability in the aerobic scenario are: \n",
      "\n",
      "['ADK1', 'NDPK1', 'ADK3', 'VALTA', 'VPAMTr', 'ALATA_L', 'PPK', 'SUCOAS', 'FE2tex', 'EX_fe2_e', 'CAt6pp', 'PPM', 'PRPPS', 'PROt2rpp', 'GLUt2rpp', 'ASPt2pp_copy2', 'THRt2rpp', 'PTA2', 'TRSARr', 'CRNDt2rpp']\n"
     ]
    }
   ],
   "source": [
    "print(\"The 20 reactions with highest flux variability in the aerobic scenario are: \")\n",
    "print()\n",
    "print(list(aerobic_fva.index)[0:20])"
   ]
  },
  {
   "cell_type": "code",
   "execution_count": 32,
   "id": "d6e15224",
   "metadata": {},
   "outputs": [
    {
     "name": "stdout",
     "output_type": "stream",
     "text": [
      "The 20 reactions with highest flux variability in the anaerobic scenario are: \n",
      "\n",
      "['ADK1', 'NDPK1', 'ADK3', 'VPAMTr', 'VALTA', 'ALATA_L', 'ACt2rpp', 'PTAr', 'ACKr', 'PPK', 'CAt6pp', 'GLYCLTt2rpp', 'PPM', 'PRPPS', 'CRNDt2rpp', 'GLUt2rpp', 'SUCOAS', 'GLUABUTt7pp', 'INDOLEt2rpp', 'GLCtex_copy1']\n"
     ]
    }
   ],
   "source": [
    "print(\"The 20 reactions with highest flux variability in the anaerobic scenario are: \")\n",
    "print()\n",
    "print(list(anaerobic_fva.index)[0:20])"
   ]
  },
  {
   "cell_type": "markdown",
   "id": "54eccd18",
   "metadata": {},
   "source": [
    "### 4.2 - Perform FVA for aerobic and anaerobic conditions with the added constraint that the sum of absolute fluxes must not be more than 10% larger than the sum of absolute fluxes of a pFBA flux solution. "
   ]
  },
  {
   "cell_type": "code",
   "execution_count": 33,
   "id": "f1eaf42c",
   "metadata": {},
   "outputs": [],
   "source": [
    "with model:\n",
    "    model.reactions.EX_glc__D_e.lower_bound = -20\n",
    "    aerobic_solution = flux_variability_analysis(model, pfba_factor= 1.1)\n",
    "    model.reactions.EX_o2_e.lower_bound = 0\n",
    "    anaerobic_solution = flux_variability_analysis(model, pfba_factor= 1.1)\n"
   ]
  },
  {
   "cell_type": "code",
   "execution_count": 34,
   "id": "3f7c68a5",
   "metadata": {},
   "outputs": [
    {
     "name": "stdout",
     "output_type": "stream",
     "text": [
      "Aerobic Flux Variability Analysis (with pFBA constraint): \n",
      "\n"
     ]
    },
    {
     "data": {
      "text/html": [
       "<div>\n",
       "<style scoped>\n",
       "    .dataframe tbody tr th:only-of-type {\n",
       "        vertical-align: middle;\n",
       "    }\n",
       "\n",
       "    .dataframe tbody tr th {\n",
       "        vertical-align: top;\n",
       "    }\n",
       "\n",
       "    .dataframe thead th {\n",
       "        text-align: right;\n",
       "    }\n",
       "</style>\n",
       "<table border=\"1\" class=\"dataframe\">\n",
       "  <thead>\n",
       "    <tr style=\"text-align: right;\">\n",
       "      <th></th>\n",
       "      <th>minimum</th>\n",
       "      <th>maximum</th>\n",
       "    </tr>\n",
       "  </thead>\n",
       "  <tbody>\n",
       "    <tr>\n",
       "      <th>DM_4crsol_c</th>\n",
       "      <td>0.000441</td>\n",
       "      <td>4.410513e-04</td>\n",
       "    </tr>\n",
       "    <tr>\n",
       "      <th>DM_5drib_c</th>\n",
       "      <td>0.000445</td>\n",
       "      <td>4.450070e-04</td>\n",
       "    </tr>\n",
       "    <tr>\n",
       "      <th>DM_aacald_c</th>\n",
       "      <td>0.000000</td>\n",
       "      <td>0.000000e+00</td>\n",
       "    </tr>\n",
       "    <tr>\n",
       "      <th>DM_amob_c</th>\n",
       "      <td>0.000004</td>\n",
       "      <td>3.955617e-06</td>\n",
       "    </tr>\n",
       "    <tr>\n",
       "      <th>DM_mththf_c</th>\n",
       "      <td>0.000886</td>\n",
       "      <td>8.860583e-04</td>\n",
       "    </tr>\n",
       "    <tr>\n",
       "      <th>...</th>\n",
       "      <td>...</td>\n",
       "      <td>...</td>\n",
       "    </tr>\n",
       "    <tr>\n",
       "      <th>ZN2abcpp</th>\n",
       "      <td>0.000000</td>\n",
       "      <td>8.204113e-13</td>\n",
       "    </tr>\n",
       "    <tr>\n",
       "      <th>ZN2t3pp</th>\n",
       "      <td>0.000000</td>\n",
       "      <td>1.543461e-11</td>\n",
       "    </tr>\n",
       "    <tr>\n",
       "      <th>ZN2tpp</th>\n",
       "      <td>0.000674</td>\n",
       "      <td>6.744328e-04</td>\n",
       "    </tr>\n",
       "    <tr>\n",
       "      <th>ZNabcpp</th>\n",
       "      <td>0.000000</td>\n",
       "      <td>3.935957e-12</td>\n",
       "    </tr>\n",
       "    <tr>\n",
       "      <th>Zn2tex</th>\n",
       "      <td>0.000674</td>\n",
       "      <td>6.744328e-04</td>\n",
       "    </tr>\n",
       "  </tbody>\n",
       "</table>\n",
       "<p>2583 rows × 2 columns</p>\n",
       "</div>"
      ],
      "text/plain": [
       "              minimum       maximum\n",
       "DM_4crsol_c  0.000441  4.410513e-04\n",
       "DM_5drib_c   0.000445  4.450070e-04\n",
       "DM_aacald_c  0.000000  0.000000e+00\n",
       "DM_amob_c    0.000004  3.955617e-06\n",
       "DM_mththf_c  0.000886  8.860583e-04\n",
       "...               ...           ...\n",
       "ZN2abcpp     0.000000  8.204113e-13\n",
       "ZN2t3pp      0.000000  1.543461e-11\n",
       "ZN2tpp       0.000674  6.744328e-04\n",
       "ZNabcpp      0.000000  3.935957e-12\n",
       "Zn2tex       0.000674  6.744328e-04\n",
       "\n",
       "[2583 rows x 2 columns]"
      ]
     },
     "execution_count": 34,
     "metadata": {},
     "output_type": "execute_result"
    }
   ],
   "source": [
    "print('Aerobic Flux Variability Analysis (with pFBA constraint): ')\n",
    "print()\n",
    "aerobic_solution"
   ]
  },
  {
   "cell_type": "code",
   "execution_count": 35,
   "id": "5cad9955",
   "metadata": {},
   "outputs": [
    {
     "name": "stdout",
     "output_type": "stream",
     "text": [
      "Anaerobic Flux Variability Analysis (with pFBA constraint): \n",
      "\n"
     ]
    },
    {
     "data": {
      "text/html": [
       "<div>\n",
       "<style scoped>\n",
       "    .dataframe tbody tr th:only-of-type {\n",
       "        vertical-align: middle;\n",
       "    }\n",
       "\n",
       "    .dataframe tbody tr th {\n",
       "        vertical-align: top;\n",
       "    }\n",
       "\n",
       "    .dataframe thead th {\n",
       "        text-align: right;\n",
       "    }\n",
       "</style>\n",
       "<table border=\"1\" class=\"dataframe\">\n",
       "  <thead>\n",
       "    <tr style=\"text-align: right;\">\n",
       "      <th></th>\n",
       "      <th>minimum</th>\n",
       "      <th>maximum</th>\n",
       "      <th>diff</th>\n",
       "    </tr>\n",
       "  </thead>\n",
       "  <tbody>\n",
       "    <tr>\n",
       "      <th>ADK1</th>\n",
       "      <td>-1000.000000</td>\n",
       "      <td>1000.000000</td>\n",
       "      <td>2000.000000</td>\n",
       "    </tr>\n",
       "    <tr>\n",
       "      <th>NDPK1</th>\n",
       "      <td>-999.590599</td>\n",
       "      <td>1000.000000</td>\n",
       "      <td>1999.590599</td>\n",
       "    </tr>\n",
       "    <tr>\n",
       "      <th>ADK3</th>\n",
       "      <td>-1000.000000</td>\n",
       "      <td>999.590599</td>\n",
       "      <td>1999.590599</td>\n",
       "    </tr>\n",
       "    <tr>\n",
       "      <th>VPAMTr</th>\n",
       "      <td>-999.780879</td>\n",
       "      <td>999.698963</td>\n",
       "      <td>1999.479841</td>\n",
       "    </tr>\n",
       "    <tr>\n",
       "      <th>VALTA</th>\n",
       "      <td>-1000.000000</td>\n",
       "      <td>999.479841</td>\n",
       "      <td>1999.479841</td>\n",
       "    </tr>\n",
       "    <tr>\n",
       "      <th>...</th>\n",
       "      <td>...</td>\n",
       "      <td>...</td>\n",
       "      <td>...</td>\n",
       "    </tr>\n",
       "    <tr>\n",
       "      <th>HDCAtexi</th>\n",
       "      <td>0.000000</td>\n",
       "      <td>0.000000</td>\n",
       "      <td>0.000000</td>\n",
       "    </tr>\n",
       "    <tr>\n",
       "      <th>HCYSMT2</th>\n",
       "      <td>0.000000</td>\n",
       "      <td>0.000000</td>\n",
       "      <td>0.000000</td>\n",
       "    </tr>\n",
       "    <tr>\n",
       "      <th>PFK_2</th>\n",
       "      <td>0.000000</td>\n",
       "      <td>0.000000</td>\n",
       "      <td>0.000000</td>\n",
       "    </tr>\n",
       "    <tr>\n",
       "      <th>EX_fecrm_un_e</th>\n",
       "      <td>0.000000</td>\n",
       "      <td>0.000000</td>\n",
       "      <td>0.000000</td>\n",
       "    </tr>\n",
       "    <tr>\n",
       "      <th>ACACCT</th>\n",
       "      <td>0.000000</td>\n",
       "      <td>0.000000</td>\n",
       "      <td>0.000000</td>\n",
       "    </tr>\n",
       "  </tbody>\n",
       "</table>\n",
       "<p>2583 rows × 3 columns</p>\n",
       "</div>"
      ],
      "text/plain": [
       "                   minimum      maximum         diff\n",
       "ADK1          -1000.000000  1000.000000  2000.000000\n",
       "NDPK1          -999.590599  1000.000000  1999.590599\n",
       "ADK3          -1000.000000   999.590599  1999.590599\n",
       "VPAMTr         -999.780879   999.698963  1999.479841\n",
       "VALTA         -1000.000000   999.479841  1999.479841\n",
       "...                    ...          ...          ...\n",
       "HDCAtexi          0.000000     0.000000     0.000000\n",
       "HCYSMT2           0.000000     0.000000     0.000000\n",
       "PFK_2             0.000000     0.000000     0.000000\n",
       "EX_fecrm_un_e     0.000000     0.000000     0.000000\n",
       "ACACCT            0.000000     0.000000     0.000000\n",
       "\n",
       "[2583 rows x 3 columns]"
      ]
     },
     "execution_count": 35,
     "metadata": {},
     "output_type": "execute_result"
    }
   ],
   "source": [
    "print('Anaerobic Flux Variability Analysis (with pFBA constraint): ')\n",
    "print()\n",
    "anaerobic_fva"
   ]
  },
  {
   "cell_type": "markdown",
   "id": "d48e7c8e",
   "metadata": {},
   "source": [
    "## Bonus Questions "
   ]
  },
  {
   "cell_type": "markdown",
   "id": "8e3d6a7a",
   "metadata": {},
   "source": [
    "### 1 - Obtain an aerobic and anaerobic flux solution using succinate as the sole carbon source. What are the differences between the two flux solutions? How may they be explained at the level of the metabolic network? "
   ]
  },
  {
   "cell_type": "code",
   "execution_count": 36,
   "id": "ebe5a6c1",
   "metadata": {},
   "outputs": [
    {
     "data": {
      "text/plain": [
       "[<Reaction EX_succ_e at 0x7fe410d82890>]"
      ]
     },
     "execution_count": 36,
     "metadata": {},
     "output_type": "execute_result"
    }
   ],
   "source": [
    "# Searching for succinate\n",
    "model.reactions.query(\"succ\")"
   ]
  },
  {
   "cell_type": "code",
   "execution_count": 37,
   "id": "cf2d51ed",
   "metadata": {},
   "outputs": [
    {
     "data": {
      "text/html": [
       "\n",
       "        <table>\n",
       "            <tr>\n",
       "                <td><strong>Reaction identifier</strong></td><td>EX_succ_e</td>\n",
       "            </tr><tr>\n",
       "                <td><strong>Name</strong></td><td>Succinate exchange</td>\n",
       "            </tr><tr>\n",
       "                <td><strong>Memory address</strong></td>\n",
       "                <td>0x7fe410d82890</td>\n",
       "            </tr><tr>\n",
       "                <td><strong>Stoichiometry</strong></td>\n",
       "                <td>\n",
       "                    <p style='text-align:right'>succ_e --></p>\n",
       "                    <p style='text-align:right'>Succinate --></p>\n",
       "                </td>\n",
       "            </tr><tr>\n",
       "                <td><strong>GPR</strong></td><td></td>\n",
       "            </tr><tr>\n",
       "                <td><strong>Lower bound</strong></td><td>0.0</td>\n",
       "            </tr><tr>\n",
       "                <td><strong>Upper bound</strong></td><td>1000.0</td>\n",
       "            </tr>\n",
       "        </table>\n",
       "        "
      ],
      "text/plain": [
       "<Reaction EX_succ_e at 0x7fe410d82890>"
      ]
     },
     "execution_count": 37,
     "metadata": {},
     "output_type": "execute_result"
    }
   ],
   "source": [
    "model.reactions.EX_succ_e"
   ]
  },
  {
   "cell_type": "code",
   "execution_count": 38,
   "id": "d98d2d09",
   "metadata": {},
   "outputs": [
    {
     "name": "stdout",
     "output_type": "stream",
     "text": [
      "Objective\n",
      "=========\n",
      "1.0 BIOMASS_Ec_iJO1366_core_53p95M = 0.9985348955292406\n",
      "\n",
      "Uptake\n",
      "------\n",
      "Metabolite     Reaction      Flux  C-Number  C-Flux\n",
      "     ca2_e     EX_ca2_e  0.005197         0   0.00%\n",
      "      cl_e      EX_cl_e  0.005197         0   0.00%\n",
      " cobalt2_e EX_cobalt2_e 2.496E-05         0   0.00%\n",
      "     cu2_e     EX_cu2_e  0.000708         0   0.00%\n",
      "     fe2_e     EX_fe2_e   0.01604         0   0.00%\n",
      "       h_e       EX_h_e     30.83         0   0.00%\n",
      "       k_e       EX_k_e    0.1949         0   0.00%\n",
      "     mg2_e     EX_mg2_e  0.008662         0   0.00%\n",
      "     mn2_e     EX_mn2_e   0.00069         0   0.00%\n",
      "    mobd_e    EX_mobd_e 0.0001288         0   0.00%\n",
      "     nh4_e     EX_nh4_e     10.78         0   0.00%\n",
      "     ni2_e     EX_ni2_e 0.0003225         0   0.00%\n",
      "      o2_e      EX_o2_e     26.88         0   0.00%\n",
      "      pi_e      EX_pi_e    0.9632         0   0.00%\n",
      "     so4_e     EX_so4_e    0.2518         0   0.00%\n",
      "    succ_e    EX_succ_e        20         4 100.00%\n",
      "     zn2_e     EX_zn2_e 0.0003405         0   0.00%\n",
      "\n",
      "Secretion\n",
      "---------\n",
      "Metabolite    Reaction       Flux  C-Number C-Flux\n",
      "  4crsol_c DM_4crsol_c -0.0002227         7  0.00%\n",
      "   5drib_c  DM_5drib_c -0.0002247         5  0.00%\n",
      "    amob_c   DM_amob_c -1.997E-06        15  0.00%\n",
      "  mththf_c DM_mththf_c -0.0004473         5  0.01%\n",
      "     co2_e    EX_co2_e     -39.01         1 99.99%\n",
      "     h2o_e    EX_h2o_e     -45.38         0  0.00%\n",
      "    meoh_e   EX_meoh_e -1.997E-06         1  0.00%\n",
      "\n"
     ]
    }
   ],
   "source": [
    "#Aerobic solution with succinate as the carboun source\n",
    "with model:\n",
    "    model.reactions.EX_glc__D_e.lower_bound = 0\n",
    "    model.reactions.EX_succ_e.lower_bound = -20\n",
    "    print(model.summary())"
   ]
  },
  {
   "cell_type": "code",
   "execution_count": 39,
   "id": "4f4251b6",
   "metadata": {},
   "outputs": [
    {
     "ename": "Infeasible",
     "evalue": "None (infeasible).",
     "output_type": "error",
     "traceback": [
      "\u001b[0;31m---------------------------------------------------------------------------\u001b[0m",
      "\u001b[0;31mInfeasible\u001b[0m                                Traceback (most recent call last)",
      "\u001b[0;32m/tmp/ipykernel_18773/497900702.py\u001b[0m in \u001b[0;36m<module>\u001b[0;34m\u001b[0m\n\u001b[1;32m      4\u001b[0m     \u001b[0mmodel\u001b[0m\u001b[0;34m.\u001b[0m\u001b[0mreactions\u001b[0m\u001b[0;34m.\u001b[0m\u001b[0mEX_succ_e\u001b[0m\u001b[0;34m.\u001b[0m\u001b[0mlower_bound\u001b[0m \u001b[0;34m=\u001b[0m \u001b[0;34m-\u001b[0m\u001b[0;36m20\u001b[0m\u001b[0;34m\u001b[0m\u001b[0;34m\u001b[0m\u001b[0m\n\u001b[1;32m      5\u001b[0m     \u001b[0mmodel\u001b[0m\u001b[0;34m.\u001b[0m\u001b[0mreactions\u001b[0m\u001b[0;34m.\u001b[0m\u001b[0mEX_o2_e\u001b[0m\u001b[0;34m.\u001b[0m\u001b[0mlower_bound\u001b[0m \u001b[0;34m=\u001b[0m \u001b[0;36m0\u001b[0m\u001b[0;34m\u001b[0m\u001b[0;34m\u001b[0m\u001b[0m\n\u001b[0;32m----> 6\u001b[0;31m     \u001b[0mprint\u001b[0m\u001b[0;34m(\u001b[0m\u001b[0mmodel\u001b[0m\u001b[0;34m.\u001b[0m\u001b[0msummary\u001b[0m\u001b[0;34m(\u001b[0m\u001b[0;34m)\u001b[0m\u001b[0;34m)\u001b[0m\u001b[0;34m\u001b[0m\u001b[0;34m\u001b[0m\u001b[0m\n\u001b[0m",
      "\u001b[0;32m~/mambaforge/envs/qbio/lib/python3.7/site-packages/cobra/core/model.py\u001b[0m in \u001b[0;36msummary\u001b[0;34m(self, solution, fva)\u001b[0m\n\u001b[1;32m   1388\u001b[0m         \u001b[0;32mfrom\u001b[0m \u001b[0mcobra\u001b[0m\u001b[0;34m.\u001b[0m\u001b[0msummary\u001b[0m \u001b[0;32mimport\u001b[0m \u001b[0mModelSummary\u001b[0m\u001b[0;34m\u001b[0m\u001b[0;34m\u001b[0m\u001b[0m\n\u001b[1;32m   1389\u001b[0m \u001b[0;34m\u001b[0m\u001b[0m\n\u001b[0;32m-> 1390\u001b[0;31m         \u001b[0;32mreturn\u001b[0m \u001b[0mModelSummary\u001b[0m\u001b[0;34m(\u001b[0m\u001b[0mmodel\u001b[0m\u001b[0;34m=\u001b[0m\u001b[0mself\u001b[0m\u001b[0;34m,\u001b[0m \u001b[0msolution\u001b[0m\u001b[0;34m=\u001b[0m\u001b[0msolution\u001b[0m\u001b[0;34m,\u001b[0m \u001b[0mfva\u001b[0m\u001b[0;34m=\u001b[0m\u001b[0mfva\u001b[0m\u001b[0;34m)\u001b[0m\u001b[0;34m\u001b[0m\u001b[0;34m\u001b[0m\u001b[0m\n\u001b[0m\u001b[1;32m   1391\u001b[0m \u001b[0;34m\u001b[0m\u001b[0m\n\u001b[1;32m   1392\u001b[0m     \u001b[0;32mdef\u001b[0m \u001b[0m__enter__\u001b[0m\u001b[0;34m(\u001b[0m\u001b[0mself\u001b[0m\u001b[0;34m)\u001b[0m \u001b[0;34m->\u001b[0m \u001b[0;34m\"Model\"\u001b[0m\u001b[0;34m:\u001b[0m\u001b[0;34m\u001b[0m\u001b[0;34m\u001b[0m\u001b[0m\n",
      "\u001b[0;32m~/mambaforge/envs/qbio/lib/python3.7/site-packages/cobra/summary/model_summary.py\u001b[0m in \u001b[0;36m__init__\u001b[0;34m(self, model, solution, fva, **kwargs)\u001b[0m\n\u001b[1;32m     83\u001b[0m         \u001b[0mself\u001b[0m\u001b[0;34m.\u001b[0m\u001b[0muptake_flux\u001b[0m\u001b[0;34m:\u001b[0m \u001b[0mOptional\u001b[0m\u001b[0;34m[\u001b[0m\u001b[0mpd\u001b[0m\u001b[0;34m.\u001b[0m\u001b[0mDataFrame\u001b[0m\u001b[0;34m]\u001b[0m \u001b[0;34m=\u001b[0m \u001b[0;32mNone\u001b[0m\u001b[0;34m\u001b[0m\u001b[0;34m\u001b[0m\u001b[0m\n\u001b[1;32m     84\u001b[0m         \u001b[0mself\u001b[0m\u001b[0;34m.\u001b[0m\u001b[0msecretion_flux\u001b[0m\u001b[0;34m:\u001b[0m \u001b[0mOptional\u001b[0m\u001b[0;34m[\u001b[0m\u001b[0mpd\u001b[0m\u001b[0;34m.\u001b[0m\u001b[0mDataFrame\u001b[0m\u001b[0;34m]\u001b[0m \u001b[0;34m=\u001b[0m \u001b[0;32mNone\u001b[0m\u001b[0;34m\u001b[0m\u001b[0;34m\u001b[0m\u001b[0m\n\u001b[0;32m---> 85\u001b[0;31m         \u001b[0mself\u001b[0m\u001b[0;34m.\u001b[0m\u001b[0m_generate\u001b[0m\u001b[0;34m(\u001b[0m\u001b[0mmodel\u001b[0m\u001b[0;34m,\u001b[0m \u001b[0msolution\u001b[0m\u001b[0;34m,\u001b[0m \u001b[0mfva\u001b[0m\u001b[0;34m)\u001b[0m\u001b[0;34m\u001b[0m\u001b[0;34m\u001b[0m\u001b[0m\n\u001b[0m\u001b[1;32m     86\u001b[0m \u001b[0;34m\u001b[0m\u001b[0m\n\u001b[1;32m     87\u001b[0m     def _generate(\n",
      "\u001b[0;32m~/mambaforge/envs/qbio/lib/python3.7/site-packages/cobra/summary/model_summary.py\u001b[0m in \u001b[0;36m_generate\u001b[0;34m(self, model, solution, fva)\u001b[0m\n\u001b[1;32m    114\u001b[0m         \u001b[0;32mif\u001b[0m \u001b[0msolution\u001b[0m \u001b[0;32mis\u001b[0m \u001b[0;32mNone\u001b[0m\u001b[0;34m:\u001b[0m\u001b[0;34m\u001b[0m\u001b[0;34m\u001b[0m\u001b[0m\n\u001b[1;32m    115\u001b[0m             \u001b[0mlogger\u001b[0m\u001b[0;34m.\u001b[0m\u001b[0minfo\u001b[0m\u001b[0;34m(\u001b[0m\u001b[0;34m\"Generating new parsimonious flux distribution.\"\u001b[0m\u001b[0;34m)\u001b[0m\u001b[0;34m\u001b[0m\u001b[0;34m\u001b[0m\u001b[0m\n\u001b[0;32m--> 116\u001b[0;31m             \u001b[0msolution\u001b[0m \u001b[0;34m=\u001b[0m \u001b[0mpfba\u001b[0m\u001b[0;34m(\u001b[0m\u001b[0mmodel\u001b[0m\u001b[0;34m)\u001b[0m\u001b[0;34m\u001b[0m\u001b[0;34m\u001b[0m\u001b[0m\n\u001b[0m\u001b[1;32m    117\u001b[0m \u001b[0;34m\u001b[0m\u001b[0m\n\u001b[1;32m    118\u001b[0m         \u001b[0;32mif\u001b[0m \u001b[0misinstance\u001b[0m\u001b[0;34m(\u001b[0m\u001b[0mfva\u001b[0m\u001b[0;34m,\u001b[0m \u001b[0mfloat\u001b[0m\u001b[0;34m)\u001b[0m\u001b[0;34m:\u001b[0m\u001b[0;34m\u001b[0m\u001b[0;34m\u001b[0m\u001b[0m\n",
      "\u001b[0;32m~/mambaforge/envs/qbio/lib/python3.7/site-packages/cobra/flux_analysis/parsimonious.py\u001b[0m in \u001b[0;36mpfba\u001b[0;34m(model, fraction_of_optimum, objective, reactions)\u001b[0m\n\u001b[1;32m     92\u001b[0m     )\n\u001b[1;32m     93\u001b[0m     \u001b[0;32mwith\u001b[0m \u001b[0mmodel\u001b[0m \u001b[0;32mas\u001b[0m \u001b[0mm\u001b[0m\u001b[0;34m:\u001b[0m\u001b[0;34m\u001b[0m\u001b[0;34m\u001b[0m\u001b[0m\n\u001b[0;32m---> 94\u001b[0;31m         \u001b[0madd_pfba\u001b[0m\u001b[0;34m(\u001b[0m\u001b[0mm\u001b[0m\u001b[0;34m,\u001b[0m \u001b[0mobjective\u001b[0m\u001b[0;34m=\u001b[0m\u001b[0mobjective\u001b[0m\u001b[0;34m,\u001b[0m \u001b[0mfraction_of_optimum\u001b[0m\u001b[0;34m=\u001b[0m\u001b[0mfraction_of_optimum\u001b[0m\u001b[0;34m)\u001b[0m\u001b[0;34m\u001b[0m\u001b[0;34m\u001b[0m\u001b[0m\n\u001b[0m\u001b[1;32m     95\u001b[0m         \u001b[0mm\u001b[0m\u001b[0;34m.\u001b[0m\u001b[0mslim_optimize\u001b[0m\u001b[0;34m(\u001b[0m\u001b[0merror_value\u001b[0m\u001b[0;34m=\u001b[0m\u001b[0;32mNone\u001b[0m\u001b[0;34m)\u001b[0m\u001b[0;34m\u001b[0m\u001b[0;34m\u001b[0m\u001b[0m\n\u001b[1;32m     96\u001b[0m         \u001b[0msolution\u001b[0m \u001b[0;34m=\u001b[0m \u001b[0mget_solution\u001b[0m\u001b[0;34m(\u001b[0m\u001b[0mm\u001b[0m\u001b[0;34m,\u001b[0m \u001b[0mreactions\u001b[0m\u001b[0;34m=\u001b[0m\u001b[0mreactions\u001b[0m\u001b[0;34m)\u001b[0m\u001b[0;34m\u001b[0m\u001b[0;34m\u001b[0m\u001b[0m\n",
      "\u001b[0;32m~/mambaforge/envs/qbio/lib/python3.7/site-packages/cobra/flux_analysis/parsimonious.py\u001b[0m in \u001b[0;36madd_pfba\u001b[0;34m(model, objective, fraction_of_optimum)\u001b[0m\n\u001b[1;32m    130\u001b[0m     \u001b[0;32mif\u001b[0m \u001b[0mmodel\u001b[0m\u001b[0;34m.\u001b[0m\u001b[0msolver\u001b[0m\u001b[0;34m.\u001b[0m\u001b[0mobjective\u001b[0m\u001b[0;34m.\u001b[0m\u001b[0mname\u001b[0m \u001b[0;34m==\u001b[0m \u001b[0;34m\"_pfba_objective\"\u001b[0m\u001b[0;34m:\u001b[0m\u001b[0;34m\u001b[0m\u001b[0;34m\u001b[0m\u001b[0m\n\u001b[1;32m    131\u001b[0m         \u001b[0;32mraise\u001b[0m \u001b[0mValueError\u001b[0m\u001b[0;34m(\u001b[0m\u001b[0;34m\"The model already has a pFBA objective.\"\u001b[0m\u001b[0;34m)\u001b[0m\u001b[0;34m\u001b[0m\u001b[0;34m\u001b[0m\u001b[0m\n\u001b[0;32m--> 132\u001b[0;31m     \u001b[0msutil\u001b[0m\u001b[0;34m.\u001b[0m\u001b[0mfix_objective_as_constraint\u001b[0m\u001b[0;34m(\u001b[0m\u001b[0mmodel\u001b[0m\u001b[0;34m,\u001b[0m \u001b[0mfraction\u001b[0m\u001b[0;34m=\u001b[0m\u001b[0mfraction_of_optimum\u001b[0m\u001b[0;34m)\u001b[0m\u001b[0;34m\u001b[0m\u001b[0;34m\u001b[0m\u001b[0m\n\u001b[0m\u001b[1;32m    133\u001b[0m     reaction_variables = (\n\u001b[1;32m    134\u001b[0m         \u001b[0;34m(\u001b[0m\u001b[0mrxn\u001b[0m\u001b[0;34m.\u001b[0m\u001b[0mforward_variable\u001b[0m\u001b[0;34m,\u001b[0m \u001b[0mrxn\u001b[0m\u001b[0;34m.\u001b[0m\u001b[0mreverse_variable\u001b[0m\u001b[0;34m)\u001b[0m \u001b[0;32mfor\u001b[0m \u001b[0mrxn\u001b[0m \u001b[0;32min\u001b[0m \u001b[0mmodel\u001b[0m\u001b[0;34m.\u001b[0m\u001b[0mreactions\u001b[0m\u001b[0;34m\u001b[0m\u001b[0;34m\u001b[0m\u001b[0m\n",
      "\u001b[0;32m~/mambaforge/envs/qbio/lib/python3.7/site-packages/cobra/util/solver.py\u001b[0m in \u001b[0;36mfix_objective_as_constraint\u001b[0;34m(model, fraction, bound, name)\u001b[0m\n\u001b[1;32m    511\u001b[0m         \u001b[0mmodel\u001b[0m\u001b[0;34m.\u001b[0m\u001b[0msolver\u001b[0m\u001b[0;34m.\u001b[0m\u001b[0mremove\u001b[0m\u001b[0;34m(\u001b[0m\u001b[0mfix_objective_name\u001b[0m\u001b[0;34m)\u001b[0m\u001b[0;34m\u001b[0m\u001b[0;34m\u001b[0m\u001b[0m\n\u001b[1;32m    512\u001b[0m     \u001b[0;32mif\u001b[0m \u001b[0mbound\u001b[0m \u001b[0;32mis\u001b[0m \u001b[0;32mNone\u001b[0m\u001b[0;34m:\u001b[0m\u001b[0;34m\u001b[0m\u001b[0;34m\u001b[0m\u001b[0m\n\u001b[0;32m--> 513\u001b[0;31m         \u001b[0mbound\u001b[0m \u001b[0;34m=\u001b[0m \u001b[0mmodel\u001b[0m\u001b[0;34m.\u001b[0m\u001b[0mslim_optimize\u001b[0m\u001b[0;34m(\u001b[0m\u001b[0merror_value\u001b[0m\u001b[0;34m=\u001b[0m\u001b[0;32mNone\u001b[0m\u001b[0;34m)\u001b[0m \u001b[0;34m*\u001b[0m \u001b[0mfraction\u001b[0m\u001b[0;34m\u001b[0m\u001b[0;34m\u001b[0m\u001b[0m\n\u001b[0m\u001b[1;32m    514\u001b[0m     \u001b[0;32mif\u001b[0m \u001b[0mmodel\u001b[0m\u001b[0;34m.\u001b[0m\u001b[0mobjective\u001b[0m\u001b[0;34m.\u001b[0m\u001b[0mdirection\u001b[0m \u001b[0;34m==\u001b[0m \u001b[0;34m\"max\"\u001b[0m\u001b[0;34m:\u001b[0m\u001b[0;34m\u001b[0m\u001b[0;34m\u001b[0m\u001b[0m\n\u001b[1;32m    515\u001b[0m         \u001b[0mub\u001b[0m\u001b[0;34m,\u001b[0m \u001b[0mlb\u001b[0m \u001b[0;34m=\u001b[0m \u001b[0;32mNone\u001b[0m\u001b[0;34m,\u001b[0m \u001b[0mbound\u001b[0m\u001b[0;34m\u001b[0m\u001b[0;34m\u001b[0m\u001b[0m\n",
      "\u001b[0;32m~/mambaforge/envs/qbio/lib/python3.7/site-packages/cobra/core/model.py\u001b[0m in \u001b[0;36mslim_optimize\u001b[0;34m(self, error_value, message)\u001b[0m\n\u001b[1;32m   1201\u001b[0m             \u001b[0;32mreturn\u001b[0m \u001b[0merror_value\u001b[0m\u001b[0;34m\u001b[0m\u001b[0;34m\u001b[0m\u001b[0m\n\u001b[1;32m   1202\u001b[0m         \u001b[0;32melse\u001b[0m\u001b[0;34m:\u001b[0m\u001b[0;34m\u001b[0m\u001b[0;34m\u001b[0m\u001b[0m\n\u001b[0;32m-> 1203\u001b[0;31m             \u001b[0massert_optimal\u001b[0m\u001b[0;34m(\u001b[0m\u001b[0mself\u001b[0m\u001b[0;34m,\u001b[0m \u001b[0mmessage\u001b[0m\u001b[0;34m)\u001b[0m\u001b[0;34m\u001b[0m\u001b[0;34m\u001b[0m\u001b[0m\n\u001b[0m\u001b[1;32m   1204\u001b[0m \u001b[0;34m\u001b[0m\u001b[0m\n\u001b[1;32m   1205\u001b[0m     def optimize(\n",
      "\u001b[0;32m~/mambaforge/envs/qbio/lib/python3.7/site-packages/cobra/util/solver.py\u001b[0m in \u001b[0;36massert_optimal\u001b[0;34m(model, message)\u001b[0m\n\u001b[1;32m    588\u001b[0m     \u001b[0;32mif\u001b[0m \u001b[0mstatus\u001b[0m \u001b[0;34m!=\u001b[0m \u001b[0mOPTIMAL\u001b[0m\u001b[0;34m:\u001b[0m\u001b[0;34m\u001b[0m\u001b[0;34m\u001b[0m\u001b[0m\n\u001b[1;32m    589\u001b[0m         \u001b[0mexception_cls\u001b[0m \u001b[0;34m=\u001b[0m \u001b[0mOPTLANG_TO_EXCEPTIONS_DICT\u001b[0m\u001b[0;34m.\u001b[0m\u001b[0mget\u001b[0m\u001b[0;34m(\u001b[0m\u001b[0mstatus\u001b[0m\u001b[0;34m,\u001b[0m \u001b[0mOptimizationError\u001b[0m\u001b[0;34m)\u001b[0m\u001b[0;34m\u001b[0m\u001b[0;34m\u001b[0m\u001b[0m\n\u001b[0;32m--> 590\u001b[0;31m         \u001b[0;32mraise\u001b[0m \u001b[0mexception_cls\u001b[0m\u001b[0;34m(\u001b[0m\u001b[0;34mf\"{message} ({status}).\"\u001b[0m\u001b[0;34m)\u001b[0m\u001b[0;34m\u001b[0m\u001b[0;34m\u001b[0m\u001b[0m\n\u001b[0m\u001b[1;32m    591\u001b[0m \u001b[0;34m\u001b[0m\u001b[0m\n\u001b[1;32m    592\u001b[0m \u001b[0;34m\u001b[0m\u001b[0m\n",
      "\u001b[0;31mInfeasible\u001b[0m: None (infeasible)."
     ]
    }
   ],
   "source": [
    "#Anaerobic solution with succinate as the carbon source\n",
    "with model:\n",
    "    model.reactions.EX_glc__D_e.lower_bound = 0\n",
    "    model.reactions.EX_succ_e.lower_bound = -20\n",
    "    model.reactions.EX_o2_e.lower_bound = 0\n",
    "    print(model.summary())"
   ]
  },
  {
   "cell_type": "markdown",
   "id": "b2006c70",
   "metadata": {},
   "source": [
    "Possible causes for the inability of the model generating a flux solution in an anaerobic scenario using succinate as a substrate are three-fold:\n",
    "\n",
    "- **Energetic Constraints**:\n",
    "\n",
    "Biomass production is an energetically demanding process, requiring a sufficient supply of ATP and reducing equivalents. Succinate may not provide enough energy to meet these requirements, especially under anaerobic conditions where oxidative phosphorylation is limited.\n",
    "\n",
    "- **Redox Balance**:\n",
    "\n",
    "Anaerobic conditions often require the cell to balance redox equivalents without the use of oxygen as a terminal electron acceptor. Succinate might not provide the necessary balanced pool of reducing equivalents (NADH and NADPH) needed for biosynthesis.\n",
    "\n",
    "- **Metabolic Pathway Limitations**:\n",
    "\n",
    "The pathways connected to succinate metabolism may not be sufficient to produce all the precursor metabolites and cofactors required for biomass synthesis in the absence of oxidative phosphorylation. Additional carbon sources or pathways may be needed to fulfill these demands."
   ]
  },
  {
   "cell_type": "markdown",
   "id": "26349b63",
   "metadata": {},
   "source": [
    "### 2 - Using FBA obtain flux solutions with the *E. coli* model corresponding to glucose uptake values of 15, 50, 100, 1000 mmol/(gDW·h). Is the increase in biomass linear or non-linear? What can justify this behaviour? "
   ]
  },
  {
   "cell_type": "code",
   "execution_count": 40,
   "id": "ded6377d",
   "metadata": {},
   "outputs": [],
   "source": [
    "glucose_uptake = [5, 50, 100, 300, 500, 800, 1000]\n",
    "\n",
    "Biomass = []\n",
    "\n",
    "for flux_bound in glucose_uptake:\n",
    "    with model:\n",
    "        model.reactions.EX_glc__D_e.lower_bound = -flux_bound\n",
    "        solution = model.optimize()\n",
    "        Biomass.append(solution.fluxes[\"BIOMASS_Ec_iJO1366_core_53p95M\"])"
   ]
  },
  {
   "cell_type": "code",
   "execution_count": 41,
   "id": "83933da6",
   "metadata": {},
   "outputs": [
    {
     "data": {
      "image/png": "[encoded data removed]",
      "text/plain": [
       "<Figure size 640x480 with 1 Axes>"
      ]
     },
     "metadata": {},
     "output_type": "display_data"
    }
   ],
   "source": [
    "import seaborn as sns\n",
    "import matplotlib.pyplot as plt\n",
    "\n",
    "ax = sns.lineplot(x = glucose_uptake, y = Biomass, color = 'red', marker=\"o\")\n",
    "ax.set(xlabel= 'Glucose Uptake \\n  $mmol\\, \\mathregular{(gDW*h)^{-1}}$', \n",
    "ylabel= \"Biomass Production \\n $mmol\\, \\mathregular{(gDW*h)^{-1}}$\")\n",
    "ax.set_title('Biomass Production as a function of Glucose Uptake', fontsize=16, pad = 20, ha='center' )\n",
    "plt.show()"
   ]
  },
  {
   "cell_type": "markdown",
   "id": "c9080e1d",
   "metadata": {},
   "source": [
    "Using FBA we use linear programming to resolve a constrained optimization, resulting in a flux solution. However, despite the linear nature of the problem, we can simulate non-linear behaviour such as the one observed above for the relationship between biomass production and glucose uptake in *E.coli*. This can occur due to the limitations imposed by the strucutre of the metabolic network (the stoichiometric matrix) i.e not all reactions are connected to all metabolites. This exemplifies the power of relatively simple methodologies simulating complex biological behaviour."
   ]
  }
 ],
 "metadata": {
  "kernelspec": {
   "display_name": "Python 3 (ipykernel)",
   "language": "python",
   "name": "python3"
  },
  "language_info": {
   "codemirror_mode": {
    "name": "ipython",
    "version": 3
   },
   "file_extension": ".py",
   "mimetype": "text/x-python",
   "name": "python",
   "nbconvert_exporter": "python",
   "pygments_lexer": "ipython3",
   "version": "3.7.12"
  }
 },
 "nbformat": 4,
 "nbformat_minor": 5
}
