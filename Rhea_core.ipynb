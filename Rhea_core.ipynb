{
 "cells": [
  {
   "cell_type": "markdown",
   "metadata": {},
   "source": [
    "## Exercises using Rhea\n",
    "\n",
    "Refer to https://bioservices.readthedocs.io/en/latest/_modules/bioservices/chebi.html for CheBI and https://bioservices.readthedocs.io/en/latest/_modules/bioservices/rhea.html for Rhea"
   ]
  },
  {
   "cell_type": "code",
   "execution_count": 302,
   "metadata": {},
   "outputs": [
    {
     "name": "stderr",
     "output_type": "stream",
     "text": [
      "\u001b[32mINFO    [bioservices.Rhea:363]: \u001b[0m \u001b[32mInitialising Rhea service (REST)\u001b[0m\n"
     ]
    }
   ],
   "source": [
    "import numpy as np\n",
    "import pandas as pd\n",
    "from bioservices import Rhea\n",
    "r = Rhea()"
   ]
  },
  {
   "cell_type": "code",
   "execution_count": null,
   "metadata": {},
   "outputs": [],
   "source": [
    "df_core=pd.read_excel('Core_reactions.xlsx')\n",
    "df_core['id']=df_core['Biocyc id'].str.split(':',n=0,expand=True)[1]"
   ]
  },
  {
   "cell_type": "markdown",
   "metadata": {},
   "source": [
    " ## Search about a compound/metabolite"
   ]
  },
  {
   "cell_type": "code",
   "execution_count": 280,
   "metadata": {},
   "outputs": [
    {
     "name": "stdout",
     "output_type": "stream",
     "text": [
      "[550    PLASTOQUINOL_PLASTOCYANIN_REDUCTASE_RXN_p\n",
      "Name: Reactions, dtype: object, Series([], Name: Reactions, dtype: object), 5    1.18.1.2_RXN_p\n",
      "Name: Reactions, dtype: object, Series([], Name: Reactions, dtype: object), 579    PYRUVDEH_RXN_m\n",
      "580    PYRUVDEH_RXN_p\n",
      "Name: Reactions, dtype: object]\n"
     ]
    }
   ],
   "source": [
    "rxn_i=['PLASTOQUINOL--PLASTOCYANIN-REDUCTASE-RXN','RXN-15479','1.18.1.2-RXN','ATPSYN-RXN','PYRUVDEH-RXN']\n",
    "rxns=[]\n",
    "for i in rxn_i:\n",
    "    rxn_o=df_core['Reactions'][df_core['id']==i]\n",
    "    rxns.append(rxn_o)\n",
    "print(rxns[0:])"
   ]
  },
  {
   "cell_type": "markdown",
   "metadata": {},
   "source": [
    " ## Query a reaction from the core metabolic model (metacyc to rhea)"
   ]
  },
  {
   "cell_type": "code",
   "execution_count": 317,
   "metadata": {},
   "outputs": [
    {
     "name": "stdout",
     "output_type": "stream",
     "text": [
      "['PLASTOQUINOL--PLASTOCYANIN-REDUCTASE-RXN', '1.18.1.2-RXN', 'PYRUVDEH-RXN']\n",
      "      EC number\n",
      "0  EC:1.2.1.104\n"
     ]
    }
   ],
   "source": [
    "## use RIBULOSE_BISPHOSPHATE_CARBOXYLASE_RXN_p for example\n",
    "#s=(\"yourreaction\").split(\"_p\",1)[0] ## remove the compartment name, then convert underscore to hyphen\n",
    "#s1=s.replace('_','-')\n",
    "\n",
    "## use a aracyc/metacyc reaction id\n",
    "s1=rxn_i=['PLASTOQUINOL--PLASTOCYANIN-REDUCTASE-RXN','1.18.1.2-RXN','PYRUVDEH-RXN']\n",
    " ## use RIBULOSE-BISPHOSPHATE-CARBOXYLASE-RXN for example\n",
    "print(s1)\n",
    "ec = r.search(s1[2],columns='ec')\n",
    "print(ec)"
   ]
  },
  {
   "cell_type": "markdown",
   "metadata": {},
   "source": [
    " ## Include the details about the reactions to search"
   ]
  },
  {
   "cell_type": "code",
   "execution_count": 304,
   "metadata": {},
   "outputs": [
    {
     "ename": "KeyError",
     "evalue": "0",
     "output_type": "error",
     "traceback": [
      "\u001b[0;31m---------------------------------------------------------------------------\u001b[0m",
      "\u001b[0;31mKeyError\u001b[0m                                  Traceback (most recent call last)",
      "File \u001b[0;32m~/PycharmProjects/pythonProject_1/.venv/lib/python3.8/site-packages/pandas/core/indexes/base.py:3653\u001b[0m, in \u001b[0;36mIndex.get_loc\u001b[0;34m(self, key)\u001b[0m\n\u001b[1;32m   3652\u001b[0m \u001b[39mtry\u001b[39;00m:\n\u001b[0;32m-> 3653\u001b[0m     \u001b[39mreturn\u001b[39;00m \u001b[39mself\u001b[39;49m\u001b[39m.\u001b[39;49m_engine\u001b[39m.\u001b[39;49mget_loc(casted_key)\n\u001b[1;32m   3654\u001b[0m \u001b[39mexcept\u001b[39;00m \u001b[39mKeyError\u001b[39;00m \u001b[39mas\u001b[39;00m err:\n",
      "File \u001b[0;32m~/PycharmProjects/pythonProject_1/.venv/lib/python3.8/site-packages/pandas/_libs/index.pyx:147\u001b[0m, in \u001b[0;36mpandas._libs.index.IndexEngine.get_loc\u001b[0;34m()\u001b[0m\n",
      "File \u001b[0;32m~/PycharmProjects/pythonProject_1/.venv/lib/python3.8/site-packages/pandas/_libs/index.pyx:176\u001b[0m, in \u001b[0;36mpandas._libs.index.IndexEngine.get_loc\u001b[0;34m()\u001b[0m\n",
      "File \u001b[0;32mpandas/_libs/hashtable_class_helper.pxi:7080\u001b[0m, in \u001b[0;36mpandas._libs.hashtable.PyObjectHashTable.get_item\u001b[0;34m()\u001b[0m\n",
      "File \u001b[0;32mpandas/_libs/hashtable_class_helper.pxi:7088\u001b[0m, in \u001b[0;36mpandas._libs.hashtable.PyObjectHashTable.get_item\u001b[0;34m()\u001b[0m\n",
      "\u001b[0;31mKeyError\u001b[0m: 0",
      "\nThe above exception was the direct cause of the following exception:\n",
      "\u001b[0;31mKeyError\u001b[0m                                  Traceback (most recent call last)",
      "Cell \u001b[0;32mIn[304], line 5\u001b[0m\n\u001b[1;32m      2\u001b[0m \u001b[39mfor\u001b[39;00m j \u001b[39min\u001b[39;00m s1:\n\u001b[1;32m      3\u001b[0m     \u001b[39m#print(j)\u001b[39;00m\n\u001b[1;32m      4\u001b[0m     ec \u001b[39m=\u001b[39m r\u001b[39m.\u001b[39msearch(j,columns\u001b[39m=\u001b[39m\u001b[39m'\u001b[39m\u001b[39mec\u001b[39m\u001b[39m'\u001b[39m)\n\u001b[0;32m----> 5\u001b[0m     \u001b[39mprint\u001b[39m(ec[\u001b[39m0\u001b[39;49m])\n\u001b[1;32m      6\u001b[0m     \u001b[39m#ec_list.append(ec)\u001b[39;00m\n\u001b[1;32m      7\u001b[0m \u001b[39m#print(ec_list)\u001b[39;00m\n",
      "File \u001b[0;32m~/PycharmProjects/pythonProject_1/.venv/lib/python3.8/site-packages/pandas/core/frame.py:3761\u001b[0m, in \u001b[0;36mDataFrame.__getitem__\u001b[0;34m(self, key)\u001b[0m\n\u001b[1;32m   3759\u001b[0m \u001b[39mif\u001b[39;00m \u001b[39mself\u001b[39m\u001b[39m.\u001b[39mcolumns\u001b[39m.\u001b[39mnlevels \u001b[39m>\u001b[39m \u001b[39m1\u001b[39m:\n\u001b[1;32m   3760\u001b[0m     \u001b[39mreturn\u001b[39;00m \u001b[39mself\u001b[39m\u001b[39m.\u001b[39m_getitem_multilevel(key)\n\u001b[0;32m-> 3761\u001b[0m indexer \u001b[39m=\u001b[39m \u001b[39mself\u001b[39;49m\u001b[39m.\u001b[39;49mcolumns\u001b[39m.\u001b[39;49mget_loc(key)\n\u001b[1;32m   3762\u001b[0m \u001b[39mif\u001b[39;00m is_integer(indexer):\n\u001b[1;32m   3763\u001b[0m     indexer \u001b[39m=\u001b[39m [indexer]\n",
      "File \u001b[0;32m~/PycharmProjects/pythonProject_1/.venv/lib/python3.8/site-packages/pandas/core/indexes/base.py:3655\u001b[0m, in \u001b[0;36mIndex.get_loc\u001b[0;34m(self, key)\u001b[0m\n\u001b[1;32m   3653\u001b[0m     \u001b[39mreturn\u001b[39;00m \u001b[39mself\u001b[39m\u001b[39m.\u001b[39m_engine\u001b[39m.\u001b[39mget_loc(casted_key)\n\u001b[1;32m   3654\u001b[0m \u001b[39mexcept\u001b[39;00m \u001b[39mKeyError\u001b[39;00m \u001b[39mas\u001b[39;00m err:\n\u001b[0;32m-> 3655\u001b[0m     \u001b[39mraise\u001b[39;00m \u001b[39mKeyError\u001b[39;00m(key) \u001b[39mfrom\u001b[39;00m\u001b[39m \u001b[39m\u001b[39merr\u001b[39;00m\n\u001b[1;32m   3656\u001b[0m \u001b[39mexcept\u001b[39;00m \u001b[39mTypeError\u001b[39;00m:\n\u001b[1;32m   3657\u001b[0m     \u001b[39m# If we have a listlike key, _check_indexing_error will raise\u001b[39;00m\n\u001b[1;32m   3658\u001b[0m     \u001b[39m#  InvalidIndexError. Otherwise we fall through and re-raise\u001b[39;00m\n\u001b[1;32m   3659\u001b[0m     \u001b[39m#  the TypeError.\u001b[39;00m\n\u001b[1;32m   3660\u001b[0m     \u001b[39mself\u001b[39m\u001b[39m.\u001b[39m_check_indexing_error(key)\n",
      "\u001b[0;31mKeyError\u001b[0m: 0"
     ]
    }
   ],
   "source": [
    "ec_list=[]\n",
    "for j in s1:\n",
    "    #print(j)\n",
    "    ec = r.search(j,columns='ec')\n",
    "    print(ec)\n",
    "    #ec_list.append(ec)\n",
    "#print(ec_list)"
   ]
  },
  {
   "cell_type": "code",
   "execution_count": 298,
   "metadata": {},
   "outputs": [
    {
     "name": "stdout",
     "output_type": "stream",
     "text": [
      "EC:7.1.1.6\n",
      "EC:2.6.1.50\n",
      "EC:1.2.1.104\n"
     ]
    }
   ],
   "source": [
    "for kt in ec_list:\n",
    "    print(kt['EC number'][0])\n",
    "    #res=k.get(kt['EC number'][0].split(':')[1])\n",
    "    #print(res[res.find('ATH:'):res.find('ATH:')+20])\n",
    "    "
   ]
  },
  {
   "cell_type": "code",
   "execution_count": 56,
   "metadata": {},
   "outputs": [
    {
     "ename": "TypeError",
     "evalue": "split() takes from 1 to 2 positional arguments but 3 positional arguments (and 1 keyword-only argument) were given",
     "output_type": "error",
     "traceback": [
      "\u001b[0;31m---------------------------------------------------------------------------\u001b[0m",
      "\u001b[0;31mTypeError\u001b[0m                                 Traceback (most recent call last)",
      "Cell \u001b[0;32mIn[56], line 1\u001b[0m\n\u001b[0;32m----> 1\u001b[0m res \u001b[39m=\u001b[39m k\u001b[39m.\u001b[39mget(df[\u001b[39m'\u001b[39;49m\u001b[39mEC number\u001b[39;49m\u001b[39m'\u001b[39;49m]\u001b[39m.\u001b[39;49mstr\u001b[39m.\u001b[39;49msplit(\u001b[39m'\u001b[39;49m\u001b[39m:\u001b[39;49m\u001b[39m'\u001b[39;49m,\u001b[39m0\u001b[39;49m,expand\u001b[39m=\u001b[39;49m\u001b[39mTrue\u001b[39;49;00m)[\u001b[39m0\u001b[39m]) \u001b[39m# use ec number 4.1.1.19 for example\u001b[39;00m\n\u001b[1;32m      2\u001b[0m \u001b[39mprint\u001b[39m(res)\n",
      "File \u001b[0;32m~/PycharmProjects/pythonProject_1/.venv/lib/python3.8/site-packages/pandas/core/strings/accessor.py:129\u001b[0m, in \u001b[0;36mforbid_nonstring_types.<locals>._forbid_nonstring_types.<locals>.wrapper\u001b[0;34m(self, *args, **kwargs)\u001b[0m\n\u001b[1;32m    124\u001b[0m     msg \u001b[39m=\u001b[39m (\n\u001b[1;32m    125\u001b[0m         \u001b[39mf\u001b[39m\u001b[39m\"\u001b[39m\u001b[39mCannot use .str.\u001b[39m\u001b[39m{\u001b[39;00mfunc_name\u001b[39m}\u001b[39;00m\u001b[39m with values of \u001b[39m\u001b[39m\"\u001b[39m\n\u001b[1;32m    126\u001b[0m         \u001b[39mf\u001b[39m\u001b[39m\"\u001b[39m\u001b[39minferred dtype \u001b[39m\u001b[39m'\u001b[39m\u001b[39m{\u001b[39;00m\u001b[39mself\u001b[39m\u001b[39m.\u001b[39m_inferred_dtype\u001b[39m}\u001b[39;00m\u001b[39m'\u001b[39m\u001b[39m.\u001b[39m\u001b[39m\"\u001b[39m\n\u001b[1;32m    127\u001b[0m     )\n\u001b[1;32m    128\u001b[0m     \u001b[39mraise\u001b[39;00m \u001b[39mTypeError\u001b[39;00m(msg)\n\u001b[0;32m--> 129\u001b[0m \u001b[39mreturn\u001b[39;00m func(\u001b[39mself\u001b[39;49m, \u001b[39m*\u001b[39;49margs, \u001b[39m*\u001b[39;49m\u001b[39m*\u001b[39;49mkwargs)\n",
      "\u001b[0;31mTypeError\u001b[0m: split() takes from 1 to 2 positional arguments but 3 positional arguments (and 1 keyword-only argument) were given"
     ]
    }
   ],
   "source": [
    "res = k.get(df['EC number'].str.split(':',0,expand=True)[0]) # use ec number 4.1.1.19 for example\n",
    "print(res)"
   ]
  },
  {
   "cell_type": "markdown",
   "metadata": {},
   "source": [
    "## Use Rhea to get all the possible information of core model reactions"
   ]
  },
  {
   "cell_type": "code",
   "execution_count": 315,
   "metadata": {},
   "outputs": [
    {
     "name": "stdout",
     "output_type": "stream",
     "text": [
      "0        EC:2.6.1.50\n",
      "1        EC:6.3.5.10\n",
      "2        EC:2.3.2.14\n",
      "3       EC:1.13.11.8\n",
      "4        EC:4.1.1.55\n",
      "           ...      \n",
      "197      EC:4.1.3.27\n",
      "198    EC:1.14.14.18\n",
      "199      EC:2.3.1.14\n",
      "200      EC:4.1.1.63\n",
      "201       EC:3.5.3.3\n",
      "Name: EC number, Length: 202, dtype: object\n"
     ]
    }
   ],
   "source": [
    "## use a proper aracyc/metacyc reaction id\n",
    "df_new = r.query(s1[1]) ## use PROLINE--TRNA-LIGASE-RXN for example\n",
    "print(df_new['EC number'])\n",
    "#df_new.to_csv('')"
   ]
  },
  {
   "cell_type": "markdown",
   "metadata": {},
   "source": [
    "## Connection to CheBI - to get metabolite information"
   ]
  },
  {
   "cell_type": "code",
   "execution_count": null,
   "metadata": {},
   "outputs": [],
   "source": [
    "met_all=df_new['ChEBI identifier'][0] ## get the list of chebi ids\n",
    "mets=met_all.split(';',)\n",
    "print(mets)\n",
    "mets_names=df_new['ChEBI name'][0].split(';',) ## get the list of metabolite names\n",
    "print(mets_names)"
   ]
  },
  {
   "cell_type": "markdown",
   "metadata": {},
   "source": [
    "## Extract information about the metabolites charge and formula in the reactions using Chebi database"
   ]
  },
  {
   "cell_type": "code",
   "execution_count": null,
   "metadata": {},
   "outputs": [],
   "source": [
    "from bioservices import ChEBI\n",
    "c = ChEBI()"
   ]
  },
  {
   "cell_type": "markdown",
   "metadata": {},
   "source": [
    "##  Extract metabolites information"
   ]
  },
  {
   "cell_type": "code",
   "execution_count": null,
   "metadata": {},
   "outputs": [],
   "source": [
    "for i in np.arange(len(mets)):\n",
    "     print(mets_names[i])\n",
    "     print(c.getCompleteEntity(mets[i]).Formulae)\n",
    "     print(c.getCompleteEntity(mets[i]).charge)\n"
   ]
  },
  {
   "cell_type": "code",
   "execution_count": null,
   "metadata": {},
   "outputs": [],
   "source": []
  }
 ],
 "metadata": {
  "kernelspec": {
   "display_name": "Python 3",
   "language": "python",
   "name": "python3"
  },
  "language_info": {
   "codemirror_mode": {
    "name": "ipython",
    "version": 3
   },
   "file_extension": ".py",
   "mimetype": "text/x-python",
   "name": "python",
   "nbconvert_exporter": "python",
   "pygments_lexer": "ipython3",
   "version": "3.8.8"
  }
 },
 "nbformat": 4,
 "nbformat_minor": 2
}
