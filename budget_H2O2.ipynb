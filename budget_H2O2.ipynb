{
 "cells": [
  {
   "cell_type": "code",
   "execution_count": 1,
   "metadata": {},
   "outputs": [],
   "source": [
    "from __future__ import division, print_function, absolute_import\n",
    "import csv\n",
    "import pandas\n",
    "from cobra.flux_analysis import (\n",
    "    single_gene_deletion, single_reaction_deletion, double_gene_deletion,\n",
    "    double_reaction_deletion)\n",
    "import os\n",
    "import xml.etree.ElementTree as etree\n",
    "import cobra\n",
    "import numpy as np\n",
    "from itertools import chain\n",
    "from cobra.util import solver as sutil\n",
    "from cobra.core.solution import get_solution\n",
    "from optlang.symbolics import add, Zero\n",
    "import pandas as pd\n",
    "import os\n",
    "from os.path import join\n",
    "import matplotlib.pyplot as plt\n",
    "from cobra.medium import minimal_medium\n",
    "# Press ⌃R to execute it or replace it with your code.\n",
    "# Press Double ⇧ to search everywhere for classes, files, tool windows, actions, and settings.\n",
    "from cobra.flux_analysis import production_envelope\n",
    "from cobra import Model, Reaction, Metabolite\n",
    "from cobra.flux_analysis import flux_variability_analysis\n",
    "import matplotlib.pyplot as plt\n",
    "from cobra.io import load_json_model, save_json_model, load_matlab_model, save_matlab_model, read_sbml_model, write_sbml_model\n",
    "import math"
   ]
  },
  {
   "cell_type": "code",
   "execution_count": 2,
   "metadata": {},
   "outputs": [],
   "source": [
    "## pareto\n",
    "objective1={''}\n",
    "objective2={''}\n",
    "pareto_range = (0.0, 1.001)  # for some reason you need to pick a number higher than 1).\n",
    "pareto_step_size = 0.01\n",
    "analysis_type = 'pareto'\n",
    "metric = 'manhattan'\n",
    "rxn2avoid = {''}\n",
    "primary=[]\n",
    "solver='gurobi'\n",
    "constants = {'deltaC_CO2': 0.0055, 'D_H2O_0': 2.13E-05, 'D_CO2_0': 1.33E-05, 'mid_day': 6, 'deltaT': 2,\n",
    "             'FeasTol': 1e-03, 'OptTol': 1e-03}\n",
    "def pareto_analysis(model, objective1=objective1, objective2=objective2, pareto_range=pareto_range, metric=metric,primary=primary):\n",
    "    reaction_obj1 = model.reactions.get_by_id(objective1)\n",
    "    reaction_obj2 = model.reactions.get_by_id(objective2)\n",
    "    result_list = []\n",
    "    solution_primary=[]\n",
    "    model.objective = {}\n",
    "    reaction_obj1.objective_coefficient = 1\n",
    "    solution = model.optimize()\n",
    "    print(\"\\nSolving model (FBA) for determining objective 1 flux...\")\n",
    "    max_obj1 = dict(solution.fluxes)[objective1]\n",
    "    print(\"Max {0}: {1}\".format(objective1, max_obj1))\n",
    "    # change objective\n",
    "    reaction_obj1.objective_coefficient = 0\n",
    "    reaction_obj2.objective_coefficient = 1\n",
    "    print(\"\\nSolving all iterations for Pareto frontier (FBA)...\")\n",
    "    for pareto in np.arange(pareto_range[0], pareto_range[1], pareto_step_size):\n",
    "        if pareto == 1:\n",
    "            reaction_obj1.lower_bound = max_obj1 * pareto  # * 0.999 # we need to add a bit of slack as the quadratic optimization is less accurate than the linear couterpart\n",
    "        else:\n",
    "            reaction_obj1.lower_bound = max_obj1 * pareto  # * 0.9999\n",
    "        sol = model.optimize(objective_sense='maximize')\n",
    "        # fix this minimal water loss value\n",
    "        reaction_obj2.bounds = (sol.get_primal_by_id(objective2), sol.get_primal_by_id(objective2))\n",
    "        if metric == 'manhattan':\n",
    "            solution = cobra.flux_analysis.pfba(model)\n",
    "            primary_dark=[]\n",
    "            for i in model.reactions:\n",
    "                primary_dark.append(i.id)\n",
    "            solution_primary.append(solution.fluxes[primary_dark])\n",
    "            reaction_obj2.bounds = (0, 1000.0)\n",
    "        elif metric == 'euclidean':\n",
    "\n",
    "            # make copy because that is easier that reverting all the solver settings\n",
    "            copy_model = model.copy()\n",
    "            model.solver = solver\n",
    "\n",
    "            FeasTol = float(constants['FeasTol'])\n",
    "            OptTol = float(constants['OptTol'])\n",
    "\n",
    "            copy_model.solver.configuration.tolerances.feasibility = FeasTol\n",
    "            copy_model.solver.configuration.tolerances.optimality = OptTol\n",
    "\n",
    "            rxnlist = [r for r in copy_model.reactions if r.id not in rxn2avoid]\n",
    "\n",
    "            obj_vars = chain.from_iterable([r.flux_expression ** 2] for r in rxnlist)\n",
    "            copy_model.objective = copy_model.problem.Objective(add(obj_vars), direction='min')\n",
    "\n",
    "            print('\\nSolving quadratic minimisation of sum of fluxes')\n",
    "            #print(solver)\n",
    "            solution = copy_model.optimize(objective_sense=None)\n",
    "            #result_list.append([pareto, solution[objective1], solution[objective2]])\n",
    "        reaction_obj2.bounds = (0, 1000.0)\n",
    "    #return result_list\n",
    "    return solution_primary"
   ]
  },
  {
   "cell_type": "code",
   "execution_count": 3,
   "metadata": {},
   "outputs": [
    {
     "name": "stdout",
     "output_type": "stream",
     "text": [
      "Set parameter Username\n",
      "Set parameter LicenseID to value 2586499\n",
      "Academic license - for non-commercial use only - expires 2025-11-18\n"
     ]
    }
   ],
   "source": [
    "## Plots\n",
    "#model = cobra.io.load_matlab_model(join('/home/subasree/Desktop/Models_to_work/alpha_day_DM.mat'))\n",
    "model_rs = cobra.io.load_matlab_model(join('alpha_day_RS_DM.mat'))\n",
    "core_model=model_rs\n"
   ]
  },
  {
   "cell_type": "code",
   "execution_count": 4,
   "metadata": {},
   "outputs": [
    {
     "data": {
      "text/plain": [
       "[<Reaction H2O2_n_demand at 0x7e848e937070>]"
      ]
     },
     "execution_count": 4,
     "metadata": {},
     "output_type": "execute_result"
    }
   ],
   "source": [
    "list(core_model.reactions.query('H2O2_n_demand'))"
   ]
  },
  {
   "cell_type": "code",
   "execution_count": 5,
   "metadata": {},
   "outputs": [],
   "source": [
    "##Constraints\n",
    "rubisco = core_model.problem.Constraint(1 * core_model.reactions.get_by_id(\"RXN_961_p\").flux_expression - core_model.reactions.get_by_id(\"RIBULOSE_BISPHOSPHATE_CARBOXYLASE_RXN_p\").flux_expression,lb=0, ub=0,)\n",
    "core_model.add_cons_vars([rubisco])\n",
    "\n",
    "atp_nadph_03 = core_model.problem.Constraint(3 * (core_model.reactions.get_by_id(\"NADPHoxm_tx\").flux_expression + core_model.reactions.get_by_id(\"NADPHoxc_tx\").flux_expression + core_model.reactions.get_by_id(\"NADPHoxp_tx\").flux_expression) - core_model.reactions.get_by_id(\"ATPase_tx\").flux_expression, lb=0, ub=0)\n",
    "core_model.add_cons_vars(atp_nadph_03)"
   ]
  },
  {
   "cell_type": "code",
   "execution_count": 6,
   "metadata": {},
   "outputs": [
    {
     "name": "stdout",
     "output_type": "stream",
     "text": [
      "\n",
      "Solving model (FBA) for determining objective 1 flux...\n",
      "Max DM_HYDROGEN_PEROXIDE_cell: 150.0\n",
      "\n",
      "Solving all iterations for Pareto frontier (FBA)...\n"
     ]
    }
   ],
   "source": [
    "## plot pareto plot\n",
    "objective1 =  'DM_HYDROGEN_PEROXIDE_cell' #ho2_rad_p_demand AraCore_Biomass_tx DM_HS_cell DM_CPD0-1395_cell'DM_SUPER_OXIDE_cell'#'DM_NITRIC-OXIDE_cell'#'DM_CPD-12377_cell'#'DM_HYDROGEN_PEROXIDE_cell'\n",
    "objective2 =  'AraCore_Biomass_tx'\n",
    "solution_primary=pareto_analysis(core_model, objective1 = objective1, objective2=objective2, pareto_range = pareto_range, metric = metric)\n",
    "#pd.DataFrame(result_list).to_excel('results.xlsx')\n"
   ]
  },
  {
   "cell_type": "code",
   "execution_count": 15,
   "metadata": {},
   "outputs": [],
   "source": [
    "data=pd.DataFrame(solution_primary)\n",
    "data_t=data.T\n",
    "solution_frame=pd.DataFrame(data_t.iloc[:,100])\n",
    "solution_frame.columns=['fluxes']"
   ]
  },
  {
   "cell_type": "code",
   "execution_count": 16,
   "metadata": {},
   "outputs": [
    {
     "name": "stdout",
     "output_type": "stream",
     "text": [
      "                   flux           reaction  percent\n",
      "A_B_oxidation_x     0.0    A_B_oxidation_x      NaN\n",
      "Beta_Oxidation_x    0.0   Beta_Oxidation_x      NaN\n",
      "RS_Plant_CAO_X      0.0     RS_Plant_CAO_X      NaN\n",
      "RS_Plant_MSOX_X     0.0    RS_Plant_MSOX_X      NaN\n",
      "RS_Plant_PIPOX__X   0.0  RS_Plant_PIPOX__X      NaN\n",
      "RS_Plant_SOD_X      0.0     RS_Plant_SOD_X      NaN\n",
      "RS_Plant_URIC_X     0.0    RS_Plant_URIC_X      NaN\n",
      "RS_SUOX_X           0.0          RS_SUOX_X      NaN\n",
      "RXN_969_x           0.0          RXN_969_x      NaN\n",
      "                flux       reaction  percent\n",
      "H2O2_n_demand  150.0  H2O2_n_demand      1.0\n"
     ]
    }
   ],
   "source": [
    "#Creating an empty dataframe\n",
    "df_p = []\n",
    "df_c = []\n",
    "\n",
    "## H2O2\n",
    "budget_metabolites=[\"HYDROGEN_PEROXIDE_c\",\"HYDROGEN_PEROXIDE_m\",\"HYDROGEN_PEROXIDE_p\",\"HYDROGEN_PEROXIDE_x\",\"HYDROGEN_PEROXIDE_v\",\"HYDROGEN_PEROXIDE_e\",\"HYDROGEN_PEROXIDE_g\",\"HYDROGEN_PEROXIDE_cell\"]\n",
    "compartment = [\"_c\", \"_m\", \"_p\", \"_x\",\"_v\",\"_e\",\"_g\",\"_cell\"]\n",
    "\n",
    "budget_metabolites=[\"HYDROGEN_PEROXIDE_x\",\"HYDROGEN_PEROXIDE_cell\"]\n",
    "compartment = [\"_x\", \"_cell\"]\n",
    "\n",
    "#budget_metabolites=[\"SUPER_OXIDE_c\",\"SUPER_OXIDE_m\",\"SUPER_OXIDE_p\",\"SUPER_OXIDE_x\",\"SUPER_OXIDE_v\",\"SUPER_OXIDE_e\",\"SUPER_OXIDE_cell\",\"SUPER_OXIDE_n\"]\n",
    "#compartment = [\"_c\", \"_m\", \"_p\", \"_x\",\"_v\",\"_e\",\"_cell\",\"_g\"]\n",
    "\n",
    "c3_model=core_model\n",
    "for (a,com) in zip(budget_metabolites,compartment):\n",
    "    i = c3_model.metabolites.get_by_id(a).summary()\n",
    "    p = i.producing_flux\n",
    "    c = i.consuming_flux\n",
    "\n",
    "# Retrieving the reactions using pandas and filtering the transport reactions\n",
    "    producer = p#.loc[:,\"reaction\"].str.endswith(com) \n",
    "    print(producer)\n",
    "    df_p.append(producer)\n",
    "    producer_df = pd.concat(df_p)\n",
    "        \n",
    "# Retrieving the reactions using pandas\n",
    "    consumer = c#.loc[:,\"reaction\"].str.endswith(com)\n",
    "    df_c.append(consumer)\n",
    "    consumer_df = pd.concat(df_c)\n",
    "consumers=list(consumer_df['reaction'])\n",
    "producers=list(producer_df.index)"
   ]
  },
  {
   "cell_type": "code",
   "execution_count": 17,
   "metadata": {},
   "outputs": [],
   "source": [
    "def budget_plot(solution_frame, producers, consumers):\n",
    "    \n",
    "    #Get flux values from the simulation for metabolite consuming/producing reactions\n",
    "    producers_df = solution_frame.loc[producers,:]\n",
    "    consumers_df = solution_frame.loc[consumers,:]\n",
    "\n",
    "    #Get values with negative flows: producing reactions with negative flow are consuming and vice-versa\n",
    "    negative_producers = list(producers_df[producers_df[\"fluxes\"] < 0].index)\n",
    "    negative_consumers = list(consumers_df[consumers_df[\"fluxes\"] < 0].index)\n",
    "\n",
    "\n",
    "    #Add reactions to correct list\n",
    "    consumers.extend(negative_producers)\n",
    "    producers.extend(negative_consumers)\n",
    "\n",
    "    #Remove reactions with negative flux from old list\n",
    "    def remove_items(test_list, item):\n",
    "        res = [i for i in test_list if i != item]\n",
    "        return res\n",
    "\n",
    "    for item in negative_producers:\n",
    "        producers = remove_items(producers, item)\n",
    "\n",
    "    for item in negative_consumers:\n",
    "        consumers = remove_items(consumers, item)\n",
    "\n",
    "    \"\"\"\n",
    "    Get producing reactions and fluxes\n",
    "    \"\"\"\n",
    "\n",
    "    #Get flux values from the simulation for metabolite consuming/producing reactions (correct list)\n",
    "    producers_df = solution_frame.loc[producers,:]\n",
    "    #Make all values positive (disregard directionality)\n",
    "    print(producers_df)\n",
    "    producers_df[\"fluxes\"] = producers_df[\"fluxes\"].abs()\n",
    "    #Remove reactions with zero flux\n",
    "    producers_df = producers_df[(producers_df.T != 0).all()]\n",
    "    producers_df\n",
    "\n",
    "\n",
    "    \"\"\"\n",
    "    Get consuming reactions and fluxes\n",
    "    \"\"\"\n",
    "\n",
    "    #Get flux values from the simulation for metabolite consuming/producing reactions (correct list)\n",
    "    consumers_df = solution_frame.loc[consumers,:]\n",
    "    print(consumers_df)\n",
    "    #Make all values positive (disregard directionality)\n",
    "    consumers_df[\"fluxes\"]  = consumers_df[\"fluxes\"].abs()\n",
    "    #Remove reactions with zero flux3_P_SERINE_\n",
    "    consumers_df = consumers_df[(consumers_df.T != 0).all()]\n",
    "    consumers_df\n",
    "\n",
    "    \"\"\"\n",
    "    Concatenate producer and consumer dataframes\n",
    "    \"\"\"\n",
    "\n",
    "    producers_df[\"Status\"] = \"Producer\"\n",
    "    consumers_df[\"Status\"] = \"Consumer\"\n",
    "\n",
    "    frame = [producers_df, consumers_df]\n",
    "\n",
    "    all_reactions = pd.concat(frame)\n",
    "\n",
    "    all_reactions[\"label\"] = all_reactions.index\n",
    "    print(all_reactions)\n",
    "    #Export full dataframe to csv\n",
    "    #all_reactions.to_csv(\"budget_plot.csv\", header=True)\n",
    "\n",
    "    #Correct Budget stoichiometry\n",
    "    met_stoi=[]\n",
    "    for i in all_reactions['label']:\n",
    "        for met in budget_metabolites:\n",
    "            try:\n",
    "                rxn=c3_model.reactions.get_by_id(i).get_coefficient(met)\n",
    "                met_stoi.append(abs(rxn))\n",
    "            except KeyError:\n",
    "                continue\n",
    "\n",
    "    new_flux = all_reactions[\"fluxes\"] * met_stoi\n",
    "\n",
    "    all_reactions.insert(3,'coefficient', met_stoi)\n",
    "    all_reactions.insert(4,'new_flux', new_flux)\n",
    "\n",
    "    \"\"\"\n",
    "    Fluxes in consumption and production should be equal\n",
    "    \"\"\"\n",
    "\n",
    "    #Sum the flux values\n",
    "    print(\"Sum of fluxes: {}\".format(all_reactions.groupby([\"Status\"]).new_flux.sum()))\n",
    "\n",
    "    \"\"\"\n",
    "    Pick the colors - using random\n",
    "    \"\"\"\n",
    "\n",
    "    import random\n",
    "    import matplotlib.pyplot as plt\n",
    "\n",
    "\n",
    "    #Defining the nº of colors\n",
    "    number_of_colors = len(all_reactions.index)\n",
    "\n",
    "    #Getting a list of colors\n",
    "    random.seed(177)\n",
    "    color = [\"#\"+''.join([random.choice('0123456789ABCDEF') for j in range(6)])\n",
    "                for i in range(number_of_colors)]\n",
    "\n",
    "    #Getting list of reactions\n",
    "    reaction_list = list(all_reactions.index)\n",
    "\n",
    "    #Build color dictionary\n",
    "    color_dict = {}\n",
    "    for i in range(len(reaction_list)):\n",
    "        color_dict[reaction_list[i]] = color[i]\n",
    "\n",
    "    \"\"\"\n",
    "    Plot the pivot table and barplot\n",
    "    \"\"\"\n",
    "    fig = plt.figure()\n",
    "    plt.style.use('fast')\n",
    "\n",
    "    chart = all_reactions.pivot_table(index=\"Status\", columns=\"label\", values=\"new_flux\")\n",
    "    chart.plot.bar(rot = 0, stacked = True, legend = True, ylabel = \"Flux\", color = color_dict)\n",
    "    plt.legend(loc='best', bbox_to_anchor=(1.0, 0.5, 0.5, 0.5), ncol = 2)\n",
    "    #plt.title(\"Platoquinone Turnover in the Bundle Sheath Cell\")\n",
    "    figsize = [15, 20] #To prevent the cropping of the image\n",
    "    fig.set_size_inches(w=100,h=70)\n",
    "    fig.tight_layout()\n",
    "    #plt.savefig('full_max_o2s.pdf')\n",
    "    plt.show()\n",
    "    chart\n",
    "\n"
   ]
  },
  {
   "cell_type": "code",
   "execution_count": 18,
   "metadata": {},
   "outputs": [
    {
     "name": "stdout",
     "output_type": "stream",
     "text": [
      "                   fluxes\n",
      "A_B_oxidation_x       0.0\n",
      "Beta_Oxidation_x      0.0\n",
      "RS_Plant_CAO_X        0.0\n",
      "RS_Plant_MSOX_X       0.0\n",
      "RS_Plant_PIPOX__X     0.0\n",
      "RS_Plant_SOD_X        0.0\n",
      "RS_Plant_URIC_X       0.0\n",
      "RS_SUOX_X             0.0\n",
      "RXN_969_x             0.0\n",
      "H2O2_n_demand       150.0\n",
      "                           fluxes\n",
      "CATAL_RXN_x                   0.0\n",
      "H2O2_x_demand                 0.0\n",
      "RS_25_X                       0.0\n",
      "RS_Plant_1_X                  0.0\n",
      "RS_Plant_APX_X                0.0\n",
      "DM_HYDROGEN_PEROXIDE_cell   150.0\n",
      "                           fluxes    Status                      label\n",
      "H2O2_n_demand               150.0  Producer              H2O2_n_demand\n",
      "DM_HYDROGEN_PEROXIDE_cell   150.0  Consumer  DM_HYDROGEN_PEROXIDE_cell\n",
      "Sum of fluxes: Status\n",
      "Consumer    150.0\n",
      "Producer    150.0\n",
      "Name: new_flux, dtype: float64\n"
     ]
    },
    {
     "data": {
      "text/plain": [
       "<Figure size 10000x7000 with 0 Axes>"
      ]
     },
     "metadata": {},
     "output_type": "display_data"
    },
    {
     "data": {
      "image/png": "[encoded data removed]",
      "text/plain": [
       "<Figure size 640x480 with 1 Axes>"
      ]
     },
     "metadata": {},
     "output_type": "display_data"
    }
   ],
   "source": [
    "final_budget=budget_plot(solution_frame, producers, consumers)"
   ]
  }
 ],
 "metadata": {
  "kernelspec": {
   "display_name": "Python 3",
   "language": "python",
   "name": "python3"
  },
  "language_info": {
   "codemirror_mode": {
    "name": "ipython",
    "version": 3
   },
   "file_extension": ".py",
   "mimetype": "text/x-python",
   "name": "python",
   "nbconvert_exporter": "python",
   "pygments_lexer": "ipython3",
   "version": "3.10.12"
  },
  "orig_nbformat": 4
 },
 "nbformat": 4,
 "nbformat_minor": 2
}
