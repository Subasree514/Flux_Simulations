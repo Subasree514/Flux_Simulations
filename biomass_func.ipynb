{
 "cells": [
  {
   "cell_type": "code",
   "execution_count": 1,
   "metadata": {},
   "outputs": [],
   "source": [
    "from __future__ import division, print_function, absolute_import\n",
    "import csv\n",
    "import pandas\n",
    "from cobra.flux_analysis import (\n",
    "    single_gene_deletion, single_reaction_deletion, double_gene_deletion,\n",
    "    double_reaction_deletion)\n",
    "import os\n",
    "import xml.etree.ElementTree as etree\n",
    "import cobra\n",
    "import numpy as np\n",
    "from itertools import chain\n",
    "from cobra.util import solver as sutil\n",
    "from cobra.core.solution import get_solution\n",
    "from optlang.symbolics import add, Zero\n",
    "import pandas as pd\n",
    "import os\n",
    "from os.path import join\n",
    "import matplotlib.pyplot as plt\n",
    "from cobra.medium import minimal_medium\n",
    "# Press ⌃R to execute it or replace it with your code.\n",
    "# Press Double ⇧ to search everywhere for classes, files, tool windows, actions, and settings.\n",
    "from cobra.flux_analysis import production_envelope\n",
    "from cobra import Model, Reaction, Metabolite\n",
    "from cobra.flux_analysis import flux_variability_analysis\n",
    "import matplotlib.pyplot as plt\n",
    "from cobra.io import load_json_model, save_json_model, load_matlab_model, save_matlab_model, read_sbml_model, write_sbml_model\n",
    "import math"
   ]
  },
  {
   "cell_type": "code",
   "execution_count": 33,
   "metadata": {},
   "outputs": [],
   "source": [
    "model_rs = read_sbml_model('beta_day_RS_DM.xml')\n",
    "core_model=model_rs"
   ]
  },
  {
   "cell_type": "code",
   "execution_count": 34,
   "metadata": {},
   "outputs": [],
   "source": [
    "a=[]\n",
    "a=core_model.reactions.get_by_id('AraCore_Biomass_tx').reactants\n"
   ]
  },
  {
   "cell_type": "code",
   "execution_count": 40,
   "metadata": {},
   "outputs": [
    {
     "data": {
      "text/html": [
       "<h3>AraCore_Biomass_tx</h3><p>0.0963597332263 4_AMINO_BUTYRATE_c + 0.88 CAII_v + 5.24035317082 CELLULOSE_c + 0.263720758392 CIT_c + 0.00569181000938 FUM_c + 0.348854342472 GLN_c + 0.31716192467 GLT_c + 0.35252680768 GLYCEROL_3P_c + 1.8 KI_v + 0.455157519671 L_ALPHA_ALANINE_c + 0.0936480692493 L_ASPARTATE_c + 0.429658909266 MAL_c + 0.58 MGII_v + 0.7711523918 PALMITATE_c + 0.737378316406 STARCH_p + 0.140570808172 SUCROSE_c + 0.0664569505509 SUC_c + 1.13494168432 XYLAN_c + 0.456109633051 pALA_c + 0.248708916305 pARG_c + 0.244231166515 pASN_c + 0.244231166515 pASP_c + 0.294390076845 pGLN_c + 0.294390076845 pGLU_c + 0.206565786551 pGLY_c + 0.0787758328997 pHIS_c + 0.164930826186 pILE_c + 0.359404209428 pLEU_c + 0.25644187977 pLYS_c + 0.108683911354 pMET_c + 0.237379330463 pPHE_c + 0.364526466737 pSER_c + 0.206565786551 pTHR_c + 0.165404065972 pTYR_c + 0.312041920884 pVAL_c --> </p><p>Bounds: 0.0, 1000.0</p><p>Flux: 0.3309</p>"
      ],
      "text/plain": [
       "<cobra.summary.reaction_summary.ReactionSummary at 0x185f1b260>"
      ]
     },
     "execution_count": 40,
     "metadata": {},
     "output_type": "execute_result"
    }
   ],
   "source": [
    "core_model.reactions.get_by_id('AraCore_Biomass_tx').summary()\n"
   ]
  },
  {
   "cell_type": "code",
   "execution_count": 36,
   "metadata": {},
   "outputs": [],
   "source": [
    "b=[]\n",
    "a=core_model.reactions.get_by_id('AraCore_Biomass_tx').metabolites\n",
    "for key in a:\n",
    "    b.append(a[key])"
   ]
  },
  {
   "cell_type": "code",
   "execution_count": 37,
   "metadata": {},
   "outputs": [],
   "source": [
    "c=[]\n",
    "for i in a:\n",
    "    #print(i)\n",
    "    c.append(core_model.metabolites.get_by_id(i.id).formula_weight)"
   ]
  },
  {
   "cell_type": "code",
   "execution_count": 38,
   "metadata": {},
   "outputs": [],
   "source": [
    "df=pd.DataFrame(b,dtype='float',index=list(a))\n",
    "df.columns=['s']\n",
    "df['for_weight']=c\n",
    "df['weight']=-1*df['for_weight']*df['s']"
   ]
  },
  {
   "cell_type": "code",
   "execution_count": 28,
   "metadata": {},
   "outputs": [
    {
     "data": {
      "text/plain": [
       "2296.582374595764"
      ]
     },
     "execution_count": 28,
     "metadata": {},
     "output_type": "execute_result"
    }
   ],
   "source": [
    "df['weight'].sum()"
   ]
  },
  {
   "cell_type": "code",
   "execution_count": 29,
   "metadata": {},
   "outputs": [
    {
     "data": {
      "text/plain": [
       "2.296582374595764"
      ]
     },
     "execution_count": 29,
     "metadata": {},
     "output_type": "execute_result"
    }
   ],
   "source": [
    "df['weight'].sum()/1000"
   ]
  },
  {
   "cell_type": "code",
   "execution_count": 41,
   "metadata": {},
   "outputs": [],
   "source": [
    "### For Arabidopsis biomass\n",
    "test_model=core_model\n",
    "reaction = Reaction('Arabidopsis_biomass_tx')\n",
    "reaction.name = 'Arabidopsis biomass'\n",
    "reaction.lower_bound = 0.  \n",
    "reaction.upper_bound = 1000.  \n",
    "\n",
    "df = pd.read_csv(\"/Users/subasrees/Desktop/core_model_test/Biomass_coefficients.csv\")\n",
    "\n",
    "#Get a list with the metabolite IDs from the generic model\n",
    "met_list = []\n",
    "\n",
    "for id in df.loc[:,\"Ids\"]:\n",
    "    met = test_model.metabolites.get_by_id(id)\n",
    "    met_list.append(met)\n",
    "\n",
    "#Create a list with the coefficients\n",
    "coef = list(df.loc[:,\"Arabidopsis\"])\n",
    "\n",
    "#Add metabolites to the model: dictionary - keys are metabolites and values are the coefficients\n",
    "for i in range(len(coef)):\n",
    "    reaction.add_metabolites({met_list[i]:coef[i]})\n",
    "\n",
    "#Add reaction to the model\n",
    "test_model.add_reactions([reaction])\n",
    "\n",
    "test_model.objective = \"Arabidopsis_biomass_tx\"\n",
    "test_model.reactions.remove('AraCore_Biomass_tx')"
   ]
  },
  {
   "cell_type": "code",
   "execution_count": 42,
   "metadata": {},
   "outputs": [
    {
     "data": {
      "text/plain": [
       "[<Metabolite STARCH_p at 0x184a591f0>,\n",
       " <Metabolite MALTOSE_c at 0x185ddc4a0>,\n",
       " <Metabolite GLC_c at 0x185eeeb10>,\n",
       " <Metabolite SUCROSE_c at 0x184a59580>,\n",
       " <Metabolite FRU_c at 0x185ee5010>,\n",
       " <Metabolite CELLULOSE_c at 0x185ee5100>,\n",
       " <Metabolite MAL_c at 0x185eedb50>,\n",
       " <Metabolite PALMITATE_c at 0x185ddd490>,\n",
       " <Metabolite GLN_c at 0x185eef0b0>,\n",
       " <Metabolite L_ASPARTATE_c at 0x1850750d0>,\n",
       " <Metabolite GLT_c at 0x185ee62a0>,\n",
       " <Metabolite ASN_c at 0x1857bddf0>,\n",
       " <Metabolite SER_c at 0x185eefc80>,\n",
       " <Metabolite CYS_c at 0x1857d8290>,\n",
       " <Metabolite THR_c at 0x184a49490>,\n",
       " <Metabolite GLY_c at 0x185ef08c0>,\n",
       " <Metabolite MET_c at 0x185eeebd0>,\n",
       " <Metabolite PRO_c at 0x185efd370>,\n",
       " <Metabolite CTP_p at 0x185ee7860>,\n",
       " <Metabolite GTP_c at 0x185ee4f20>,\n",
       " <Metabolite DATP_p at 0x185eea150>,\n",
       " <Metabolite DCTP_p at 0x185eea6c0>,\n",
       " <Metabolite DGTP_p at 0x185eea9c0>,\n",
       " <Metabolite DTTP_c at 0x185eeb620>,\n",
       " <Metabolite L_ALPHA_ALANINE_c at 0x185ef5d60>,\n",
       " <Metabolite ARG_c at 0x185076ae0>,\n",
       " <Metabolite LYS_c at 0x185ee5e80>,\n",
       " <Metabolite HIS_c at 0x185ef2090>,\n",
       " <Metabolite ILE_c at 0x185ef37d0>,\n",
       " <Metabolite LEU_c at 0x185eeef60>,\n",
       " <Metabolite PHE_c at 0x185998800>,\n",
       " <Metabolite TRP_c at 0x185ef7f50>,\n",
       " <Metabolite TYR_c at 0x184a4bc20>,\n",
       " <Metabolite VAL_c at 0x184a70fe0>]"
      ]
     },
     "execution_count": 42,
     "metadata": {},
     "output_type": "execute_result"
    }
   ],
   "source": [
    "core_model=test_model\n",
    "a=[]\n",
    "a=core_model.reactions.get_by_id('Arabidopsis_biomass_tx').reactants\n",
    "a"
   ]
  },
  {
   "cell_type": "code",
   "execution_count": 43,
   "metadata": {},
   "outputs": [
    {
     "data": {
      "text/html": [
       "<h3>Arabidopsis_biomass_tx</h3><p>2.714609903 ARG_c + 2.564148885 ASN_c + 11.08634877 CELLULOSE_c + 0.01804276 CTP_p + 1.131082371 CYS_c + 0.024750183 DATP_p + 0.01467251 DCTP_p + 0.013500265 DGTP_p + 0.025182732 DTTP_c + 0.437452783 FRU_c + 0.671675709 GLC_c + 1.863389867 GLN_c + 4.230769147 GLT_c + 9.940737468 GLY_c + 0.014713221 GTP_c + 1.208386572 HIS_c + 3.265088194 ILE_c + 5.771122439 LEU_c + 3.765488174 LYS_c + 8.384587038 L_ALPHA_ALANINE_c + 3.672600202 L_ASPARTATE_c + 0.0948548 MALTOSE_c + 1.853652418 MAL_c + 1.221859939 MET_c + 0.945065797 PALMITATE_c + 2.423066192 PHE_c + 3.926998465 PRO_c + 5.361376804 SER_c + 9.632401392 STARCH_p + 1.114754905 SUCROSE_c + 4.968250878 THR_c + 0.613239747 TRP_c + 1.709449916 TYR_c + 5.316679553 VAL_c --> </p><p>Bounds: 0.0, 1000.0</p><p>Flux: 0.05273</p>"
      ],
      "text/plain": [
       "<cobra.summary.reaction_summary.ReactionSummary at 0x185f23500>"
      ]
     },
     "execution_count": 43,
     "metadata": {},
     "output_type": "execute_result"
    }
   ],
   "source": [
    "core_model.reactions.get_by_id('Arabidopsis_biomass_tx').summary()\n"
   ]
  },
  {
   "cell_type": "code",
   "execution_count": 44,
   "metadata": {},
   "outputs": [],
   "source": [
    "b=[]\n",
    "a=core_model.reactions.get_by_id('Arabidopsis_biomass_tx').metabolites\n",
    "for key in a:\n",
    "    b.append(a[key])"
   ]
  },
  {
   "cell_type": "code",
   "execution_count": 45,
   "metadata": {},
   "outputs": [],
   "source": [
    "c=[]\n",
    "for i in a:\n",
    "    #print(i)\n",
    "    c.append(core_model.metabolites.get_by_id(i.id).formula_weight)"
   ]
  },
  {
   "cell_type": "code",
   "execution_count": 46,
   "metadata": {},
   "outputs": [],
   "source": [
    "df=pd.DataFrame(b,dtype='float',index=list(a))\n",
    "df.columns=['s']\n",
    "df['for_weight']=c\n",
    "df['weight']=-1*df['for_weight']*df['s']"
   ]
  },
  {
   "cell_type": "code",
   "execution_count": 47,
   "metadata": {},
   "outputs": [
    {
     "data": {
      "text/plain": [
       "13508.510388142166"
      ]
     },
     "execution_count": 47,
     "metadata": {},
     "output_type": "execute_result"
    }
   ],
   "source": [
    "df['weight'].sum()#-20*energy-20*pr"
   ]
  },
  {
   "cell_type": "code",
   "execution_count": 49,
   "metadata": {},
   "outputs": [],
   "source": [
    "df.to_csv('/Users/subasrees/Desktop/old_biomass.csv')"
   ]
  },
  {
   "cell_type": "code",
   "execution_count": 11,
   "metadata": {},
   "outputs": [],
   "source": [
    "#test_model=read_sbml_model('/Users/subasrees/Downloads/AraCore_v2_1.xml')\n",
    "#test_model=read_sbml_model('/Users/subasrees/Desktop/RSmodule/SP RS module/Salmonelle-neutrophil/stress/others/iML1515.xml')\n",
    "test_model=cobra.io.load_matlab_model(join('/Users/subasrees/Desktop/RSmodule/Recon3D_301/Recon3D_301.mat'))\n"
   ]
  },
  {
   "cell_type": "code",
   "execution_count": 3,
   "metadata": {},
   "outputs": [
    {
     "data": {
      "text/html": [
       "<h3>BIOMASS_Ec_iML1515_core_75p37M</h3><p>0.000223 10fthf_c + 2.6e-05 2fe2s_c + 0.000223 2ohph_c + 0.00026 4fe4s_c + 0.513689 ala__L_c + 0.000223 amet_c + 0.295792 arg__L_c + 0.241055 asn__L_c + 0.241055 asp__L_c + 75.55223 atp_c + 2e-06 btn_c + 0.005205 ca2_c + 0.005205 cl_c + 0.000576 coa_c + 2.5e-05 cobalt2_c + 0.133508 ctp_c + 0.000709 cu2_c + 0.09158 cys__L_c + 0.026166 datp_c + 0.027017 dctp_c + 0.027017 dgtp_c + 0.026166 dttp_c + 0.000223 fad_c + 0.006715 fe2_c + 0.007808 fe3_c + 0.26316 gln__L_c + 0.26316 glu__L_c + 0.612638 gly_c + 0.215096 gtp_c + 70.028756 h2o_c + 0.094738 his__L_c + 0.290529 ile__L_c + 0.195193 k_c + 0.019456 kdo2lipid4_e + 0.450531 leu__L_c + 0.343161 lys__L_c + 0.153686 met__L_c + 0.008675 mg2_c + 0.000223 mlthf_c + 0.000691 mn2_c + 7e-06 mobd_c + 0.013894 murein5px4p_p + 0.001831 nad_c + 0.000447 nadp_c + 0.013013 nh4_c + 0.000323 ni2_c + 0.063814 pe160_p + 0.075214 pe161_p + 0.185265 phe__L_c + 0.000223 pheme_c + 0.221055 pro__L_c + 0.000223 pydx5p_c + 0.000223 ribflv_c + 0.215792 ser__L_c + 0.000223 sheme_c + 0.004338 so4_c + 9.8e-05 succoa_c + 0.000223 thf_c + 0.000223 thmpp_c + 0.253687 thr__L_c + 0.056843 trp__L_c + 0.137896 tyr__L_c + 5.5e-05 udcpdp_c + 0.144104 utp_c + 0.423162 val__L_c + 0.000341 zn2_c --> 75.37723 adp_c + 75.37723 h_c + 75.37323 pi_c + 0.773903 ppi_c</p><p>Bounds: 0.0, 1000.0</p><p>Flux: 0.877</p>"
      ],
      "text/plain": [
       "<cobra.summary.reaction_summary.ReactionSummary at 0x7f7f628ed750>"
      ]
     },
     "execution_count": 3,
     "metadata": {},
     "output_type": "execute_result"
    }
   ],
   "source": [
    "test_model.reactions.get_by_id('BIOMASS_Ec_iML1515_core_75p37M').summary()\n",
    "#test_model.reactions.get_by_id('Bio_opt').summary()\n",
    "#test_model.reactions.get_by_id('biomass_reaction').summary()"
   ]
  },
  {
   "cell_type": "code",
   "execution_count": 4,
   "metadata": {},
   "outputs": [],
   "source": [
    "core_model=test_model"
   ]
  },
  {
   "cell_type": "code",
   "execution_count": 5,
   "metadata": {},
   "outputs": [],
   "source": [
    "a=[]\n",
    "a=core_model.reactions.get_by_id('BIOMASS_Ec_iML1515_core_75p37M').reactants\n",
    "#a=core_model.reactions.get_by_id('Bio_opt').reactants\n",
    "#a=core_model.reactions.get_by_id('biomass_maintenance').reactants\n",
    "\n"
   ]
  },
  {
   "cell_type": "code",
   "execution_count": 6,
   "metadata": {},
   "outputs": [],
   "source": [
    "b=[]\n",
    "a=core_model.reactions.get_by_id('BIOMASS_Ec_iML1515_core_75p37M').metabolites\n",
    "for key in a:\n",
    "    b.append(a[key])"
   ]
  },
  {
   "cell_type": "code",
   "execution_count": 7,
   "metadata": {},
   "outputs": [],
   "source": [
    "c=[]\n",
    "for i in a:\n",
    "    #print(i)\n",
    "    c.append(core_model.metabolites.get_by_id(i.id).formula_weight)"
   ]
  },
  {
   "cell_type": "code",
   "execution_count": 8,
   "metadata": {},
   "outputs": [],
   "source": [
    "df=pd.DataFrame(b,dtype='float',index=list(a))\n",
    "df.columns=['s']\n",
    "df['for_weight']=c\n"
   ]
  },
  {
   "cell_type": "code",
   "execution_count": 77,
   "metadata": {},
   "outputs": [],
   "source": [
    "nans=df[df.for_weight.isna()]\n",
    "#nans.loc[:,'for_weight']=[390.23,314.25,299.21,747.0,1493.9,818.1,731.1]\n",
    "nans.loc[:,'for_weight']=[1063.2+853.582,1063.2]"
   ]
  },
  {
   "cell_type": "code",
   "execution_count": 78,
   "metadata": {},
   "outputs": [
    {
     "data": {
      "text/html": [
       "<div>\n",
       "<style scoped>\n",
       "    .dataframe tbody tr th:only-of-type {\n",
       "        vertical-align: middle;\n",
       "    }\n",
       "\n",
       "    .dataframe tbody tr th {\n",
       "        vertical-align: top;\n",
       "    }\n",
       "\n",
       "    .dataframe thead th {\n",
       "        text-align: right;\n",
       "    }\n",
       "</style>\n",
       "<table border=\"1\" class=\"dataframe\">\n",
       "  <thead>\n",
       "    <tr style=\"text-align: right;\">\n",
       "      <th></th>\n",
       "      <th>s</th>\n",
       "      <th>for_weight</th>\n",
       "    </tr>\n",
       "  </thead>\n",
       "  <tbody>\n",
       "    <tr>\n",
       "      <th>M-ACP[h]</th>\n",
       "      <td>-1368.469368</td>\n",
       "      <td>1916.782</td>\n",
       "    </tr>\n",
       "    <tr>\n",
       "      <th>ACP[h]</th>\n",
       "      <td>1368.469368</td>\n",
       "      <td>1063.200</td>\n",
       "    </tr>\n",
       "  </tbody>\n",
       "</table>\n",
       "</div>"
      ],
      "text/plain": [
       "                    s  for_weight\n",
       "M-ACP[h] -1368.469368    1916.782\n",
       "ACP[h]    1368.469368    1063.200"
      ]
     },
     "execution_count": 78,
     "metadata": {},
     "output_type": "execute_result"
    }
   ],
   "source": [
    "nans"
   ]
  },
  {
   "cell_type": "code",
   "execution_count": 79,
   "metadata": {},
   "outputs": [],
   "source": [
    "df[df.for_weight.isna()]=nans"
   ]
  },
  {
   "cell_type": "code",
   "execution_count": 9,
   "metadata": {},
   "outputs": [
    {
     "data": {
      "text/html": [
       "<div>\n",
       "<style scoped>\n",
       "    .dataframe tbody tr th:only-of-type {\n",
       "        vertical-align: middle;\n",
       "    }\n",
       "\n",
       "    .dataframe tbody tr th {\n",
       "        vertical-align: top;\n",
       "    }\n",
       "\n",
       "    .dataframe thead th {\n",
       "        text-align: right;\n",
       "    }\n",
       "</style>\n",
       "<table border=\"1\" class=\"dataframe\">\n",
       "  <thead>\n",
       "    <tr style=\"text-align: right;\">\n",
       "      <th></th>\n",
       "      <th>s</th>\n",
       "      <th>for_weight</th>\n",
       "    </tr>\n",
       "  </thead>\n",
       "  <tbody>\n",
       "    <tr>\n",
       "      <th>10fthf_c</th>\n",
       "      <td>-0.000223</td>\n",
       "      <td>471.423440</td>\n",
       "    </tr>\n",
       "    <tr>\n",
       "      <th>2fe2s_c</th>\n",
       "      <td>-0.000026</td>\n",
       "      <td>175.820000</td>\n",
       "    </tr>\n",
       "    <tr>\n",
       "      <th>2ohph_c</th>\n",
       "      <td>-0.000223</td>\n",
       "      <td>655.046800</td>\n",
       "    </tr>\n",
       "    <tr>\n",
       "      <th>4fe4s_c</th>\n",
       "      <td>-0.000260</td>\n",
       "      <td>351.640000</td>\n",
       "    </tr>\n",
       "    <tr>\n",
       "      <th>ala__L_c</th>\n",
       "      <td>-0.513689</td>\n",
       "      <td>89.093180</td>\n",
       "    </tr>\n",
       "    <tr>\n",
       "      <th>...</th>\n",
       "      <td>...</td>\n",
       "      <td>...</td>\n",
       "    </tr>\n",
       "    <tr>\n",
       "      <th>zn2_c</th>\n",
       "      <td>-0.000341</td>\n",
       "      <td>65.409000</td>\n",
       "    </tr>\n",
       "    <tr>\n",
       "      <th>adp_c</th>\n",
       "      <td>75.377230</td>\n",
       "      <td>424.177302</td>\n",
       "    </tr>\n",
       "    <tr>\n",
       "      <th>h_c</th>\n",
       "      <td>75.377230</td>\n",
       "      <td>1.007940</td>\n",
       "    </tr>\n",
       "    <tr>\n",
       "      <th>pi_c</th>\n",
       "      <td>75.373230</td>\n",
       "      <td>95.979301</td>\n",
       "    </tr>\n",
       "    <tr>\n",
       "      <th>ppi_c</th>\n",
       "      <td>0.773903</td>\n",
       "      <td>174.951262</td>\n",
       "    </tr>\n",
       "  </tbody>\n",
       "</table>\n",
       "<p>70 rows × 2 columns</p>\n",
       "</div>"
      ],
      "text/plain": [
       "                  s  for_weight\n",
       "10fthf_c  -0.000223  471.423440\n",
       "2fe2s_c   -0.000026  175.820000\n",
       "2ohph_c   -0.000223  655.046800\n",
       "4fe4s_c   -0.000260  351.640000\n",
       "ala__L_c  -0.513689   89.093180\n",
       "...             ...         ...\n",
       "zn2_c     -0.000341   65.409000\n",
       "adp_c     75.377230  424.177302\n",
       "h_c       75.377230    1.007940\n",
       "pi_c      75.373230   95.979301\n",
       "ppi_c      0.773903  174.951262\n",
       "\n",
       "[70 rows x 2 columns]"
      ]
     },
     "execution_count": 9,
     "metadata": {},
     "output_type": "execute_result"
    }
   ],
   "source": [
    "df"
   ]
  },
  {
   "cell_type": "code",
   "execution_count": 10,
   "metadata": {},
   "outputs": [
    {
     "data": {
      "text/plain": [
       "999.9382297074776"
      ]
     },
     "execution_count": 10,
     "metadata": {},
     "output_type": "execute_result"
    }
   ],
   "source": [
    "df['weight']=df['for_weight']*(-1*df['s'])\n",
    "(df['weight'].sum())#*100"
   ]
  },
  {
   "cell_type": "code",
   "execution_count": 61,
   "metadata": {},
   "outputs": [
    {
     "name": "stderr",
     "output_type": "stream",
     "text": [
      "/var/folders/yl/47vnp0617dn9zfv19_vrxwjh0000gn/T/ipykernel_85784/2693106283.py:1: FutureWarning: Series.__getitem__ treating keys as positions is deprecated. In a future version, integer keys will always be treated as labels (consistent with DataFrame behavior). To access a value by position, use `ser.iloc[pos]`\n",
      "  energy=df.for_weight[[66,68,59]].sum()\n"
     ]
    },
    {
     "ename": "IndexError",
     "evalue": "positional indexers are out-of-bounds",
     "output_type": "error",
     "traceback": [
      "\u001b[31m---------------------------------------------------------------------------\u001b[39m",
      "\u001b[31mIndexError\u001b[39m                                Traceback (most recent call last)",
      "\u001b[36mFile \u001b[39m\u001b[32m~/Desktop/anaconda3/envs/qiime2-2023.9/lib/python3.12/site-packages/pandas/core/indexing.py:1714\u001b[39m, in \u001b[36m_iLocIndexer._get_list_axis\u001b[39m\u001b[34m(self, key, axis)\u001b[39m\n\u001b[32m   1713\u001b[39m \u001b[38;5;28;01mtry\u001b[39;00m:\n\u001b[32m-> \u001b[39m\u001b[32m1714\u001b[39m     \u001b[38;5;28;01mreturn\u001b[39;00m \u001b[38;5;28;43mself\u001b[39;49m\u001b[43m.\u001b[49m\u001b[43mobj\u001b[49m\u001b[43m.\u001b[49m\u001b[43m_take_with_is_copy\u001b[49m\u001b[43m(\u001b[49m\u001b[43mkey\u001b[49m\u001b[43m,\u001b[49m\u001b[43m \u001b[49m\u001b[43maxis\u001b[49m\u001b[43m=\u001b[49m\u001b[43maxis\u001b[49m\u001b[43m)\u001b[49m\n\u001b[32m   1715\u001b[39m \u001b[38;5;28;01mexcept\u001b[39;00m \u001b[38;5;167;01mIndexError\u001b[39;00m \u001b[38;5;28;01mas\u001b[39;00m err:\n\u001b[32m   1716\u001b[39m     \u001b[38;5;66;03m# re-raise with different error message, e.g. test_getitem_ndarray_3d\u001b[39;00m\n",
      "\u001b[36mFile \u001b[39m\u001b[32m~/Desktop/anaconda3/envs/qiime2-2023.9/lib/python3.12/site-packages/pandas/core/generic.py:4153\u001b[39m, in \u001b[36mNDFrame._take_with_is_copy\u001b[39m\u001b[34m(self, indices, axis)\u001b[39m\n\u001b[32m   4144\u001b[39m \u001b[38;5;250m\u001b[39m\u001b[33;03m\"\"\"\u001b[39;00m\n\u001b[32m   4145\u001b[39m \u001b[33;03mInternal version of the `take` method that sets the `_is_copy`\u001b[39;00m\n\u001b[32m   4146\u001b[39m \u001b[33;03mattribute to keep track of the parent dataframe (using in indexing\u001b[39;00m\n\u001b[32m   (...)\u001b[39m\u001b[32m   4151\u001b[39m \u001b[33;03mSee the docstring of `take` for full explanation of the parameters.\u001b[39;00m\n\u001b[32m   4152\u001b[39m \u001b[33;03m\"\"\"\u001b[39;00m\n\u001b[32m-> \u001b[39m\u001b[32m4153\u001b[39m result = \u001b[38;5;28;43mself\u001b[39;49m\u001b[43m.\u001b[49m\u001b[43mtake\u001b[49m\u001b[43m(\u001b[49m\u001b[43mindices\u001b[49m\u001b[43m=\u001b[49m\u001b[43mindices\u001b[49m\u001b[43m,\u001b[49m\u001b[43m \u001b[49m\u001b[43maxis\u001b[49m\u001b[43m=\u001b[49m\u001b[43maxis\u001b[49m\u001b[43m)\u001b[49m\n\u001b[32m   4154\u001b[39m \u001b[38;5;66;03m# Maybe set copy if we didn't actually change the index.\u001b[39;00m\n",
      "\u001b[36mFile \u001b[39m\u001b[32m~/Desktop/anaconda3/envs/qiime2-2023.9/lib/python3.12/site-packages/pandas/core/generic.py:4133\u001b[39m, in \u001b[36mNDFrame.take\u001b[39m\u001b[34m(self, indices, axis, **kwargs)\u001b[39m\n\u001b[32m   4129\u001b[39m     indices = np.arange(\n\u001b[32m   4130\u001b[39m         indices.start, indices.stop, indices.step, dtype=np.intp\n\u001b[32m   4131\u001b[39m     )\n\u001b[32m-> \u001b[39m\u001b[32m4133\u001b[39m new_data = \u001b[38;5;28;43mself\u001b[39;49m\u001b[43m.\u001b[49m\u001b[43m_mgr\u001b[49m\u001b[43m.\u001b[49m\u001b[43mtake\u001b[49m\u001b[43m(\u001b[49m\n\u001b[32m   4134\u001b[39m \u001b[43m    \u001b[49m\u001b[43mindices\u001b[49m\u001b[43m,\u001b[49m\n\u001b[32m   4135\u001b[39m \u001b[43m    \u001b[49m\u001b[43maxis\u001b[49m\u001b[43m=\u001b[49m\u001b[38;5;28;43mself\u001b[39;49m\u001b[43m.\u001b[49m\u001b[43m_get_block_manager_axis\u001b[49m\u001b[43m(\u001b[49m\u001b[43maxis\u001b[49m\u001b[43m)\u001b[49m\u001b[43m,\u001b[49m\n\u001b[32m   4136\u001b[39m \u001b[43m    \u001b[49m\u001b[43mverify\u001b[49m\u001b[43m=\u001b[49m\u001b[38;5;28;43;01mTrue\u001b[39;49;00m\u001b[43m,\u001b[49m\n\u001b[32m   4137\u001b[39m \u001b[43m\u001b[49m\u001b[43m)\u001b[49m\n\u001b[32m   4138\u001b[39m \u001b[38;5;28;01mreturn\u001b[39;00m \u001b[38;5;28mself\u001b[39m._constructor_from_mgr(new_data, axes=new_data.axes).__finalize__(\n\u001b[32m   4139\u001b[39m     \u001b[38;5;28mself\u001b[39m, method=\u001b[33m\"\u001b[39m\u001b[33mtake\u001b[39m\u001b[33m\"\u001b[39m\n\u001b[32m   4140\u001b[39m )\n",
      "\u001b[36mFile \u001b[39m\u001b[32m~/Desktop/anaconda3/envs/qiime2-2023.9/lib/python3.12/site-packages/pandas/core/internals/managers.py:891\u001b[39m, in \u001b[36mBaseBlockManager.take\u001b[39m\u001b[34m(self, indexer, axis, verify)\u001b[39m\n\u001b[32m    890\u001b[39m n = \u001b[38;5;28mself\u001b[39m.shape[axis]\n\u001b[32m--> \u001b[39m\u001b[32m891\u001b[39m indexer = \u001b[43mmaybe_convert_indices\u001b[49m\u001b[43m(\u001b[49m\u001b[43mindexer\u001b[49m\u001b[43m,\u001b[49m\u001b[43m \u001b[49m\u001b[43mn\u001b[49m\u001b[43m,\u001b[49m\u001b[43m \u001b[49m\u001b[43mverify\u001b[49m\u001b[43m=\u001b[49m\u001b[43mverify\u001b[49m\u001b[43m)\u001b[49m\n\u001b[32m    893\u001b[39m new_labels = \u001b[38;5;28mself\u001b[39m.axes[axis].take(indexer)\n",
      "\u001b[36mFile \u001b[39m\u001b[32m~/Desktop/anaconda3/envs/qiime2-2023.9/lib/python3.12/site-packages/pandas/core/indexers/utils.py:282\u001b[39m, in \u001b[36mmaybe_convert_indices\u001b[39m\u001b[34m(indices, n, verify)\u001b[39m\n\u001b[32m    281\u001b[39m     \u001b[38;5;28;01mif\u001b[39;00m mask.any():\n\u001b[32m--> \u001b[39m\u001b[32m282\u001b[39m         \u001b[38;5;28;01mraise\u001b[39;00m \u001b[38;5;167;01mIndexError\u001b[39;00m(\u001b[33m\"\u001b[39m\u001b[33mindices are out-of-bounds\u001b[39m\u001b[33m\"\u001b[39m)\n\u001b[32m    283\u001b[39m \u001b[38;5;28;01mreturn\u001b[39;00m indices\n",
      "\u001b[31mIndexError\u001b[39m: indices are out-of-bounds",
      "\nThe above exception was the direct cause of the following exception:\n",
      "\u001b[31mIndexError\u001b[39m                                Traceback (most recent call last)",
      "\u001b[36mCell\u001b[39m\u001b[36m \u001b[39m\u001b[32mIn[61]\u001b[39m\u001b[32m, line 1\u001b[39m\n\u001b[32m----> \u001b[39m\u001b[32m1\u001b[39m energy=\u001b[43mdf\u001b[49m\u001b[43m.\u001b[49m\u001b[43mfor_weight\u001b[49m\u001b[43m[\u001b[49m\u001b[43m[\u001b[49m\u001b[32;43m66\u001b[39;49m\u001b[43m,\u001b[49m\u001b[32;43m68\u001b[39;49m\u001b[43m,\u001b[49m\u001b[32;43m59\u001b[39;49m\u001b[43m]\u001b[49m\u001b[43m]\u001b[49m.sum()\n\u001b[32m      2\u001b[39m pr=df.for_weight[[\u001b[32m67\u001b[39m]].sum()\n\u001b[32m      3\u001b[39m pr\n",
      "\u001b[36mFile \u001b[39m\u001b[32m~/Desktop/anaconda3/envs/qiime2-2023.9/lib/python3.12/site-packages/pandas/core/series.py:1153\u001b[39m, in \u001b[36mSeries.__getitem__\u001b[39m\u001b[34m(self, key)\u001b[39m\n\u001b[32m   1150\u001b[39m     key = np.asarray(key, dtype=\u001b[38;5;28mbool\u001b[39m)\n\u001b[32m   1151\u001b[39m     \u001b[38;5;28;01mreturn\u001b[39;00m \u001b[38;5;28mself\u001b[39m._get_rows_with_mask(key)\n\u001b[32m-> \u001b[39m\u001b[32m1153\u001b[39m \u001b[38;5;28;01mreturn\u001b[39;00m \u001b[38;5;28;43mself\u001b[39;49m\u001b[43m.\u001b[49m\u001b[43m_get_with\u001b[49m\u001b[43m(\u001b[49m\u001b[43mkey\u001b[49m\u001b[43m)\u001b[49m\n",
      "\u001b[36mFile \u001b[39m\u001b[32m~/Desktop/anaconda3/envs/qiime2-2023.9/lib/python3.12/site-packages/pandas/core/series.py:1191\u001b[39m, in \u001b[36mSeries._get_with\u001b[39m\u001b[34m(self, key)\u001b[39m\n\u001b[32m   1181\u001b[39m     \u001b[38;5;28;01melse\u001b[39;00m:\n\u001b[32m   1182\u001b[39m         warnings.warn(\n\u001b[32m   1183\u001b[39m             \u001b[38;5;66;03m# GH#50617\u001b[39;00m\n\u001b[32m   1184\u001b[39m             \u001b[33m\"\u001b[39m\u001b[33mSeries.__getitem__ treating keys as positions is deprecated. \u001b[39m\u001b[33m\"\u001b[39m\n\u001b[32m   (...)\u001b[39m\u001b[32m   1189\u001b[39m             stacklevel=find_stack_level(),\n\u001b[32m   1190\u001b[39m         )\n\u001b[32m-> \u001b[39m\u001b[32m1191\u001b[39m         \u001b[38;5;28;01mreturn\u001b[39;00m \u001b[38;5;28;43mself\u001b[39;49m\u001b[43m.\u001b[49m\u001b[43miloc\u001b[49m\u001b[43m[\u001b[49m\u001b[43mkey\u001b[49m\u001b[43m]\u001b[49m\n\u001b[32m   1193\u001b[39m \u001b[38;5;66;03m# handle the dup indexing case GH#4246\u001b[39;00m\n\u001b[32m   1194\u001b[39m \u001b[38;5;28;01mreturn\u001b[39;00m \u001b[38;5;28mself\u001b[39m.loc[key]\n",
      "\u001b[36mFile \u001b[39m\u001b[32m~/Desktop/anaconda3/envs/qiime2-2023.9/lib/python3.12/site-packages/pandas/core/indexing.py:1191\u001b[39m, in \u001b[36m_LocationIndexer.__getitem__\u001b[39m\u001b[34m(self, key)\u001b[39m\n\u001b[32m   1189\u001b[39m maybe_callable = com.apply_if_callable(key, \u001b[38;5;28mself\u001b[39m.obj)\n\u001b[32m   1190\u001b[39m maybe_callable = \u001b[38;5;28mself\u001b[39m._check_deprecated_callable_usage(key, maybe_callable)\n\u001b[32m-> \u001b[39m\u001b[32m1191\u001b[39m \u001b[38;5;28;01mreturn\u001b[39;00m \u001b[38;5;28;43mself\u001b[39;49m\u001b[43m.\u001b[49m\u001b[43m_getitem_axis\u001b[49m\u001b[43m(\u001b[49m\u001b[43mmaybe_callable\u001b[49m\u001b[43m,\u001b[49m\u001b[43m \u001b[49m\u001b[43maxis\u001b[49m\u001b[43m=\u001b[49m\u001b[43maxis\u001b[49m\u001b[43m)\u001b[49m\n",
      "\u001b[36mFile \u001b[39m\u001b[32m~/Desktop/anaconda3/envs/qiime2-2023.9/lib/python3.12/site-packages/pandas/core/indexing.py:1743\u001b[39m, in \u001b[36m_iLocIndexer._getitem_axis\u001b[39m\u001b[34m(self, key, axis)\u001b[39m\n\u001b[32m   1741\u001b[39m \u001b[38;5;66;03m# a list of integers\u001b[39;00m\n\u001b[32m   1742\u001b[39m \u001b[38;5;28;01melif\u001b[39;00m is_list_like_indexer(key):\n\u001b[32m-> \u001b[39m\u001b[32m1743\u001b[39m     \u001b[38;5;28;01mreturn\u001b[39;00m \u001b[38;5;28;43mself\u001b[39;49m\u001b[43m.\u001b[49m\u001b[43m_get_list_axis\u001b[49m\u001b[43m(\u001b[49m\u001b[43mkey\u001b[49m\u001b[43m,\u001b[49m\u001b[43m \u001b[49m\u001b[43maxis\u001b[49m\u001b[43m=\u001b[49m\u001b[43maxis\u001b[49m\u001b[43m)\u001b[49m\n\u001b[32m   1745\u001b[39m \u001b[38;5;66;03m# a single integer\u001b[39;00m\n\u001b[32m   1746\u001b[39m \u001b[38;5;28;01melse\u001b[39;00m:\n\u001b[32m   1747\u001b[39m     key = item_from_zerodim(key)\n",
      "\u001b[36mFile \u001b[39m\u001b[32m~/Desktop/anaconda3/envs/qiime2-2023.9/lib/python3.12/site-packages/pandas/core/indexing.py:1717\u001b[39m, in \u001b[36m_iLocIndexer._get_list_axis\u001b[39m\u001b[34m(self, key, axis)\u001b[39m\n\u001b[32m   1714\u001b[39m     \u001b[38;5;28;01mreturn\u001b[39;00m \u001b[38;5;28mself\u001b[39m.obj._take_with_is_copy(key, axis=axis)\n\u001b[32m   1715\u001b[39m \u001b[38;5;28;01mexcept\u001b[39;00m \u001b[38;5;167;01mIndexError\u001b[39;00m \u001b[38;5;28;01mas\u001b[39;00m err:\n\u001b[32m   1716\u001b[39m     \u001b[38;5;66;03m# re-raise with different error message, e.g. test_getitem_ndarray_3d\u001b[39;00m\n\u001b[32m-> \u001b[39m\u001b[32m1717\u001b[39m     \u001b[38;5;28;01mraise\u001b[39;00m \u001b[38;5;167;01mIndexError\u001b[39;00m(\u001b[33m\"\u001b[39m\u001b[33mpositional indexers are out-of-bounds\u001b[39m\u001b[33m\"\u001b[39m) \u001b[38;5;28;01mfrom\u001b[39;00m \u001b[34;01merr\u001b[39;00m\n",
      "\u001b[31mIndexError\u001b[39m: positional indexers are out-of-bounds"
     ]
    }
   ],
   "source": [
    "energy=df.for_weight[[66,68,59]].sum()\n",
    "pr=df.for_weight[[67]].sum()\n",
    "pr"
   ]
  },
  {
   "cell_type": "code",
   "execution_count": 91,
   "metadata": {},
   "outputs": [
    {
     "data": {
      "text/html": [
       "\n",
       "        <table>\n",
       "            <tr>\n",
       "                <td><strong>Metabolite identifier</strong></td><td>M-ACP[h]</td>\n",
       "            </tr><tr>\n",
       "                <td><strong>Name</strong></td><td>Malonyl-acyl-carrier-protein</td>\n",
       "            </tr><tr>\n",
       "                <td><strong>Memory address</strong></td>\n",
       "                <td>0x1829351f0</td>\n",
       "            </tr><tr>\n",
       "                <td><strong>Formula</strong></td><td>C3H2O3SR</td>\n",
       "            </tr><tr>\n",
       "                <td><strong>Compartment</strong></td><td>h</td>\n",
       "            </tr><tr>\n",
       "                <td><strong>In 5 reaction(s)</strong></td><td>\n",
       "                    Bio_opt, Bio_CLim, ACPM_h, Ex_MACP, Bio_NLim\n",
       "                    </td>\n",
       "            </tr>\n",
       "        </table>"
      ],
      "text/plain": [
       "<Metabolite M-ACP[h] at 0x1829351f0>"
      ]
     },
     "execution_count": 91,
     "metadata": {},
     "output_type": "execute_result"
    }
   ],
   "source": [
    "core_model.metabolites.get_by_id('M-ACP[h]')"
   ]
  }
 ],
 "metadata": {
  "kernelspec": {
   "display_name": "Mackinac_Python27",
   "language": "python",
   "name": "mackinac_python27"
  },
  "language_info": {
   "codemirror_mode": {
    "name": "ipython",
    "version": 3
   },
   "file_extension": ".py",
   "mimetype": "text/x-python",
   "name": "python",
   "nbconvert_exporter": "python",
   "pygments_lexer": "ipython3",
   "version": "3.7.9"
  },
  "orig_nbformat": 4
 },
 "nbformat": 4,
 "nbformat_minor": 2
}
