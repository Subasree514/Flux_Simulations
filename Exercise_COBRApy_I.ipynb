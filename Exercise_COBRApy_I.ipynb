{
 "cells": [
  {
   "cell_type": "markdown",
   "metadata": {},
   "source": [
    "# Constraint-based modelling with COBRApy\n",
    "## PART I\n",
    "#### Tiago Machado & Nadine Topfer"
   ]
  },
  {
   "cell_type": "markdown",
   "metadata": {},
   "source": [
    "## Part 1 - Loading and initial exploration of a generic model of plant metabolism"
   ]
  },
  {
   "cell_type": "markdown",
   "metadata": {},
   "source": [
    "### 1.1 - Load the model into a COBRApy object"
   ]
  },
  {
   "cell_type": "code",
   "execution_count": 1,
   "metadata": {},
   "outputs": [],
   "source": [
    "from cobra.io import read_sbml_model\n",
    "\n",
    "core_model = read_sbml_model('PlantCoreMetabolism_v2_0_0.xml')"
   ]
  },
  {
   "cell_type": "markdown",
   "metadata": {},
   "source": [
    "### 1.2 - How many metabolites does the model contain?"
   ]
  },
  {
   "cell_type": "code",
   "execution_count": 2,
   "metadata": {},
   "outputs": [
    {
     "name": "stdout",
     "output_type": "stream",
     "text": [
      "The model contains 861 metabolites.\n"
     ]
    }
   ],
   "source": [
    "print(\"The model contains {} metabolites.\".format(len(core_model.metabolites)))"
   ]
  },
  {
   "cell_type": "markdown",
   "metadata": {},
   "source": [
    "### 1.3 - How many reactions does the model contain?"
   ]
  },
  {
   "cell_type": "code",
   "execution_count": 3,
   "metadata": {},
   "outputs": [
    {
     "name": "stdout",
     "output_type": "stream",
     "text": [
      "The model contains 892 reactions.\n"
     ]
    }
   ],
   "source": [
    "print(\"The model contains {} reactions.\".format(len(core_model.reactions)))"
   ]
  },
  {
   "cell_type": "markdown",
   "metadata": {},
   "source": [
    "### 1.4 - How many exchange (boundary) reactions does the model contain?"
   ]
  },
  {
   "cell_type": "code",
   "execution_count": 4,
   "metadata": {},
   "outputs": [
    {
     "name": "stdout",
     "output_type": "stream",
     "text": [
      "The model contains 13 exchange reactions.\n"
     ]
    }
   ],
   "source": [
    "print(\"The model contains {} exchange reactions.\".format(len(core_model.medium)))"
   ]
  },
  {
   "cell_type": "markdown",
   "metadata": {},
   "source": [
    "### 1.5 - What is the reaction ID of the objective function"
   ]
  },
  {
   "cell_type": "code",
   "execution_count": 5,
   "metadata": {},
   "outputs": [
    {
     "name": "stdout",
     "output_type": "stream",
     "text": [
      "The ID of the objective funtion reaction is Phloem_output_tx.\n"
     ]
    }
   ],
   "source": [
    "import cobra\n",
    "\n",
    "objective_name = list(cobra.util.linear_reaction_coefficients(core_model).keys())[0].id\n",
    "\n",
    "print(\"The ID of the objective funtion reaction is {}.\".format(objective_name))"
   ]
  },
  {
   "cell_type": "markdown",
   "metadata": {},
   "source": [
    "## Part 2 - Model Simulation"
   ]
  },
  {
   "cell_type": "markdown",
   "metadata": {},
   "source": [
    "### 2.1 - What is the default solver being used to perform linear optimization?"
   ]
  },
  {
   "cell_type": "code",
   "execution_count": 6,
   "metadata": {},
   "outputs": [
    {
     "name": "stdout",
     "output_type": "stream",
     "text": [
      "The solver used by default by the model is glpk.\n"
     ]
    }
   ],
   "source": [
    "print(\"The solver used by default by the model is {}.\".format(cobra.util.solver.get_solver_name(core_model)))"
   ]
  },
  {
   "cell_type": "markdown",
   "metadata": {},
   "source": [
    "### 2.2 - Perform a FBA simulation with the model using the default parameters"
   ]
  },
  {
   "cell_type": "code",
   "execution_count": 7,
   "metadata": {},
   "outputs": [],
   "source": [
    "FBA_1 = core_model.optimize()"
   ]
  },
  {
   "cell_type": "markdown",
   "metadata": {},
   "source": [
    "#### 2.2.1 - What is the flux value of the objective function reaction?"
   ]
  },
  {
   "cell_type": "code",
   "execution_count": 8,
   "metadata": {},
   "outputs": [
    {
     "name": "stdout",
     "output_type": "stream",
     "text": [
      "The objective function flux value is: 519.2432828257128 micromol m-2 s-1.\n"
     ]
    }
   ],
   "source": [
    "print(\"The objective function flux value is: {} micromol m-2 s-1.\".format(FBA_1.objective_value))"
   ]
  },
  {
   "cell_type": "markdown",
   "metadata": {},
   "source": [
    "#### 2.2.2 What is the reaction ID of the photon uptake reaction? And what is the corresponding flux value?"
   ]
  },
  {
   "cell_type": "code",
   "execution_count": 9,
   "metadata": {},
   "outputs": [
    {
     "data": {
      "text/html": [
       "<h3>Objective</h3><p>1.0 Phloem_output_tx = 519.2432828257135</p><h4>Uptake</h4><table border=\"1\" class=\"dataframe\">\n",
       "  <thead>\n",
       "    <tr style=\"text-align: right;\">\n",
       "      <th>Metabolite</th>\n",
       "      <th>Reaction</th>\n",
       "      <th>Flux</th>\n",
       "      <th>C-Number</th>\n",
       "      <th>C-Flux</th>\n",
       "    </tr>\n",
       "  </thead>\n",
       "  <tbody>\n",
       "    <tr>\n",
       "      <td>CARBON_DIOXIDE_e</td>\n",
       "      <td>CO2_tx</td>\n",
       "      <td>3.13</td>\n",
       "      <td>1</td>\n",
       "      <td>0.06%</td>\n",
       "    </tr>\n",
       "    <tr>\n",
       "      <td>AMMONIUM_e</td>\n",
       "      <td>NH4_tx</td>\n",
       "      <td>56.87</td>\n",
       "      <td>0</td>\n",
       "      <td>0.00%</td>\n",
       "    </tr>\n",
       "    <tr>\n",
       "      <td>OXYGEN_MOLECULE_e</td>\n",
       "      <td>O2_tx</td>\n",
       "      <td>1.491</td>\n",
       "      <td>0</td>\n",
       "      <td>0.00%</td>\n",
       "    </tr>\n",
       "    <tr>\n",
       "      <td>Photon_e</td>\n",
       "      <td>Photon_tx</td>\n",
       "      <td>1000</td>\n",
       "      <td>0</td>\n",
       "      <td>0.00%</td>\n",
       "    </tr>\n",
       "    <tr>\n",
       "      <td>SULFATE_e</td>\n",
       "      <td>SO4_tx</td>\n",
       "      <td>0.4348</td>\n",
       "      <td>0</td>\n",
       "      <td>0.00%</td>\n",
       "    </tr>\n",
       "    <tr>\n",
       "      <td>SUCROSE_e</td>\n",
       "      <td>Sucrose_tx</td>\n",
       "      <td>435.8</td>\n",
       "      <td>12</td>\n",
       "      <td>99.94%</td>\n",
       "    </tr>\n",
       "  </tbody>\n",
       "</table><h4>Secretion</h4><table border=\"1\" class=\"dataframe\">\n",
       "  <thead>\n",
       "    <tr style=\"text-align: right;\">\n",
       "      <th>Metabolite</th>\n",
       "      <th>Reaction</th>\n",
       "      <th>Flux</th>\n",
       "      <th>C-Number</th>\n",
       "      <th>C-Flux</th>\n",
       "    </tr>\n",
       "  </thead>\n",
       "  <tbody>\n",
       "    <tr>\n",
       "      <td>WATER_e</td>\n",
       "      <td>H2O_tx</td>\n",
       "      <td>-36.78</td>\n",
       "      <td>0</td>\n",
       "      <td>0.00%</td>\n",
       "    </tr>\n",
       "    <tr>\n",
       "      <td>PROTON_e</td>\n",
       "      <td>H_tx</td>\n",
       "      <td>-64.21</td>\n",
       "      <td>0</td>\n",
       "      <td>0.00%</td>\n",
       "    </tr>\n",
       "  </tbody>\n",
       "</table>"
      ],
      "text/plain": [
       "<cobra.summary.model_summary.ModelSummary at 0x7ff5851059c0>"
      ]
     },
     "execution_count": 9,
     "metadata": {},
     "output_type": "execute_result"
    }
   ],
   "source": [
    "core_model.summary()"
   ]
  },
  {
   "cell_type": "code",
   "execution_count": 10,
   "metadata": {},
   "outputs": [
    {
     "data": {
      "text/plain": [
       "[<Reaction Photon_tx at 0x7ff5858dd2a0>]"
      ]
     },
     "execution_count": 10,
     "metadata": {},
     "output_type": "execute_result"
    }
   ],
   "source": [
    "core_model.reactions.query(\"Photon_tx\")"
   ]
  },
  {
   "cell_type": "code",
   "execution_count": 11,
   "metadata": {},
   "outputs": [
    {
     "name": "stdout",
     "output_type": "stream",
     "text": [
      "The photon uptake reaction ID is Photon_tx. The reaction flux value is 1000.0 micromol m-2 s-1.\n"
     ]
    }
   ],
   "source": [
    "print(\"The photon uptake reaction ID is {}. The reaction flux value is {} micromol m-2 s-1.\".format(core_model.reactions.query(\"Photon_tx\")[0].id ,FBA_1.fluxes[\"Photon_tx\"] ))"
   ]
  },
  {
   "cell_type": "markdown",
   "metadata": {},
   "source": [
    "### 2.3 - Obtain a flux solution of an autotrophic growth state using FBA."
   ]
  },
  {
   "cell_type": "code",
   "execution_count": 12,
   "metadata": {},
   "outputs": [
    {
     "data": {
      "text/plain": [
       "{'Ca_tx': 1000.0,\n",
       " 'Photon_tx': 1000.0,\n",
       " 'Sucrose_tx': 1000.0,\n",
       " 'H2O_tx': 1000.0,\n",
       " 'CO2_tx': 1000.0,\n",
       " 'O2_tx': 1000.0,\n",
       " 'Pi_tx': 1000.0,\n",
       " 'Mg_tx': 1000.0,\n",
       " 'Nitrate_tx': 1000.0,\n",
       " 'SO4_tx': 1000.0,\n",
       " 'NH4_tx': 1000.0,\n",
       " 'K_tx': 1000.0,\n",
       " 'GLC_tx': 1000.0}"
      ]
     },
     "execution_count": 12,
     "metadata": {},
     "output_type": "execute_result"
    }
   ],
   "source": [
    "core_model.medium"
   ]
  },
  {
   "cell_type": "code",
   "execution_count": 13,
   "metadata": {},
   "outputs": [
    {
     "name": "stdout",
     "output_type": "stream",
     "text": [
      "Objective\n",
      "=========\n",
      "1.0 Phloem_output_tx = 11.568586740088755\n",
      "\n",
      "Uptake\n",
      "------\n",
      "      Metabolite  Reaction     Flux  C-Number  C-Flux\n",
      "CARBON_DIOXIDE_e    CO2_tx    116.6         1 100.00%\n",
      "         WATER_e    H2O_tx      106         0   0.00%\n",
      "      AMMONIUM_e    NH4_tx    1.267         0   0.00%\n",
      "        Photon_e Photon_tx     1000         0   0.00%\n",
      "       SULFATE_e    SO4_tx 0.009687         0   0.00%\n",
      "\n",
      "Secretion\n",
      "---------\n",
      "       Metabolite Reaction   Flux  C-Number C-Flux\n",
      "         PROTON_e     H_tx -1.431         0  0.00%\n",
      "OXYGEN_MOLECULE_e    O2_tx -116.5         0  0.00%\n",
      "\n"
     ]
    }
   ],
   "source": [
    "from cobra import flux_analysis\n",
    "\n",
    "with core_model:\n",
    "    medium = core_model.medium\n",
    "    medium[\"GLC_tx\"] = 0.0\n",
    "    medium[\"Sucrose_tx\"] = 0.0\n",
    "    core_model.medium = medium\n",
    "    print(core_model.summary())"
   ]
  },
  {
   "cell_type": "markdown",
   "metadata": {},
   "source": [
    "### 2.4 - Perform a FBA simulation and obtain a flux solution using the parameters described below:\n",
    "\n",
    "* Autotrophic growth conditions;\n",
    "* Maximum CO2 uptake must be 20 micromol m-2 s-1;\n",
    "* Uptake of NH4+ must be blocked;\n",
    "* Maximum NO3- uptake must be 3 micromol m-2 s-1."
   ]
  },
  {
   "cell_type": "code",
   "execution_count": 14,
   "metadata": {},
   "outputs": [
    {
     "name": "stdout",
     "output_type": "stream",
     "text": [
      "Objective\n",
      "=========\n",
      "1.0 Phloem_output_tx = 1.4884360939624028\n",
      "\n",
      "Uptake\n",
      "------\n",
      "      Metabolite      Reaction     Flux  C-Number  C-Flux\n",
      "CARBON_DIOXIDE_e        CO2_tx       15         1 100.00%\n",
      "         WATER_e        H2O_tx     13.8         0   0.00%\n",
      "       NITRATE_e    Nitrate_tx    0.163         0   0.00%\n",
      "        Photon_e     Photon_tx    132.6         0   0.00%\n",
      "       SULFATE_e        SO4_tx 0.001246         0   0.00%\n",
      "        PROTON_c unlProtHYPO_c    0.142         0   0.00%\n",
      "\n",
      "Secretion\n",
      "---------\n",
      "       Metabolite Reaction   Flux  C-Number C-Flux\n",
      "OXYGEN_MOLECULE_e    O2_tx -15.31         0  0.00%\n",
      "\n"
     ]
    }
   ],
   "source": [
    "with core_model:\n",
    "    medium = core_model.medium\n",
    "    medium[\"GLC_tx\"] = 0.0\n",
    "    medium[\"Sucrose_tx\"] = 0.0\n",
    "    medium[\"CO2_tx\"] = 15\n",
    "    medium[\"Nitrate_tx\"] = 1\n",
    "    medium[\"NH4_tx\"] = 0\n",
    "    core_model.medium = medium\n",
    "    print(core_model.summary())"
   ]
  },
  {
   "cell_type": "markdown",
   "metadata": {},
   "source": [
    "#### 2.4.1 - What is the flux value of the objective function reaction?"
   ]
  },
  {
   "cell_type": "code",
   "execution_count": 15,
   "metadata": {},
   "outputs": [
    {
     "name": "stdout",
     "output_type": "stream",
     "text": [
      "The objective function flux value is: 1.4884360939624042 micromol m-2 s-1\n"
     ]
    }
   ],
   "source": [
    "with core_model:\n",
    "    medium = core_model.medium\n",
    "    medium[\"GLC_tx\"] = 0.0\n",
    "    medium[\"Sucrose_tx\"] = 0.0\n",
    "    medium[\"CO2_tx\"] = 15\n",
    "    medium[\"Nitrate_tx\"] = 1\n",
    "    medium[\"NH4_tx\"] = 0\n",
    "    core_model.medium = medium\n",
    "    solution =core_model.optimize()\n",
    "    print(\"The objective function flux value is: {} micromol m-2 s-1\".format(solution.fluxes[\"Phloem_output_tx\"]))"
   ]
  },
  {
   "cell_type": "markdown",
   "metadata": {},
   "source": [
    "#### 2.4.2 - Change the objective function to the “AraCore_Biomass_tx” reaction. Perform the FBA simulation like described in 3.2. What is the flux value of the new objective function reaction?"
   ]
  },
  {
   "cell_type": "code",
   "execution_count": null,
   "metadata": {},
   "outputs": [],
   "source": [
    "Photon_uptake = [0, 100, 200, 300, 400, 500]\n",
    "\n",
    "Biomass = []\n",
    "\n",
    "for flux_bound in Photon_uptake:\n",
    "    with core_model:\n",
    "        core_model.objective = 'AraCore_Biomass_tx'\n",
    "        medium = core_model.medium\n",
    "        medium[\"GLC_tx\"] = 0.0\n",
    "        medium[\"Sucrose_tx\"] = 0.0\n",
    "        medium[\"CO2_tx\"] = 15\n",
    "        medium[\"Nitrate_tx\"] = 1\n",
    "        medium[\"NH4_tx\"] = 0\n",
    "        core_model.medium = medium\n",
    "        core_model.reactions.Photon_tx.bounds = (flux_bound, flux_bound) #Change upper and lower bound\n",
    "        solution = core_model.optimize()\n",
    "        Biomass.append(solution.fluxes[\"AraCore_Biomass_tx\"])"
   ]
  },
  {
   "cell_type": "code",
   "execution_count": 17,
   "metadata": {},
   "outputs": [
    {
     "data": {
      "image/png": "[encoded data removed]",
      "text/plain": [
       "<Figure size 640x480 with 1 Axes>"
      ]
     },
     "metadata": {},
     "output_type": "display_data"
    }
   ],
   "source": [
    "import seaborn as sns\n",
    "import matplotlib.pyplot as plt\n",
    "\n",
    "ax = sns.lineplot(x = Photon_uptake, y = Biomass, color = 'red')\n",
    "ax.set(xlabel= 'Photon Uptake \\n  $\\u03BC mol\\, \\mathregular{m^{-2} \\, s^{-1}}$', \n",
    "ylabel= \"Biomass Production \\n $\\u03BC mol\\, \\mathregular{m^{-2} \\, s^{-1}}$\")\n",
    "ax.set_title('Biomass Production as a function of Light Uptake', fontsize=16, pad = 20, ha='center' )\n",
    "plt.show()"
   ]
  },
  {
   "cell_type": "markdown",
   "metadata": {},
   "source": [
    "## Bonus Questions"
   ]
  },
  {
   "cell_type": "markdown",
   "metadata": {},
   "source": [
    "### 1 - Do the constraints described in 2.4 make sense from a biological point of view? Please justify your answer."
   ]
  },
  {
   "cell_type": "markdown",
   "metadata": {},
   "source": [
    "The metabolic process for ammonia assimilation is less metabolically expensive than the one for nitrate assimilation. Therefore, the FBA simulation will always choose to uptake nitrogen in the form of ammonium, despite plants assimilating most of the nitrogen in the form of nitrate, hence ammonium assimilation being blocked for this exercise. In nature, the medium in which plants grow (i.e the soil) does not contain unlimited nutrients. Therefore growth conditions in which there exists resource limitation, such as implemented in the exercise for carbon and nitrogen allow us to achieve more biologically realistic flux solutions. The implemented constraints therefore make sense from a biological prespective."
   ]
  },
  {
   "cell_type": "markdown",
   "metadata": {},
   "source": [
    "### 2 - What database are the model reaction IDs based on?"
   ]
  },
  {
   "cell_type": "markdown",
   "metadata": {},
   "source": [
    "The model reaction IDs are based on Metacyc."
   ]
  }
 ],
 "metadata": {
  "kernelspec": {
   "display_name": "qbio",
   "language": "python",
   "name": "python3"
  },
  "language_info": {
   "codemirror_mode": {
    "name": "ipython",
    "version": 3
   },
   "file_extension": ".py",
   "mimetype": "text/x-python",
   "name": "python",
   "nbconvert_exporter": "python",
   "pygments_lexer": "ipython3",
   "version": "3.7.12"
  }
 },
 "nbformat": 4,
 "nbformat_minor": 4
}
